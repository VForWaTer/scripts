{
 "cells": [
  {
   "cell_type": "markdown",
   "metadata": {},
   "source": [
    "\n",
    "# RADOLAN RW download and upload to metacatalog, including creation of metadata\n",
    "\n",
    "This is the final solution, using `radolan_to_netcdf` for download and splitting the netCDF daily when uploading to metacatalog!\n",
    "\n",
    "All available RADOLAN RW (hourly resolution) data: **2005 - 2021**"
   ]
  },
  {
   "cell_type": "code",
   "execution_count": 6,
   "metadata": {},
   "outputs": [],
   "source": [
    "import tarfile\n",
    "import gzip\n",
    "from glob import glob\n",
    "import os\n",
    "\n",
    "import tqdm\n",
    "import xarray as xr\n",
    "\n",
    "import radolan_to_netcdf as rtn\n",
    "#import cf\n",
    "\n",
    "from metacatalog import api, ext"
   ]
  },
  {
   "cell_type": "code",
   "execution_count": 2,
   "metadata": {
    "collapsed": true,
    "jupyter": {
     "outputs_hidden": true
    },
    "tags": []
   },
   "outputs": [
    {
     "name": "stdout",
     "output_type": "stream",
     "text": [
      "opendata.dwd.de/cli     [ <=>                ]   2,42K  --.-KB/s    in 0s      \n",
      "opendata.dwd.de/cli     [ <=>                ]   1,10K  --.-KB/s    in 0s      \n",
      "opendata.dwd.de/cli     [ <=>                ]   1,68K  --.-KB/s    in 0s      \n",
      "opendata.dwd.de/cli     [ <=>                ]   1,68K  --.-KB/s    in 0s      \n",
      "opendata.dwd.de/cli     [ <=>                ]   1,68K  --.-KB/s    in 0s      \n",
      "opendata.dwd.de/cli     [ <=>                ]   1,68K  --.-KB/s    in 0s      \n",
      "opendata.dwd.de/cli     [ <=>                ]   1,68K  --.-KB/s    in 0s      \n",
      "opendata.dwd.de/cli     [ <=>                ]   1,68K  --.-KB/s    in 0s      \n",
      "opendata.dwd.de/cli     [ <=>                ]   1,68K  --.-KB/s    in 0s      \n",
      "opendata.dwd.de/cli     [ <=>                ]   1,68K  --.-KB/s    in 0s      \n",
      "opendata.dwd.de/cli     [ <=>                ]   1,68K  --.-KB/s    in 0s      \n",
      "opendata.dwd.de/cli     [ <=>                ]   1,68K  --.-KB/s    in 0s      \n",
      "opendata.dwd.de/cli     [ <=>                ]   1,68K  --.-KB/s    in 0s      \n",
      "opendata.dwd.de/cli     [ <=>                ]   1,68K  --.-KB/s    in 0s      \n",
      "opendata.dwd.de/cli     [ <=>                ]   1,68K  --.-KB/s    in 0s      \n",
      "opendata.dwd.de/cli     [ <=>                ]   1,68K  --.-KB/s    in 0s      \n",
      "opendata.dwd.de/cli     [ <=>                ]   1,68K  --.-KB/s    in 0s      \n",
      "opendata.dwd.de/cli     [ <=>                ]   1,68K  --.-KB/s    in 0s      \n",
      "opendata.dwd.de/cli 100%[===================>]  27,54M  11,2MB/s    in 2,5s    \n",
      "opendata.dwd.de/cli 100%[===================>]  45,42M  10,9MB/s    in 4,2s    \n",
      "opendata.dwd.de/cli 100%[===================>]  36,42M  11,2MB/s    in 3,3s    \n",
      "opendata.dwd.de/cli 100%[===================>]  27,07M  10,4MB/s    in 2,6s    \n",
      "opendata.dwd.de/cli 100%[===================>]  21,41M  11,1MB/s    in 1,9s    \n",
      "opendata.dwd.de/cli 100%[===================>]  26,57M  11,1MB/s    in 2,4s    \n",
      "opendata.dwd.de/cli 100%[===================>]  33,27M  11,2MB/s    in 3,0s    \n",
      "opendata.dwd.de/cli 100%[===================>]  15,10M  9,85MB/s    in 1,5s    \n",
      "opendata.dwd.de/cli 100%[===================>]  24,63M  11,2MB/s    in 2,2s    \n",
      "opendata.dwd.de/cli 100%[===================>]  37,25M  11,2MB/s    in 3,3s    \n",
      "opendata.dwd.de/cli 100%[===================>]  38,50M  11,1MB/s    in 3,5s    \n",
      "opendata.dwd.de/cli 100%[===================>]  44,01M  11,2MB/s    in 3,9s    \n",
      "opendata.dwd.de/cli 100%[===================>]  26,63M  11,2MB/s    in 2,4s    \n",
      "opendata.dwd.de/cli 100%[===================>]  28,39M  11,2MB/s    in 2,5s    \n",
      "opendata.dwd.de/cli 100%[===================>]  64,15M  11,1MB/s    in 6,0s    \n",
      "opendata.dwd.de/cli 100%[===================>]  20,90M  11,2MB/s    in 1,9s    \n",
      "opendata.dwd.de/cli 100%[===================>]  34,22M  11,2MB/s    in 3,1s    \n",
      "opendata.dwd.de/cli 100%[===================>]  35,14M  10,9MB/s    in 3,4s    \n",
      "opendata.dwd.de/cli 100%[===================>]  26,30M  11,0MB/s    in 2,4s    \n",
      "opendata.dwd.de/cli 100%[===================>]  43,17M  10,5MB/s    in 4,1s    \n",
      "opendata.dwd.de/cli 100%[===================>]  32,92M  9,62MB/s    in 3,4s    \n",
      "opendata.dwd.de/cli 100%[===================>]  31,69M  11,0MB/s    in 2,9s    \n",
      "opendata.dwd.de/cli 100%[===================>]   9,50M  11,1MB/s    in 0,9s    \n",
      "opendata.dwd.de/cli 100%[===================>]  48,59M  10,5MB/s    in 4,6s    \n",
      "opendata.dwd.de/cli 100%[===================>]  47,56M  11,2MB/s    in 4,3s    \n",
      "opendata.dwd.de/cli 100%[===================>]  52,44M  10,4MB/s    in 4,9s    \n",
      "opendata.dwd.de/cli 100%[===================>]  39,04M  11,2MB/s    in 3,5s    \n",
      "opendata.dwd.de/cli 100%[===================>]  36,87M  11,2MB/s    in 3,3s    \n",
      "opendata.dwd.de/cli 100%[===================>]  19,53M  11,2MB/s    in 1,7s    \n",
      "opendata.dwd.de/cli 100%[===================>]  38,35M  10,5MB/s    in 3,6s    \n",
      "opendata.dwd.de/cli 100%[===================>]  31,19M  11,0MB/s    in 2,8s    \n",
      "opendata.dwd.de/cli 100%[===================>]  31,76M  11,1MB/s    in 2,9s    \n",
      "opendata.dwd.de/cli 100%[===================>]  21,65M  11,0MB/s    in 2,0s    \n",
      "opendata.dwd.de/cli 100%[===================>]  44,13M  11,1MB/s    in 4,2s    \n",
      "opendata.dwd.de/cli 100%[===================>]  39,03M  11,0MB/s    in 3,5s    \n",
      "opendata.dwd.de/cli 100%[===================>]  24,99M  10,9MB/s    in 2,3s    \n",
      "opendata.dwd.de/cli 100%[===================>]  33,69M  10,5MB/s    in 3,2s    \n",
      "opendata.dwd.de/cli 100%[===================>]  44,42M  10,5MB/s    in 4,2s    \n",
      "opendata.dwd.de/cli 100%[===================>]  43,11M  10,5MB/s    in 4,0s    \n",
      "opendata.dwd.de/cli 100%[===================>]  32,15M  11,0MB/s    in 2,9s    \n",
      "opendata.dwd.de/cli 100%[===================>]  39,21M  11,1MB/s    in 3,5s    \n",
      "opendata.dwd.de/cli 100%[===================>]  28,55M  10,9MB/s    in 2,6s    \n",
      "opendata.dwd.de/cli 100%[===================>]  24,82M  11,2MB/s    in 2,2s    \n",
      "opendata.dwd.de/cli 100%[===================>]  21,07M  10,2MB/s    in 2,1s    \n",
      "opendata.dwd.de/cli 100%[===================>]  30,31M  9,40MB/s    in 3,2s    \n",
      "opendata.dwd.de/cli 100%[===================>]  37,38M  11,2MB/s    in 3,4s    \n",
      "opendata.dwd.de/cli 100%[===================>]  22,97M  10,3MB/s    in 2,2s    \n",
      "opendata.dwd.de/cli 100%[===================>]  39,62M  11,2MB/s    in 3,6s    \n",
      "opendata.dwd.de/cli 100%[===================>]  40,46M  11,2MB/s    in 3,6s    \n",
      "opendata.dwd.de/cli 100%[===================>]  50,20M  10,2MB/s    in 4,8s    \n",
      "opendata.dwd.de/cli 100%[===================>]  31,01M  11,1MB/s    in 2,8s    \n",
      "opendata.dwd.de/cli 100%[===================>]  27,18M  11,1MB/s    in 2,4s    \n",
      "opendata.dwd.de/cli 100%[===================>]  39,20M  10,2MB/s    in 3,8s    \n",
      "opendata.dwd.de/cli 100%[===================>]  43,45M  11,1MB/s    in 3,9s    \n",
      "opendata.dwd.de/cli 100%[===================>]  39,75M  11,1MB/s    in 3,6s    \n",
      "opendata.dwd.de/cli 100%[===================>]  26,09M  10,4MB/s    in 2,5s    \n",
      "opendata.dwd.de/cli 100%[===================>]  27,94M  11,2MB/s    in 2,5s    \n",
      "opendata.dwd.de/cli 100%[===================>]  32,83M  10,8MB/s    in 3,0s    \n",
      "opendata.dwd.de/cli 100%[===================>]  25,97M  11,1MB/s    in 2,3s    \n",
      "opendata.dwd.de/cli 100%[===================>]  46,83M  11,2MB/s    in 4,4s    \n",
      "opendata.dwd.de/cli 100%[===================>]  26,15M  11,2MB/s    in 2,3s    \n",
      "opendata.dwd.de/cli 100%[===================>]  35,68M  11,2MB/s    in 3,2s    \n",
      "opendata.dwd.de/cli 100%[===================>]  60,75M  11,1MB/s    in 5,6s    \n",
      "opendata.dwd.de/cli 100%[===================>]  37,30M  11,2MB/s    in 3,3s    \n",
      "opendata.dwd.de/cli 100%[===================>]  25,00M  10,3MB/s    in 2,4s    \n",
      "opendata.dwd.de/cli 100%[===================>]  38,04M  11,1MB/s    in 3,4s    \n",
      "opendata.dwd.de/cli 100%[===================>]  34,74M  11,0MB/s    in 3,4s    \n",
      "opendata.dwd.de/cli 100%[===================>]  29,13M  11,2MB/s    in 2,6s    \n",
      "opendata.dwd.de/cli 100%[===================>]  18,24M  11,2MB/s    in 1,6s    \n",
      "opendata.dwd.de/cli 100%[===================>]  15,23M  9,85MB/s    in 1,5s    \n",
      "opendata.dwd.de/cli 100%[===================>]  18,53M  11,2MB/s    in 1,7s    \n",
      "opendata.dwd.de/cli 100%[===================>]  26,21M  11,2MB/s    in 2,3s    \n",
      "opendata.dwd.de/cli 100%[===================>]  40,10M  11,1MB/s    in 3,6s    \n",
      "opendata.dwd.de/cli 100%[===================>]  48,85M  10,6MB/s    in 4,6s    \n",
      "opendata.dwd.de/cli 100%[===================>]  43,17M  11,0MB/s    in 3,9s    \n",
      "opendata.dwd.de/cli 100%[===================>]  27,89M  10,3MB/s    in 2,7s    \n",
      "opendata.dwd.de/cli 100%[===================>]  26,59M  11,1MB/s    in 2,4s    \n",
      "opendata.dwd.de/cli 100%[===================>]   9,12M  11,2MB/s    in 0,8s    \n",
      "opendata.dwd.de/cli 100%[===================>]  48,78M  10,4MB/s    in 4,6s    \n",
      "opendata.dwd.de/cli 100%[===================>]  40,64M  11,1MB/s    in 3,7s    \n",
      "opendata.dwd.de/cli 100%[===================>]  16,59M  10,6MB/s    in 1,6s    \n",
      "opendata.dwd.de/cli 100%[===================>]  13,73M  11,0MB/s    in 1,2s    \n",
      "opendata.dwd.de/cli 100%[===================>]  32,92M  10,7MB/s    in 3,1s    \n",
      "opendata.dwd.de/cli 100%[===================>]  32,05M  10,8MB/s    in 3,0s    \n",
      "opendata.dwd.de/cli 100%[===================>]  44,36M  10,4MB/s    in 4,3s    \n",
      "opendata.dwd.de/cli 100%[===================>]  47,43M  11,2MB/s    in 4,3s    \n",
      "opendata.dwd.de/cli 100%[===================>]  34,51M  11,1MB/s    in 3,1s    \n",
      "opendata.dwd.de/cli 100%[===================>]  28,95M  10,2MB/s    in 2,8s    \n",
      "opendata.dwd.de/cli 100%[===================>]  33,77M  10,7MB/s    in 3,2s    \n",
      "opendata.dwd.de/cli 100%[===================>]  30,09M  10,7MB/s    in 2,8s    \n",
      "opendata.dwd.de/cli 100%[===================>]  46,91M  9,87MB/s    in 4,7s    \n",
      "opendata.dwd.de/cli 100%[===================>]  33,21M  11,1MB/s    in 3,0s    \n",
      "opendata.dwd.de/cli 100%[===================>]  28,03M  11,1MB/s    in 2,5s    \n",
      "opendata.dwd.de/cli 100%[===================>]  25,46M  10,7MB/s    in 2,4s    \n",
      "opendata.dwd.de/cli 100%[===================>]  26,28M  10,2MB/s    in 2,6s    \n",
      "opendata.dwd.de/cli 100%[===================>]  54,10M  11,1MB/s    in 4,9s    \n",
      "opendata.dwd.de/cli 100%[===================>]  39,82M  9,68MB/s    in 4,0s    \n",
      "opendata.dwd.de/cli 100%[===================>]  24,87M  11,2MB/s    in 2,2s    \n",
      "opendata.dwd.de/cli 100%[===================>]  31,41M  11,2MB/s    in 2,8s    \n",
      "opendata.dwd.de/cli 100%[===================>]  38,77M  11,1MB/s    in 3,5s    \n",
      "opendata.dwd.de/cli 100%[===================>]  38,15M  10,8MB/s    in 3,6s    \n",
      "opendata.dwd.de/cli 100%[===================>]  34,96M  11,1MB/s    in 3,1s    \n",
      "opendata.dwd.de/cli 100%[===================>]  28,24M  11,1MB/s    in 2,5s    \n",
      "opendata.dwd.de/cli 100%[===================>]  30,33M  9,96MB/s    in 3,0s    \n",
      "opendata.dwd.de/cli 100%[===================>]  25,94M  11,1MB/s    in 2,3s    \n",
      "opendata.dwd.de/cli 100%[===================>]  18,62M  11,2MB/s    in 1,7s    \n",
      "opendata.dwd.de/cli 100%[===================>]  31,49M  11,2MB/s    in 2,8s    \n",
      "opendata.dwd.de/cli 100%[===================>]  47,54M  10,5MB/s    in 4,4s    \n",
      "opendata.dwd.de/cli 100%[===================>]  30,96M  11,2MB/s    in 2,8s    \n",
      "opendata.dwd.de/cli 100%[===================>]  47,77M  11,2MB/s    in 4,3s    \n",
      "opendata.dwd.de/cli 100%[===================>]  51,44M  10,5MB/s    in 4,8s    \n",
      "opendata.dwd.de/cli 100%[===================>]  28,80M  7,48MB/s    in 3,9s    \n",
      "opendata.dwd.de/cli 100%[===================>]  37,83M  2,45MB/s    in 7,5s    \n",
      "opendata.dwd.de/cli 100%[===================>]  24,93M  8,20MB/s    in 3,0s    \n",
      "opendata.dwd.de/cli 100%[===================>]  38,61M  8,00MB/s    in 4,9s    \n",
      "opendata.dwd.de/cli 100%[===================>]  42,47M  9,87MB/s    in 4,4s    \n",
      "opendata.dwd.de/cli 100%[===================>]  18,38M  9,86MB/s    in 1,9s    \n",
      "opendata.dwd.de/cli 100%[===================>]  32,72M  9,19MB/s    in 3,5s    \n",
      "opendata.dwd.de/cli 100%[===================>]  29,52M  9,24MB/s    in 3,2s    \n",
      "opendata.dwd.de/cli 100%[===================>]  38,01M  10,4MB/s    in 3,8s    \n",
      "opendata.dwd.de/cli 100%[===================>]  35,21M  9,01MB/s    in 4,0s    \n",
      "opendata.dwd.de/cli 100%[===================>]  38,84M  9,30MB/s    in 4,3s    \n",
      "opendata.dwd.de/cli 100%[===================>]  37,14M  10,3MB/s    in 3,6s    \n",
      "opendata.dwd.de/cli 100%[===================>]  37,41M  8,99MB/s    in 4,2s    \n",
      "opendata.dwd.de/cli 100%[===================>]  26,39M  9,04MB/s    in 2,9s    \n",
      "opendata.dwd.de/cli 100%[===================>]  42,86M  9,66MB/s    in 4,4s    \n",
      "opendata.dwd.de/cli 100%[===================>]  24,46M  8,47MB/s    in 2,9s    \n",
      "opendata.dwd.de/cli 100%[===================>]  39,17M  7,90MB/s    in 4,8s    \n",
      "opendata.dwd.de/cli 100%[===================>]  35,51M  10,2MB/s    in 3,6s    \n",
      "opendata.dwd.de/cli 100%[===================>]  27,14M  9,23MB/s    in 2,9s    \n",
      "opendata.dwd.de/cli 100%[===================>]  37,34M  9,59MB/s    in 3,9s    \n",
      "opendata.dwd.de/cli 100%[===================>]  35,00M  9,79MB/s    in 3,6s    \n",
      "opendata.dwd.de/cli 100%[===================>]  51,86M  10,7MB/s    in 5,2s    \n",
      "opendata.dwd.de/cli 100%[===================>]  36,82M  10,8MB/s    in 3,4s    \n",
      "opendata.dwd.de/cli 100%[===================>]  29,61M  10,4MB/s    in 2,9s    \n",
      "opendata.dwd.de/cli 100%[===================>]  19,28M  11,0MB/s    in 1,8s    \n",
      "opendata.dwd.de/cli 100%[===================>]  30,15M  10,5MB/s    in 2,9s    \n",
      "opendata.dwd.de/cli 100%[===================>]  28,31M  10,4MB/s    in 2,7s    \n",
      "opendata.dwd.de/cli 100%[===================>]  15,71M  7,38MB/s    in 2,1s    \n",
      "opendata.dwd.de/cli 100%[===================>]  23,12M  10,9MB/s    in 2,1s    \n",
      "opendata.dwd.de/cli 100%[===================>]  23,05M  11,0MB/s    in 2,1s    \n",
      "opendata.dwd.de/cli 100%[===================>]  26,55M  9,42MB/s    in 2,8s    \n",
      "opendata.dwd.de/cli 100%[===================>]  26,48M  10,1MB/s    in 2,6s    \n",
      "opendata.dwd.de/cli 100%[===================>]  29,77M  10,5MB/s    in 2,8s    \n",
      "opendata.dwd.de/cli 100%[===================>]  34,59M  10,7MB/s    in 3,2s    \n",
      "opendata.dwd.de/cli 100%[===================>]  45,60M  9,02MB/s    in 4,7s    \n",
      "opendata.dwd.de/cli 100%[===================>]  35,69M  10,0MB/s    in 3,6s    \n",
      "opendata.dwd.de/cli 100%[===================>]  36,87M  9,95MB/s    in 3,8s    \n",
      "opendata.dwd.de/cli 100%[===================>]  35,11M  8,45MB/s    in 3,9s    \n",
      "opendata.dwd.de/cli 100%[===================>]  38,90M  8,99MB/s    in 4,2s    \n",
      "opendata.dwd.de/cli 100%[===================>]  35,96M  9,21MB/s    in 4,0s    \n",
      "opendata.dwd.de/cli 100%[===================>]  42,38M  8,53MB/s    in 5,3s    \n",
      "opendata.dwd.de/cli 100%[===================>]  16,18M  8,96MB/s    in 1,8s    \n",
      "opendata.dwd.de/cli 100%[===================>]  30,75M  9,02MB/s    in 3,4s    \n",
      "opendata.dwd.de/cli 100%[===================>]  27,15M  7,48MB/s    in 3,6s    \n",
      "opendata.dwd.de/cli 100%[===================>]  28,30M  8,20MB/s    in 3,5s    \n",
      "opendata.dwd.de/cli 100%[===================>]  24,66M  8,52MB/s    in 2,9s    \n",
      "opendata.dwd.de/cli 100%[===================>]  23,09M  9,63MB/s    in 2,4s    \n",
      "opendata.dwd.de/cli 100%[===================>]  29,01M  9,33MB/s    in 3,1s    \n",
      "opendata.dwd.de/cli 100%[===================>]  23,80M  9,25MB/s    in 2,6s    \n",
      "opendata.dwd.de/cli 100%[===================>]  19,37M  8,14MB/s    in 2,4s    \n",
      "opendata.dwd.de/cli 100%[===================>]  20,64M  9,77MB/s    in 2,1s    \n",
      "opendata.dwd.de/cli 100%[===================>]  43,44M  5,69MB/s    in 6,4s    \n",
      "opendata.dwd.de/cli 100%[===================>]  34,59M  8,56MB/s    in 5,8s    \n",
      "opendata.dwd.de/cli 100%[===================>]  19,44M  8,83MB/s    in 2,2s    \n",
      "opendata.dwd.de/cli 100%[===================>]  38,27M  9,09MB/s    in 4,1s    \n",
      "opendata.dwd.de/cli 100%[===================>]  23,79M  6,49MB/s    in 3,6s    \n",
      "opendata.dwd.de/cli 100%[===================>]  38,17M  4,71MB/s    in 6,2s    \n",
      "opendata.dwd.de/cli 100%[===================>]  28,31M  8,79MB/s    in 3,3s    \n",
      "opendata.dwd.de/cli 100%[===================>]  29,53M  10,7MB/s    in 2,8s    \n",
      "opendata.dwd.de/cli 100%[===================>]  35,98M  9,24MB/s    in 3,8s    \n",
      "opendata.dwd.de/cli 100%[===================>]  37,12M  10,6MB/s    in 3,5s    \n",
      "opendata.dwd.de/cli 100%[===================>]  44,25M  9,90MB/s    in 4,7s    \n",
      "opendata.dwd.de/cli 100%[===================>]  35,76M  8,51MB/s    in 4,2s    \n",
      "opendata.dwd.de/cli 100%[===================>]  33,99M  10,7MB/s    in 3,2s    \n",
      "opendata.dwd.de/cli 100%[===================>]  25,40M  10,5MB/s    in 2,4s    \n",
      "opendata.dwd.de/cli 100%[===================>]  50,68M  9,69MB/s    in 5,5s    \n",
      "opendata.dwd.de/cli 100%[===================>]  27,47M  9,27MB/s    in 3,0s    \n",
      "opendata.dwd.de/cli 100%[===================>]  15,46M  7,78MB/s    in 2,0s    \n",
      "opendata.dwd.de/cli 100%[===================>]  26,64M  7,92MB/s    in 3,4s    \n",
      "opendata.dwd.de/cli 100%[===================>]  43,51M  8,61MB/s    in 5,7s    \n",
      "opendata.dwd.de/cli 100%[===================>]  30,82M  10,1MB/s    in 3,1s    \n",
      "opendata.dwd.de/cli 100%[===================>]  40,73M  10,8MB/s    in 3,8s    \n",
      "opendata.dwd.de/cli 100%[===================>]  25,70M  10,3MB/s    in 2,5s    \n",
      "opendata.dwd.de/cli 100%[===================>]  45,61M  10,9MB/s    in 4,5s    \n",
      "opendata.dwd.de/cli 100%[===================>]  18,11M  10,8MB/s    in 1,7s    \n",
      "opendata.dwd.de/cli 100%[===================>]  35,34M  9,75MB/s    in 3,7s    \n",
      "opendata.dwd.de/cli 100%[===================>]  39,08M  9,42MB/s    in 4,0s    \n",
      "opendata.dwd.de/cli 100%[===================>]  27,61M  10,2MB/s    in 2,7s    \n",
      "opendata.dwd.de/cli 100%[===================>]  29,50M  10,5MB/s    in 2,8s    \n",
      "opendata.dwd.de/cli 100%[===================>]  28,90M  9,94MB/s    in 2,9s    \n",
      "opendata.dwd.de/cli 100%[===================>]  56,13M  9,26MB/s    in 5,6s    \n",
      "opendata.dwd.de/cli 100%[===================>]  35,86M  9,25MB/s    in 4,0s    \n",
      "opendata.dwd.de/cli 100%[===================>]  46,03M  11,1MB/s    in 4,3s    \n",
      "opendata.dwd.de/cli 100%[===================>]  46,35M  8,31MB/s    in 5,1s    \n",
      "opendata.dwd.de/cli 100%[===================>]  21,47M  9,14MB/s    in 2,3s    \n",
      "opendata.dwd.de/cli 100%[===================>]  31,73M  8,38MB/s    in 3,7s    \n",
      "opendata.dwd.de/cli 100%[===================>]  28,56M  7,92MB/s    in 3,6s    \n",
      "opendata.dwd.de/cli 100%[===================>]  33,53M  8,47MB/s    in 3,9s    \n",
      "CPU times: user 20.1 s, sys: 3.66 s, total: 23.8 s\n",
      "Wall time: 11min 6s\n"
     ]
    }
   ],
   "source": [
    "%%time\n",
    "\n",
    "!wget -q -P /data/qt7760/radolan_rw_binary/ --show-progress -r -np -A .tar.gz -R \"index.html*\" https://opendata.dwd.de/climate_environment/CDC/grids_germany/hourly/radolan/historical/bin/"
   ]
  },
  {
   "cell_type": "markdown",
   "metadata": {},
   "source": [
    "Corrupted binary files in `RW-200508.tar.gz` -> delete `RW-200506.tar.gz, RW-200507.tar.gz, RW-200508.tar.gz`  \n",
    "So our RADOLAN data will start with `RW-200509.tar.gz` -> if we would fix the binary files by hand, this would be needed everytime we re-download the data, so we just don`t use the first three months.\n",
    "\n",
    "Function to extract downloaded binary files into netCDF files"
   ]
  },
  {
   "cell_type": "code",
   "execution_count": 3,
   "metadata": {},
   "outputs": [
    {
     "name": "stdout",
     "output_type": "stream",
     "text": [
      "removed '/data/qt7760/radolan_rw_binary/opendata.dwd.de/climate_environment/CDC/grids_germany/hourly/radolan/historical/bin/2005/RW-200506.tar.gz'\n",
      "removed '/data/qt7760/radolan_rw_binary/opendata.dwd.de/climate_environment/CDC/grids_germany/hourly/radolan/historical/bin/2005/RW-200507.tar.gz'\n",
      "removed '/data/qt7760/radolan_rw_binary/opendata.dwd.de/climate_environment/CDC/grids_germany/hourly/radolan/historical/bin/2005/RW-200508.tar.gz'\n"
     ]
    }
   ],
   "source": [
    "# delete RW-200506.tar.gz, RW-200507.tar.gz, RW-200508.tar.gz\n",
    "!rm -v /data/qt7760/radolan_rw_binary/opendata.dwd.de/climate_environment/CDC/grids_germany/hourly/radolan/historical/bin/2005/RW-200506.tar.gz /data/qt7760/radolan_rw_binary/opendata.dwd.de/climate_environment/CDC/grids_germany/hourly/radolan/historical/bin/2005/RW-200507.tar.gz /data/qt7760/radolan_rw_binary/opendata.dwd.de/climate_environment/CDC/grids_germany/hourly/radolan/historical/bin/2005/RW-200508.tar.gz"
   ]
  },
  {
   "cell_type": "code",
   "execution_count": 4,
   "metadata": {},
   "outputs": [],
   "source": [
    "def tar2netcdf(input_path: str, output_path: str):\n",
    "    \"\"\"\n",
    "    Untar DWD binary downloads and store as daily netCDF files under path.\n",
    "\n",
    "    Note:\n",
    "    ------\n",
    "    This function is not restartable at the moment!\n",
    "\n",
    "    Parameters:\n",
    "    ------\n",
    "    input_path: str \n",
    "        path to the folder where binary DWD downloads are stored (yearly folders).\n",
    "        Usually something like *\"./opendata.dwd.de/climate_environment/CDC/grids_germany/5_minutes/radolan/reproc/2017_002/bin\"*\n",
    "    output_path: str\n",
    "        where to store generated netCDF files\n",
    "    \"\"\"\n",
    "    # get the absolute output_path, where netCDF files are saved\n",
    "    output_path = os.path.abspath(output_path)\n",
    "\n",
    "    # create folder in output path\n",
    "    os.makedirs(output_path, exist_ok=True)\n",
    "\n",
    "    # loop over binary files\n",
    "    for year in sorted(glob(f\"{input_path}/*\")):\n",
    "        print(f\"Extracting data for the year {year[-4:]}\")\n",
    "        for month in tqdm.tqdm(sorted(glob(year + '/*'))):\n",
    "            with gzip.open(month, 'r') as fd:\n",
    "                with tarfile.open(fileobj = fd) as tar_month:\n",
    "                    fn_list_hour = sorted([f.name for f in tar_month.getmembers()])\n",
    "\n",
    "                    for fn in fn_list_hour:\n",
    "                        # fn: 'raa01-rw_10000-0506010050-dwd---bin.gz'\n",
    "                        # netCDF file name\n",
    "                        fn_netcdf = f\"{output_path}/{year[-4:]}{fn[-21:-17]}_radolan_rw.nc\" # fn[-21:-17] -> %m%d\n",
    "\n",
    "                        # only create new netCDF when it does not already exist, a new netCDF file will be created if filename (-> day) changes\n",
    "                        if os.path.exists(fn_netcdf):\n",
    "                            pass\n",
    "                        else:\n",
    "                            # create (empty) daily netCDF                    \n",
    "                            rtn.create_empty_netcdf(fn=fn_netcdf, product_name='RW')\n",
    "                        \n",
    "                        # extract hourly file\n",
    "                        f_hour = tar_month.extractfile(fn)\n",
    "\n",
    "                        with gzip.open(f_hour) as gz_hour:\n",
    "                            # extract hourly data, append to previously created daily netCDF\n",
    "                            data, metadata = rtn.read_in_one_bin_file(gz_hour)\n",
    "                            rtn.append_to_netcdf(\n",
    "                                fn_netcdf, \n",
    "                                data_list=[data, ], \n",
    "                                metadata_list=[metadata, ],\n",
    "                            )\n"
   ]
  },
  {
   "cell_type": "code",
   "execution_count": null,
   "metadata": {},
   "outputs": [
    {
     "name": "stdout",
     "output_type": "stream",
     "text": [
      "Extracting data for the year 2005\n"
     ]
    },
    {
     "name": "stderr",
     "output_type": "stream",
     "text": [
      "100%|██████████| 4/4 [04:55<00:00, 73.79s/it]\n"
     ]
    },
    {
     "name": "stdout",
     "output_type": "stream",
     "text": [
      "Extracting data for the year 2006\n"
     ]
    },
    {
     "name": "stderr",
     "output_type": "stream",
     "text": [
      "100%|██████████| 12/12 [14:41<00:00, 73.47s/it]\n"
     ]
    },
    {
     "name": "stdout",
     "output_type": "stream",
     "text": [
      "Extracting data for the year 2007\n"
     ]
    },
    {
     "name": "stderr",
     "output_type": "stream",
     "text": [
      "100%|██████████| 12/12 [14:38<00:00, 73.17s/it]\n"
     ]
    },
    {
     "name": "stdout",
     "output_type": "stream",
     "text": [
      "Extracting data for the year 2008\n"
     ]
    },
    {
     "name": "stderr",
     "output_type": "stream",
     "text": [
      "100%|██████████| 12/12 [15:08<00:00, 75.69s/it]\n"
     ]
    },
    {
     "name": "stdout",
     "output_type": "stream",
     "text": [
      "Extracting data for the year 2009\n"
     ]
    },
    {
     "name": "stderr",
     "output_type": "stream",
     "text": [
      "100%|██████████| 12/12 [14:46<00:00, 73.91s/it]\n"
     ]
    },
    {
     "name": "stdout",
     "output_type": "stream",
     "text": [
      "Extracting data for the year 2010\n"
     ]
    },
    {
     "name": "stderr",
     "output_type": "stream",
     "text": [
      "100%|██████████| 12/12 [14:37<00:00, 73.11s/it]\n"
     ]
    },
    {
     "name": "stdout",
     "output_type": "stream",
     "text": [
      "Extracting data for the year 2011\n"
     ]
    },
    {
     "name": "stderr",
     "output_type": "stream",
     "text": [
      "100%|██████████| 12/12 [14:31<00:00, 72.61s/it]\n"
     ]
    },
    {
     "name": "stdout",
     "output_type": "stream",
     "text": [
      "Extracting data for the year 2012\n"
     ]
    },
    {
     "name": "stderr",
     "output_type": "stream",
     "text": [
      "100%|██████████| 12/12 [14:50<00:00, 74.24s/it]\n"
     ]
    },
    {
     "name": "stdout",
     "output_type": "stream",
     "text": [
      "Extracting data for the year 2013\n"
     ]
    },
    {
     "name": "stderr",
     "output_type": "stream",
     "text": [
      "  8%|▊         | 1/12 [01:15<13:52, 75.72s/it]"
     ]
    }
   ],
   "source": [
    "tar2netcdf(input_path=\"/data/qt7760/radolan_rw_binary/opendata.dwd.de/climate_environment/CDC/grids_germany/hourly/radolan/historical/bin/\",\n",
    "           output_path=\"/data/qt7760/radolan_rw/\")\n"
   ]
  },
  {
   "cell_type": "code",
   "execution_count": 13,
   "metadata": {},
   "outputs": [
    {
     "ename": "",
     "evalue": "",
     "output_type": "error",
     "traceback": [
      "\u001b[1;31mCanceled future for execute_request message before replies were done"
     ]
    },
    {
     "ename": "",
     "evalue": "",
     "output_type": "error",
     "traceback": [
      "\u001b[1;31mDer Kernel ist beim Ausführen von Code in der aktuellen Zelle oder einer vorherigen Zelle abgestürzt. Bitte überprüfen Sie den Code in der/den Zelle(n), um eine mögliche Fehlerursache zu identifizieren. Klicken Sie <a href='https://aka.ms/vscodeJupyterKernelCrash'>hier</a>, um weitere Informationen zu erhalten. Weitere Details finden Sie in Jupyter <a href='command:jupyter.viewOutput'>log</a>."
     ]
    }
   ],
   "source": [
    "ds = xr.open_mfdataset(\"./data/*.nc\", engine=\"h5netcdf\")"
   ]
  },
  {
   "cell_type": "code",
   "execution_count": null,
   "metadata": {},
   "outputs": [],
   "source": [
    "print('First time stamp in data: ' + str(ds.rainfall_amount.time.values[0]))\n",
    "print('Last time stamp in data : ' + str(ds.rainfall_amount.time.values[-1]))"
   ]
  },
  {
   "cell_type": "markdown",
   "metadata": {},
   "source": [
    "Metadata: \n",
    "- https://opendata.dwd.de/climate_environment/CDC/grids_germany/hourly/radolan/historical/bin/DESCRIPTION_gridsgermany-hourly-radolan-historical-bin_en.pdf\n",
    "- https://opendata.dwd.de/climate_environment/CDC/grids_germany/hourly/radolan/historical/bin/BESCHREIBUNG_gridsgermany-hourly-radolan-historical-bin_de.pdf"
   ]
  },
  {
   "cell_type": "markdown",
   "metadata": {},
   "source": [
    "\n",
    "## Metadata Creation\n",
    "\n",
    "Create a metadata Entry for RADKLIM data in metacatalog."
   ]
  },
  {
   "cell_type": "code",
   "execution_count": null,
   "metadata": {},
   "outputs": [],
   "source": [
    "UPLOAD = False\n",
    "#CONNECTION = 'test'\n",
    "CONNECTION = 'default'\n",
    "\n",
    "session = api.connect_database(CONNECTION)\n",
    "print('Using: %s' % session.bind)"
   ]
  },
  {
   "cell_type": "code",
   "execution_count": null,
   "metadata": {},
   "outputs": [],
   "source": [
    "# check if the IO extension is activate\n",
    "try:\n",
    "    print(ext.extension('io'))\n",
    "except AttributeError:\n",
    "    ext.activate_extension('io', 'metacatalog.ext.io', 'IOExtension')\n",
    "    from metacatalog.ext.io import IOExtension\n",
    "    ext.extension('io', IOExtension)"
   ]
  },
  {
   "cell_type": "markdown",
   "metadata": {},
   "source": [
    "#### Author"
   ]
  },
  {
   "cell_type": "code",
   "execution_count": null,
   "metadata": {},
   "outputs": [],
   "source": [
    "author = api.find_organisation(session, organisation_name='Deutscher Wetterdienst', return_iterator=True).first()\n",
    "\n",
    "if author is None and UPLOAD:\n",
    "    author = api.add_organisation(session, organisation_name='Deutscher Wetterdienst',\n",
    "                              affiliation='DWD Climate Data Center (CDC)',\n",
    "                              organisation_abbrev='DWD'\n",
    "                              #attribution='Source: Deutscher Wetterdienst'\n",
    "                              )\n",
    "\n",
    "print(author)\n"
   ]
  },
  {
   "cell_type": "markdown",
   "metadata": {},
   "source": [
    "\n",
    "#### Location\n",
    "\n",
    "~~For now, we use the centroid of the raster (center of Germany) or just location POINT(0, 0), but this is not perfect and will be discussed in the future!~~  \n",
    "Newest implementation: `location = NULL`, SQL view generates **centroid** from bbox (`datasource.spatial_extent`) and **geom** (RADOLAN grid / `datasource.spatial_extent`)"
   ]
  },
  {
   "cell_type": "code",
   "execution_count": null,
   "metadata": {},
   "outputs": [],
   "source": [
    "# get bounding box for spatial extent, use centroid as location\n",
    "# bounding box\n",
    "min_lon = float(ds.rainfall_amount.longitudes.min().values)\n",
    "min_lat = float(ds.rainfall_amount.latitudes.min().values)\n",
    "max_lon = float(ds.rainfall_amount.longitudes.max().values)\n",
    "max_lat = float(ds.rainfall_amount.latitudes.max().values)\n",
    "\n",
    "bbox=f\"POLYGON(({min_lon} {min_lat},{min_lon} {max_lat},{max_lon} {max_lat},{max_lon} {min_lat}, {min_lon} {min_lat}))\"\n",
    "print(bbox)\n"
   ]
  },
  {
   "cell_type": "code",
   "execution_count": null,
   "metadata": {},
   "outputs": [],
   "source": [
    "location = None # Datasource.spatial_scale.extent to locate data\n"
   ]
  },
  {
   "cell_type": "markdown",
   "metadata": {},
   "source": [
    "\n",
    "#### License\n",
    "\n",
    "**DL-DE->BY-2.0**: Data licence Germany – attribution – version 2.0: https://www.govdata.de/dl-de/by-2-0"
   ]
  },
  {
   "cell_type": "code",
   "execution_count": null,
   "metadata": {},
   "outputs": [],
   "source": [
    "license = api.find_license(session, short_title='dl-by-de/2.0')[0]\n",
    "\n",
    "print(license)"
   ]
  },
  {
   "cell_type": "markdown",
   "metadata": {},
   "source": [
    "\n",
    "#### Unit\n"
   ]
  },
  {
   "cell_type": "code",
   "execution_count": null,
   "metadata": {},
   "outputs": [],
   "source": [
    "unit = api.find_unit(session, name=\"kilogram\")[0]\n",
    "\n",
    "print(unit.name)"
   ]
  },
  {
   "cell_type": "markdown",
   "metadata": {},
   "source": [
    "\n",
    "#### Variable\n",
    "\n",
    "# CHECK netCDF variable and unit first!!\n",
    "**Temporal resolution 24 hours (sliding)**"
   ]
  },
  {
   "cell_type": "code",
   "execution_count": null,
   "metadata": {},
   "outputs": [],
   "source": [
    "variable = api.find_variable(session, name='rainfall amount', return_iterator=True).first()\n",
    "\n",
    "if variable is None and UPLOAD:\n",
    "    variable = api.add_variable(session, name=\"rainfall amount\", symbol='P', unit=unit.id, column_names=['rainfall_amount'])\n",
    "\n",
    "print(variable.name, variable.symbol)"
   ]
  },
  {
   "cell_type": "markdown",
   "metadata": {},
   "source": [
    "\n",
    "#### Create Entry\n"
   ]
  },
  {
   "cell_type": "code",
   "execution_count": null,
   "metadata": {},
   "outputs": [],
   "source": [
    "entry = api.find_entry(session, title=\"Historical hourly RADOLAN grids of precipitation depth (RADOLAN RW)\", return_iterator=True).first()\n",
    "\n",
    "if not entry and UPLOAD:\n",
    "    entry = api.add_entry(session,\n",
    "                          title=\"Historical hourly RADOLAN grids of precipitation depth (RADOLAN RW)\",\n",
    "                          abstract=\"The routine procedure RADOLAN (Radar-Online-Aneichung) provides area-wide, spatially and temporally highly resolved quantitative precipitation data in real-time operation for Germany from the combination of the hourly values measured at the precipitation stations with the precipitation recording of the 17 weather radars.\",\n",
    "                          location=location,\n",
    "                          variable=variable.id,\n",
    "                          citation=\"DWD Climate Data Center (CDC): Historical hourly RADOLAN grids of precipitation depth, version 2.5\",\n",
    "                          license=license,\n",
    "                          author=author.id,\n",
    "                          embargo=False,\n",
    "                          is_partial=False\n",
    "                          )\n",
    "\n",
    "print(entry)"
   ]
  },
  {
   "cell_type": "markdown",
   "metadata": {},
   "source": [
    "\n",
    "#### Details\n",
    "\n",
    "from: https://opendata.dwd.de/climate_environment/CDC/grids_germany/hourly/radolan/historical/bin/DESCRIPTION_gridsgermany-hourly-radolan-historical-bin_en.pdf"
   ]
  },
  {
   "cell_type": "code",
   "execution_count": null,
   "metadata": {},
   "outputs": [],
   "source": [
    "if not entry.details and UPLOAD:\n",
    "    details_dict = [\n",
    "        {\n",
    "            \"key\": \"Dataset-ID\",\n",
    "            \"value\": \"urn:x-wmo:md:de.dwd.cdc::gridsgermany-daily-radolan-recent-bin\"\n",
    "        },\n",
    "        {\n",
    "            \"key\": \"Spatial coverage\",\n",
    "            \"value:\": \"Germany\"\n",
    "        },\n",
    "        {\n",
    "            \"key\": \"Projection\",\n",
    "            \"value\": \"Polar Steoreographic, Central Meridian 10.0° E , Standard Parallel 60.0° N\"\n",
    "        },\n",
    "        {\n",
    "            \"key\": \"Data origin\",\n",
    "            \"value\": \"Weather Radars can only measure the reflected signals from the hydrometeors in the atmosphere and not the precipitation directly. For the radarbased quantitative precipitation estimation the radar data are adjusted with the measurements oft he conventional precipitation stations. The adjusted radar data is a combination of the two sources of radar and surface stations and therefore these data are using the advantages of both data sets.\"\n",
    "        },\n",
    "        {\n",
    "            \"key\": \"Validation uncertainty estimate\",\n",
    "            \"value\": \"Verification of the data from 2013 till 2016 against the daily measurements of the precipitation stations shows a mean median of the absolute daily deviations of 0.761 mm/day. This is quite better than the corresponding value of 2.390 mm/day for the non adjusted radar data.\"\n",
    "        },\n",
    "        {\n",
    "            \"key\": \"Additional information\",\n",
    "            \"value\": \"The data are not measured values, but represent a best estimate of precipitation due to the indirect method of radar measurement, which is calibrated (quantified) on the measured values of conventional stations (average station distance: approx. 20 km).\"\n",
    "        },\n",
    "        {\n",
    "            \"key\": \"References\",\n",
    "            \"value\": \"\"\"Bartels, H. et al., 2004: Zusammenfassender Abschlussbericht zum Projekt RADOLAN\n",
    "Winterrath T. et al., 2012: On the DWD quantitative precipitation analysis and nowcasting system for real-time application in German flood risk management. Weather Radar and Hydrology, IAHS Publ. 351\"\"\"\n",
    "        }\n",
    "    ]\n",
    "\n",
    "    # add details to entry\n",
    "    api.add_details_to_entries(session, entry, details_dict)\n",
    "\n",
    "entry.details_dict()"
   ]
  },
  {
   "cell_type": "markdown",
   "metadata": {},
   "source": [
    "\n",
    "#### Thesaurus\n"
   ]
  },
  {
   "cell_type": "code",
   "execution_count": null,
   "metadata": {},
   "outputs": [],
   "source": [
    "keyword = api.find_keyword(session, value='PRECIPITATION AMOUNT')[0]\n",
    "\n",
    "if not entry.keywords and UPLOAD:\n",
    "    api.add_keywords_to_entries(session, entry, keyword)\n",
    "\n",
    "print(api.find_keyword(session, entry.keywords[0].keyword_id)[0].full_path)"
   ]
  },
  {
   "cell_type": "markdown",
   "metadata": {},
   "source": [
    "\n",
    "#### Data upload\n"
   ]
  },
  {
   "cell_type": "code",
   "execution_count": null,
   "metadata": {},
   "outputs": [],
   "source": [
    "ds_type = api.find_datasource_type(session, name='netCDF')[0]\n",
    "ds_type.__dict__\n"
   ]
  },
  {
   "cell_type": "code",
   "execution_count": null,
   "metadata": {},
   "outputs": [],
   "source": [
    "# path where netCDF files are stored\n",
    "datasource_path = \"/data/qt7760/radolan_rw\"\n",
    "\n",
    "if UPLOAD and not entry.datasource:\n",
    "    # create datasource\n",
    "    entry.create_datasource(type=ds_type.id, \n",
    "                            path=os.path.abspath(datasource_path),\n",
    "                            datatype='raster',\n",
    "                            commit=True,\n",
    "                            engine='h5netcdf' # this is saved into column datasource.args\n",
    "                            )\n",
    "\n",
    "    # create temporal scale\n",
    "    entry.datasource.create_scale(\n",
    "        resolution='1h',\n",
    "        extent=(str(ds.rainfall_amount.time.values[0]), str(ds.rainfall_amount.time.values[-1])),\n",
    "        support=1.0, # not sure\n",
    "        scale_dimension='temporal',\n",
    "        commit=True\n",
    "    )\n",
    "\n",
    "    # create spatial scale\n",
    "    entry.datasource.create_scale(\n",
    "        resolution=1000, # 1km grid \n",
    "        extent=bbox, \n",
    "        support=1.0,\n",
    "        scale_dimension='spatial',\n",
    "        commit=True\n",
    "    )\n",
    "\n",
    "    # entry.import_data(data='data/radklim_yw/')\n",
    "    # TODO: import_data hier nicht nötig, Daten schon an richtigen Ort legen, import_data sollte später metadaten zu netcdf hinzufügen "
   ]
  },
  {
   "cell_type": "code",
   "execution_count": null,
   "metadata": {},
   "outputs": [],
   "source": [
    "out_data = entry.get_data()\n",
    "out_data"
   ]
  }
 ],
 "metadata": {
  "kernelspec": {
   "display_name": "dwd_radar",
   "language": "python",
   "name": "dwd_radar"
  },
  "language_info": {
   "codemirror_mode": {
    "name": "ipython",
    "version": 3
   },
   "file_extension": ".py",
   "mimetype": "text/x-python",
   "name": "python",
   "nbconvert_exporter": "python",
   "pygments_lexer": "ipython3",
   "version": "3.10.7"
  },
  "vscode": {
   "interpreter": {
    "hash": "4a6cca48d9dc54240b1120f997bc89567c6fdd4e63a089bb9c0f7621569d912d"
   }
  }
 },
 "nbformat": 4,
 "nbformat_minor": 4
}

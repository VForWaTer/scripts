{
 "cells": [
  {
   "cell_type": "markdown",
   "metadata": {},
   "source": [
    "\n",
    "# RADOLAN RW download and upload to metacatalog, including creation of metadata\n",
    "\n",
    "This is the final solution, using `radolan_to_netcdf` for download and splitting the netCDF daily when uploading to metacatalog!\n",
    "\n",
    "All available RADOLAN RW (hourly resolution) data: **2005 - 2021**"
   ]
  },
  {
   "cell_type": "code",
   "execution_count": 14,
   "metadata": {},
   "outputs": [],
   "source": [
    "import tarfile\n",
    "import gzip\n",
    "from glob import glob\n",
    "import os\n",
    "\n",
    "import tqdm\n",
    "import xarray as xr\n",
    "\n",
    "import radolan_to_netcdf as rtn\n",
    "#import cf\n",
    "\n",
    "from metacatalog import api, ext"
   ]
  },
  {
   "cell_type": "code",
   "execution_count": 2,
   "metadata": {},
   "outputs": [
    {
     "name": "stdout",
     "output_type": "stream",
     "text": [
      "opendata.dwd.de/cli     [ <=>                ]   2,42K  --.-KB/s    in 0s      \n",
      "opendata.dwd.de/cli     [ <=>                ]   1,10K  --.-KB/s    in 0s      \n",
      "opendata.dwd.de/cli     [ <=>                ]   1,68K  --.-KB/s    in 0s      \n",
      "opendata.dwd.de/cli     [ <=>                ]   1,68K  --.-KB/s    in 0s      \n",
      "opendata.dwd.de/cli     [ <=>                ]   1,68K  --.-KB/s    in 0s      \n",
      "opendata.dwd.de/cli     [ <=>                ]   1,68K  --.-KB/s    in 0s      \n",
      "opendata.dwd.de/cli     [ <=>                ]   1,68K  --.-KB/s    in 0s      \n",
      "opendata.dwd.de/cli     [ <=>                ]   1,68K  --.-KB/s    in 0s      \n",
      "opendata.dwd.de/cli     [ <=>                ]   1,68K  --.-KB/s    in 0s      \n",
      "opendata.dwd.de/cli     [ <=>                ]   1,68K  --.-KB/s    in 0s      \n",
      "opendata.dwd.de/cli     [ <=>                ]   1,68K  --.-KB/s    in 0s      \n",
      "opendata.dwd.de/cli     [ <=>                ]   1,68K  --.-KB/s    in 0s      \n",
      "opendata.dwd.de/cli     [ <=>                ]   1,68K  --.-KB/s    in 0s      \n",
      "opendata.dwd.de/cli     [ <=>                ]   1,68K  --.-KB/s    in 0s      \n",
      "opendata.dwd.de/cli     [ <=>                ]   1,68K  --.-KB/s    in 0s      \n",
      "opendata.dwd.de/cli     [ <=>                ]   1,68K  --.-KB/s    in 0s      \n",
      "opendata.dwd.de/cli     [ <=>                ]   1,68K  --.-KB/s    in 0s      \n",
      "opendata.dwd.de/cli     [ <=>                ]   1,68K  --.-KB/s    in 0s      \n",
      "opendata.dwd.de/cli 100%[===================>]  27,54M  11,2MB/s    in 2,5s    \n",
      "opendata.dwd.de/cli 100%[===================>]  45,42M  10,9MB/s    in 4,2s    \n",
      "opendata.dwd.de/cli 100%[===================>]  36,42M  11,2MB/s    in 3,3s    \n",
      "opendata.dwd.de/cli 100%[===================>]  27,07M  10,4MB/s    in 2,6s    \n",
      "opendata.dwd.de/cli 100%[===================>]  21,41M  11,1MB/s    in 1,9s    \n",
      "opendata.dwd.de/cli 100%[===================>]  26,57M  11,1MB/s    in 2,4s    \n",
      "opendata.dwd.de/cli 100%[===================>]  33,27M  11,2MB/s    in 3,0s    \n",
      "opendata.dwd.de/cli 100%[===================>]  15,10M  9,85MB/s    in 1,5s    \n",
      "opendata.dwd.de/cli 100%[===================>]  24,63M  11,2MB/s    in 2,2s    \n",
      "opendata.dwd.de/cli 100%[===================>]  37,25M  11,2MB/s    in 3,3s    \n",
      "opendata.dwd.de/cli 100%[===================>]  38,50M  11,1MB/s    in 3,5s    \n",
      "opendata.dwd.de/cli 100%[===================>]  44,01M  11,2MB/s    in 3,9s    \n",
      "opendata.dwd.de/cli 100%[===================>]  26,63M  11,2MB/s    in 2,4s    \n",
      "opendata.dwd.de/cli 100%[===================>]  28,39M  11,2MB/s    in 2,5s    \n",
      "opendata.dwd.de/cli 100%[===================>]  64,15M  11,1MB/s    in 6,0s    \n",
      "opendata.dwd.de/cli 100%[===================>]  20,90M  11,2MB/s    in 1,9s    \n",
      "opendata.dwd.de/cli 100%[===================>]  34,22M  11,2MB/s    in 3,1s    \n",
      "opendata.dwd.de/cli 100%[===================>]  35,14M  10,9MB/s    in 3,4s    \n",
      "opendata.dwd.de/cli 100%[===================>]  26,30M  11,0MB/s    in 2,4s    \n",
      "opendata.dwd.de/cli 100%[===================>]  43,17M  10,5MB/s    in 4,1s    \n",
      "opendata.dwd.de/cli 100%[===================>]  32,92M  9,62MB/s    in 3,4s    \n",
      "opendata.dwd.de/cli 100%[===================>]  31,69M  11,0MB/s    in 2,9s    \n",
      "opendata.dwd.de/cli 100%[===================>]   9,50M  11,1MB/s    in 0,9s    \n",
      "opendata.dwd.de/cli 100%[===================>]  48,59M  10,5MB/s    in 4,6s    \n",
      "opendata.dwd.de/cli 100%[===================>]  47,56M  11,2MB/s    in 4,3s    \n",
      "opendata.dwd.de/cli 100%[===================>]  52,44M  10,4MB/s    in 4,9s    \n",
      "opendata.dwd.de/cli 100%[===================>]  39,04M  11,2MB/s    in 3,5s    \n",
      "opendata.dwd.de/cli 100%[===================>]  36,87M  11,2MB/s    in 3,3s    \n",
      "opendata.dwd.de/cli 100%[===================>]  19,53M  11,2MB/s    in 1,7s    \n",
      "opendata.dwd.de/cli 100%[===================>]  38,35M  10,5MB/s    in 3,6s    \n",
      "opendata.dwd.de/cli 100%[===================>]  31,19M  11,0MB/s    in 2,8s    \n",
      "opendata.dwd.de/cli 100%[===================>]  31,76M  11,1MB/s    in 2,9s    \n",
      "opendata.dwd.de/cli 100%[===================>]  21,65M  11,0MB/s    in 2,0s    \n",
      "opendata.dwd.de/cli 100%[===================>]  44,13M  11,1MB/s    in 4,2s    \n",
      "opendata.dwd.de/cli 100%[===================>]  39,03M  11,0MB/s    in 3,5s    \n",
      "opendata.dwd.de/cli 100%[===================>]  24,99M  10,9MB/s    in 2,3s    \n",
      "opendata.dwd.de/cli 100%[===================>]  33,69M  10,5MB/s    in 3,2s    \n",
      "opendata.dwd.de/cli 100%[===================>]  44,42M  10,5MB/s    in 4,2s    \n",
      "opendata.dwd.de/cli 100%[===================>]  43,11M  10,5MB/s    in 4,0s    \n",
      "opendata.dwd.de/cli 100%[===================>]  32,15M  11,0MB/s    in 2,9s    \n",
      "opendata.dwd.de/cli 100%[===================>]  39,21M  11,1MB/s    in 3,5s    \n",
      "opendata.dwd.de/cli 100%[===================>]  28,55M  10,9MB/s    in 2,6s    \n",
      "opendata.dwd.de/cli 100%[===================>]  24,82M  11,2MB/s    in 2,2s    \n",
      "opendata.dwd.de/cli 100%[===================>]  21,07M  10,2MB/s    in 2,1s    \n",
      "opendata.dwd.de/cli 100%[===================>]  30,31M  9,40MB/s    in 3,2s    \n",
      "opendata.dwd.de/cli 100%[===================>]  37,38M  11,2MB/s    in 3,4s    \n",
      "opendata.dwd.de/cli 100%[===================>]  22,97M  10,3MB/s    in 2,2s    \n",
      "opendata.dwd.de/cli 100%[===================>]  39,62M  11,2MB/s    in 3,6s    \n",
      "opendata.dwd.de/cli 100%[===================>]  40,46M  11,2MB/s    in 3,6s    \n",
      "opendata.dwd.de/cli 100%[===================>]  50,20M  10,2MB/s    in 4,8s    \n",
      "opendata.dwd.de/cli 100%[===================>]  31,01M  11,1MB/s    in 2,8s    \n",
      "opendata.dwd.de/cli 100%[===================>]  27,18M  11,1MB/s    in 2,4s    \n",
      "opendata.dwd.de/cli 100%[===================>]  39,20M  10,2MB/s    in 3,8s    \n",
      "opendata.dwd.de/cli 100%[===================>]  43,45M  11,1MB/s    in 3,9s    \n",
      "opendata.dwd.de/cli 100%[===================>]  39,75M  11,1MB/s    in 3,6s    \n",
      "opendata.dwd.de/cli 100%[===================>]  26,09M  10,4MB/s    in 2,5s    \n",
      "opendata.dwd.de/cli 100%[===================>]  27,94M  11,2MB/s    in 2,5s    \n",
      "opendata.dwd.de/cli 100%[===================>]  32,83M  10,8MB/s    in 3,0s    \n",
      "opendata.dwd.de/cli 100%[===================>]  25,97M  11,1MB/s    in 2,3s    \n",
      "opendata.dwd.de/cli 100%[===================>]  46,83M  11,2MB/s    in 4,4s    \n",
      "opendata.dwd.de/cli 100%[===================>]  26,15M  11,2MB/s    in 2,3s    \n",
      "opendata.dwd.de/cli 100%[===================>]  35,68M  11,2MB/s    in 3,2s    \n",
      "opendata.dwd.de/cli 100%[===================>]  60,75M  11,1MB/s    in 5,6s    \n",
      "opendata.dwd.de/cli 100%[===================>]  37,30M  11,2MB/s    in 3,3s    \n",
      "opendata.dwd.de/cli 100%[===================>]  25,00M  10,3MB/s    in 2,4s    \n",
      "opendata.dwd.de/cli 100%[===================>]  38,04M  11,1MB/s    in 3,4s    \n",
      "opendata.dwd.de/cli 100%[===================>]  34,74M  11,0MB/s    in 3,4s    \n",
      "opendata.dwd.de/cli 100%[===================>]  29,13M  11,2MB/s    in 2,6s    \n",
      "opendata.dwd.de/cli 100%[===================>]  18,24M  11,2MB/s    in 1,6s    \n",
      "opendata.dwd.de/cli 100%[===================>]  15,23M  9,85MB/s    in 1,5s    \n",
      "opendata.dwd.de/cli 100%[===================>]  18,53M  11,2MB/s    in 1,7s    \n",
      "opendata.dwd.de/cli 100%[===================>]  26,21M  11,2MB/s    in 2,3s    \n",
      "opendata.dwd.de/cli 100%[===================>]  40,10M  11,1MB/s    in 3,6s    \n",
      "opendata.dwd.de/cli 100%[===================>]  48,85M  10,6MB/s    in 4,6s    \n",
      "opendata.dwd.de/cli 100%[===================>]  43,17M  11,0MB/s    in 3,9s    \n",
      "opendata.dwd.de/cli 100%[===================>]  27,89M  10,3MB/s    in 2,7s    \n",
      "opendata.dwd.de/cli 100%[===================>]  26,59M  11,1MB/s    in 2,4s    \n",
      "opendata.dwd.de/cli 100%[===================>]   9,12M  11,2MB/s    in 0,8s    \n",
      "opendata.dwd.de/cli 100%[===================>]  48,78M  10,4MB/s    in 4,6s    \n",
      "opendata.dwd.de/cli 100%[===================>]  40,64M  11,1MB/s    in 3,7s    \n",
      "opendata.dwd.de/cli 100%[===================>]  16,59M  10,6MB/s    in 1,6s    \n",
      "opendata.dwd.de/cli 100%[===================>]  13,73M  11,0MB/s    in 1,2s    \n",
      "opendata.dwd.de/cli 100%[===================>]  32,92M  10,7MB/s    in 3,1s    \n",
      "opendata.dwd.de/cli 100%[===================>]  32,05M  10,8MB/s    in 3,0s    \n",
      "opendata.dwd.de/cli 100%[===================>]  44,36M  10,4MB/s    in 4,3s    \n",
      "opendata.dwd.de/cli 100%[===================>]  47,43M  11,2MB/s    in 4,3s    \n",
      "opendata.dwd.de/cli 100%[===================>]  34,51M  11,1MB/s    in 3,1s    \n",
      "opendata.dwd.de/cli 100%[===================>]  28,95M  10,2MB/s    in 2,8s    \n",
      "opendata.dwd.de/cli 100%[===================>]  33,77M  10,7MB/s    in 3,2s    \n",
      "opendata.dwd.de/cli 100%[===================>]  30,09M  10,7MB/s    in 2,8s    \n",
      "opendata.dwd.de/cli 100%[===================>]  46,91M  9,87MB/s    in 4,7s    \n",
      "opendata.dwd.de/cli 100%[===================>]  33,21M  11,1MB/s    in 3,0s    \n",
      "opendata.dwd.de/cli 100%[===================>]  28,03M  11,1MB/s    in 2,5s    \n",
      "opendata.dwd.de/cli 100%[===================>]  25,46M  10,7MB/s    in 2,4s    \n",
      "opendata.dwd.de/cli 100%[===================>]  26,28M  10,2MB/s    in 2,6s    \n",
      "opendata.dwd.de/cli 100%[===================>]  54,10M  11,1MB/s    in 4,9s    \n",
      "opendata.dwd.de/cli 100%[===================>]  39,82M  9,68MB/s    in 4,0s    \n",
      "opendata.dwd.de/cli 100%[===================>]  24,87M  11,2MB/s    in 2,2s    \n",
      "opendata.dwd.de/cli 100%[===================>]  31,41M  11,2MB/s    in 2,8s    \n",
      "opendata.dwd.de/cli 100%[===================>]  38,77M  11,1MB/s    in 3,5s    \n",
      "opendata.dwd.de/cli 100%[===================>]  38,15M  10,8MB/s    in 3,6s    \n",
      "opendata.dwd.de/cli 100%[===================>]  34,96M  11,1MB/s    in 3,1s    \n",
      "opendata.dwd.de/cli 100%[===================>]  28,24M  11,1MB/s    in 2,5s    \n",
      "opendata.dwd.de/cli 100%[===================>]  30,33M  9,96MB/s    in 3,0s    \n",
      "opendata.dwd.de/cli 100%[===================>]  25,94M  11,1MB/s    in 2,3s    \n",
      "opendata.dwd.de/cli 100%[===================>]  18,62M  11,2MB/s    in 1,7s    \n",
      "opendata.dwd.de/cli 100%[===================>]  31,49M  11,2MB/s    in 2,8s    \n",
      "opendata.dwd.de/cli 100%[===================>]  47,54M  10,5MB/s    in 4,4s    \n",
      "opendata.dwd.de/cli 100%[===================>]  30,96M  11,2MB/s    in 2,8s    \n",
      "opendata.dwd.de/cli 100%[===================>]  47,77M  11,2MB/s    in 4,3s    \n",
      "opendata.dwd.de/cli 100%[===================>]  51,44M  10,5MB/s    in 4,8s    \n",
      "opendata.dwd.de/cli 100%[===================>]  28,80M  7,48MB/s    in 3,9s    \n",
      "opendata.dwd.de/cli 100%[===================>]  37,83M  2,45MB/s    in 7,5s    \n",
      "opendata.dwd.de/cli 100%[===================>]  24,93M  8,20MB/s    in 3,0s    \n",
      "opendata.dwd.de/cli 100%[===================>]  38,61M  8,00MB/s    in 4,9s    \n",
      "opendata.dwd.de/cli 100%[===================>]  42,47M  9,87MB/s    in 4,4s    \n",
      "opendata.dwd.de/cli 100%[===================>]  18,38M  9,86MB/s    in 1,9s    \n",
      "opendata.dwd.de/cli 100%[===================>]  32,72M  9,19MB/s    in 3,5s    \n",
      "opendata.dwd.de/cli 100%[===================>]  29,52M  9,24MB/s    in 3,2s    \n",
      "opendata.dwd.de/cli 100%[===================>]  38,01M  10,4MB/s    in 3,8s    \n",
      "opendata.dwd.de/cli 100%[===================>]  35,21M  9,01MB/s    in 4,0s    \n",
      "opendata.dwd.de/cli 100%[===================>]  38,84M  9,30MB/s    in 4,3s    \n",
      "opendata.dwd.de/cli 100%[===================>]  37,14M  10,3MB/s    in 3,6s    \n",
      "opendata.dwd.de/cli 100%[===================>]  37,41M  8,99MB/s    in 4,2s    \n",
      "opendata.dwd.de/cli 100%[===================>]  26,39M  9,04MB/s    in 2,9s    \n",
      "opendata.dwd.de/cli 100%[===================>]  42,86M  9,66MB/s    in 4,4s    \n",
      "opendata.dwd.de/cli 100%[===================>]  24,46M  8,47MB/s    in 2,9s    \n",
      "opendata.dwd.de/cli 100%[===================>]  39,17M  7,90MB/s    in 4,8s    \n",
      "opendata.dwd.de/cli 100%[===================>]  35,51M  10,2MB/s    in 3,6s    \n",
      "opendata.dwd.de/cli 100%[===================>]  27,14M  9,23MB/s    in 2,9s    \n",
      "opendata.dwd.de/cli 100%[===================>]  37,34M  9,59MB/s    in 3,9s    \n",
      "opendata.dwd.de/cli 100%[===================>]  35,00M  9,79MB/s    in 3,6s    \n",
      "opendata.dwd.de/cli 100%[===================>]  51,86M  10,7MB/s    in 5,2s    \n",
      "opendata.dwd.de/cli 100%[===================>]  36,82M  10,8MB/s    in 3,4s    \n",
      "opendata.dwd.de/cli 100%[===================>]  29,61M  10,4MB/s    in 2,9s    \n",
      "opendata.dwd.de/cli 100%[===================>]  19,28M  11,0MB/s    in 1,8s    \n",
      "opendata.dwd.de/cli 100%[===================>]  30,15M  10,5MB/s    in 2,9s    \n",
      "opendata.dwd.de/cli 100%[===================>]  28,31M  10,4MB/s    in 2,7s    \n",
      "opendata.dwd.de/cli 100%[===================>]  15,71M  7,38MB/s    in 2,1s    \n",
      "opendata.dwd.de/cli 100%[===================>]  23,12M  10,9MB/s    in 2,1s    \n",
      "opendata.dwd.de/cli 100%[===================>]  23,05M  11,0MB/s    in 2,1s    \n",
      "opendata.dwd.de/cli 100%[===================>]  26,55M  9,42MB/s    in 2,8s    \n",
      "opendata.dwd.de/cli 100%[===================>]  26,48M  10,1MB/s    in 2,6s    \n",
      "opendata.dwd.de/cli 100%[===================>]  29,77M  10,5MB/s    in 2,8s    \n",
      "opendata.dwd.de/cli 100%[===================>]  34,59M  10,7MB/s    in 3,2s    \n",
      "opendata.dwd.de/cli 100%[===================>]  45,60M  9,02MB/s    in 4,7s    \n",
      "opendata.dwd.de/cli 100%[===================>]  35,69M  10,0MB/s    in 3,6s    \n",
      "opendata.dwd.de/cli 100%[===================>]  36,87M  9,95MB/s    in 3,8s    \n",
      "opendata.dwd.de/cli 100%[===================>]  35,11M  8,45MB/s    in 3,9s    \n",
      "opendata.dwd.de/cli 100%[===================>]  38,90M  8,99MB/s    in 4,2s    \n",
      "opendata.dwd.de/cli 100%[===================>]  35,96M  9,21MB/s    in 4,0s    \n",
      "opendata.dwd.de/cli 100%[===================>]  42,38M  8,53MB/s    in 5,3s    \n",
      "opendata.dwd.de/cli 100%[===================>]  16,18M  8,96MB/s    in 1,8s    \n",
      "opendata.dwd.de/cli 100%[===================>]  30,75M  9,02MB/s    in 3,4s    \n",
      "opendata.dwd.de/cli 100%[===================>]  27,15M  7,48MB/s    in 3,6s    \n",
      "opendata.dwd.de/cli 100%[===================>]  28,30M  8,20MB/s    in 3,5s    \n",
      "opendata.dwd.de/cli 100%[===================>]  24,66M  8,52MB/s    in 2,9s    \n",
      "opendata.dwd.de/cli 100%[===================>]  23,09M  9,63MB/s    in 2,4s    \n",
      "opendata.dwd.de/cli 100%[===================>]  29,01M  9,33MB/s    in 3,1s    \n",
      "opendata.dwd.de/cli 100%[===================>]  23,80M  9,25MB/s    in 2,6s    \n",
      "opendata.dwd.de/cli 100%[===================>]  19,37M  8,14MB/s    in 2,4s    \n",
      "opendata.dwd.de/cli 100%[===================>]  20,64M  9,77MB/s    in 2,1s    \n",
      "opendata.dwd.de/cli 100%[===================>]  43,44M  5,69MB/s    in 6,4s    \n",
      "opendata.dwd.de/cli 100%[===================>]  34,59M  8,56MB/s    in 5,8s    \n",
      "opendata.dwd.de/cli 100%[===================>]  19,44M  8,83MB/s    in 2,2s    \n",
      "opendata.dwd.de/cli 100%[===================>]  38,27M  9,09MB/s    in 4,1s    \n",
      "opendata.dwd.de/cli 100%[===================>]  23,79M  6,49MB/s    in 3,6s    \n",
      "opendata.dwd.de/cli 100%[===================>]  38,17M  4,71MB/s    in 6,2s    \n",
      "opendata.dwd.de/cli 100%[===================>]  28,31M  8,79MB/s    in 3,3s    \n",
      "opendata.dwd.de/cli 100%[===================>]  29,53M  10,7MB/s    in 2,8s    \n",
      "opendata.dwd.de/cli 100%[===================>]  35,98M  9,24MB/s    in 3,8s    \n",
      "opendata.dwd.de/cli 100%[===================>]  37,12M  10,6MB/s    in 3,5s    \n",
      "opendata.dwd.de/cli 100%[===================>]  44,25M  9,90MB/s    in 4,7s    \n",
      "opendata.dwd.de/cli 100%[===================>]  35,76M  8,51MB/s    in 4,2s    \n",
      "opendata.dwd.de/cli 100%[===================>]  33,99M  10,7MB/s    in 3,2s    \n",
      "opendata.dwd.de/cli 100%[===================>]  25,40M  10,5MB/s    in 2,4s    \n",
      "opendata.dwd.de/cli 100%[===================>]  50,68M  9,69MB/s    in 5,5s    \n",
      "opendata.dwd.de/cli 100%[===================>]  27,47M  9,27MB/s    in 3,0s    \n",
      "opendata.dwd.de/cli 100%[===================>]  15,46M  7,78MB/s    in 2,0s    \n",
      "opendata.dwd.de/cli 100%[===================>]  26,64M  7,92MB/s    in 3,4s    \n",
      "opendata.dwd.de/cli 100%[===================>]  43,51M  8,61MB/s    in 5,7s    \n",
      "opendata.dwd.de/cli 100%[===================>]  30,82M  10,1MB/s    in 3,1s    \n",
      "opendata.dwd.de/cli 100%[===================>]  40,73M  10,8MB/s    in 3,8s    \n",
      "opendata.dwd.de/cli 100%[===================>]  25,70M  10,3MB/s    in 2,5s    \n",
      "opendata.dwd.de/cli 100%[===================>]  45,61M  10,9MB/s    in 4,5s    \n",
      "opendata.dwd.de/cli 100%[===================>]  18,11M  10,8MB/s    in 1,7s    \n",
      "opendata.dwd.de/cli 100%[===================>]  35,34M  9,75MB/s    in 3,7s    \n",
      "opendata.dwd.de/cli 100%[===================>]  39,08M  9,42MB/s    in 4,0s    \n",
      "opendata.dwd.de/cli 100%[===================>]  27,61M  10,2MB/s    in 2,7s    \n",
      "opendata.dwd.de/cli 100%[===================>]  29,50M  10,5MB/s    in 2,8s    \n",
      "opendata.dwd.de/cli 100%[===================>]  28,90M  9,94MB/s    in 2,9s    \n",
      "opendata.dwd.de/cli 100%[===================>]  56,13M  9,26MB/s    in 5,6s    \n",
      "opendata.dwd.de/cli 100%[===================>]  35,86M  9,25MB/s    in 4,0s    \n",
      "opendata.dwd.de/cli 100%[===================>]  46,03M  11,1MB/s    in 4,3s    \n",
      "opendata.dwd.de/cli 100%[===================>]  46,35M  8,31MB/s    in 5,1s    \n",
      "opendata.dwd.de/cli 100%[===================>]  21,47M  9,14MB/s    in 2,3s    \n",
      "opendata.dwd.de/cli 100%[===================>]  31,73M  8,38MB/s    in 3,7s    \n",
      "opendata.dwd.de/cli 100%[===================>]  28,56M  7,92MB/s    in 3,6s    \n",
      "opendata.dwd.de/cli 100%[===================>]  33,53M  8,47MB/s    in 3,9s    \n",
      "CPU times: user 20.1 s, sys: 3.66 s, total: 23.8 s\n",
      "Wall time: 11min 6s\n"
     ]
    }
   ],
   "source": [
    "%%time\n",
    "\n",
    "!wget -q --show-progress -r -np -A .tar.gz -R \"index.html*\" https://opendata.dwd.de/climate_environment/CDC/grids_germany/hourly/radolan/historical/bin/"
   ]
  },
  {
   "cell_type": "markdown",
   "metadata": {},
   "source": [
    "Function to extract downloaded binary files into netCDF files"
   ]
  },
  {
   "cell_type": "code",
   "execution_count": 45,
   "metadata": {},
   "outputs": [],
   "source": [
    "def tar2netcdf(input_path: str, output_path: str, if_exists: str, delete_last=False):\n",
    "    \"\"\"\n",
    "    Untar DWD binary downloads and store as daily netCDF files under path.\n",
    "\n",
    "    DWD naming pattern of inner tar: raa01-rw_10000-YYMMDDhhmm-dwd--bin\n",
    "\n",
    "    Parameters:\n",
    "    ------\n",
    "    input_path: str \n",
    "        path to the folder where binary DWD downloads are stored (yearly folders).\n",
    "        Usually something like *\"./opendata.dwd.de/climate_environment/CDC/grids_germany/5_minutes/radolan/reproc/2017_002/bin\"*\n",
    "    output_path: str\n",
    "        where to store generated netCDF files\n",
    "    if_exists: {fail, replace, skip}\n",
    "        What to do if netcdf file already exists.\n",
    "        If you use 'skip', it is probably a good idea to delete the last generated netCDF in the output_folder by hand to \n",
    "        generate this file again and make sure that the file is not corrupted due an interruption while last creation of the file.\n",
    "    delete_last: bool\n",
    "        Whether to delete the last generated file in the output_folder.\n",
    "        This option makes only sense if your last call of tar2netcdf() got interrupted and you are not sure if the netCDF file \n",
    "        generated last was fully completed, so you can generate that netCDF file again.  \n",
    "    \"\"\"\n",
    "    # get the absolute output_path, where netCDF files are saved\n",
    "    output_path = os.path.abspath(output_path)\n",
    "\n",
    "    # create folder in output path\n",
    "    os.makedirs(output_path, exist_ok=True)\n",
    "\n",
    "    # delete last created netCDF file in output_path if delete_last == True\n",
    "    if delete_last:\n",
    "        existing_files = sorted(glob(f\"{output_path}/*\"))\n",
    "        if len(existing_files) >= 1:\n",
    "            os.remove(existing_files[-1])\n",
    "\n",
    "    # loop over binary files\n",
    "    for year in sorted(glob(f\"{input_path}/*\")):\n",
    "        print(f\"Extracting data for the year {year[-4:]}\")\n",
    "        for month in tqdm.tqdm(sorted(glob(year + '/*'))):\n",
    "            print(month)\n",
    "            with gzip.open(month, 'r') as fd:\n",
    "                with tarfile.open(fileobj = fd) as tar_month:\n",
    "                    fn_list_month = sorted([f.name for f in tar_month.getmembers()])\n",
    "                    \n",
    "                    for fn in fn_list_month:\n",
    "                        # fn: 'raa01-rw_10000-0506010050-dwd---bin.gz'\n",
    "                        # netCDF file name\n",
    "                        fn_netcdf = f\"{output_path}/{year[-4:]}{fn[-21:-17]}_radolan_rw.nc\" # fn[-21:-17] -> %m%d\n",
    "                        \n",
    "                        if os.path.exists(fn_netcdf):\n",
    "                            if if_exists == 'fail':\n",
    "                                raise ValueError(f\"netCDF file {output_path}/{fn[-15:-7]}_radklim_yw.nc already exists\")\n",
    "                            elif if_exists == 'skip':\n",
    "                                continue\n",
    "                        \n",
    "                        # create (empty) daily netCDF                    \n",
    "                        rtn.create_empty_netcdf(fn=fn_netcdf, product_name='YW')\n",
    "                        \n",
    "                        f_month = tar_month.extractfile(fn)\n",
    "\n",
    "                        with gzip.open(f_month) as gz_hour:\n",
    "                            print(gz_hour)\n",
    "                            data, metadata = rtn.read_in_one_bin_file(gz_hour)\n",
    "                            return data, metadata\n",
    "                \n",
    "\n",
    "                raise\n",
    "                # loop over daily files\n",
    "                for fn in fn_list:\n",
    "                    f = tar.extractfile(fn)\n",
    "\n",
    "                    # netCDF file name\n",
    "                    fn_netcdf = f\"{output_path}/{fn[-15:-7]}_radklim_yw.nc\"\n",
    "\n",
    "                    if os.path.exists(fn_netcdf):\n",
    "                        if if_exists == 'fail':\n",
    "                            raise ValueError(f\"netCDF file {output_path}/{fn[-15:-7]}_radklim_yw.nc already exists\")\n",
    "                        elif if_exists == 'skip':\n",
    "                            continue\n",
    "                        \n",
    "                    # create (empty) daily netCDF                    \n",
    "                    rtn.create_empty_netcdf(fn=fn_netcdf, product_name='YW')\n",
    "                    \n",
    "                    # daily files contain the 5-minute data (tar_inner)\n",
    "                    with tarfile.open(fileobj=f) as tar_inner:\n",
    "                        fn_list_inner = sorted([f.name for f in tar_inner.getmembers()])\n",
    "\n",
    "                        for fn_inner in fn_list_inner:\n",
    "                            # extract 5-minute data, append to previously created daily netCDF\n",
    "                            data, metadata = rtn.read_in_one_bin_file(tar_inner.extractfile(fn_inner))\n",
    "                            rtn.append_to_netcdf(\n",
    "                                fn_netcdf, \n",
    "                                data_list=[data, ], \n",
    "                                metadata_list=[metadata, ],\n",
    "                            )\n",
    "\n"
   ]
  },
  {
   "cell_type": "code",
   "execution_count": 54,
   "metadata": {},
   "outputs": [
    {
     "data": {
      "text/plain": [
       "'0601'"
      ]
     },
     "execution_count": 54,
     "metadata": {},
     "output_type": "execute_result"
    }
   ],
   "source": [
    "'raa01-rw_10000-0506010050-dwd---bin.gz'[-21:-17] # %m%d -> new "
   ]
  },
  {
   "cell_type": "code",
   "execution_count": 46,
   "metadata": {},
   "outputs": [
    {
     "name": "stdout",
     "output_type": "stream",
     "text": [
      "Extracting data for the year 2005\n"
     ]
    },
    {
     "name": "stderr",
     "output_type": "stream",
     "text": [
      "  0%|          | 0/7 [00:00<?, ?it/s]"
     ]
    },
    {
     "name": "stdout",
     "output_type": "stream",
     "text": [
      "./opendata.dwd.de/climate_environment/CDC/grids_germany/hourly/radolan/historical/bin/2005/RW-200506.tar.gz\n"
     ]
    },
    {
     "name": "stderr",
     "output_type": "stream",
     "text": [
      "\n"
     ]
    },
    {
     "data": {
      "text/plain": [
       "'raa01-rw_10000-0506010050-dwd---bin.gz'"
      ]
     },
     "execution_count": 46,
     "metadata": {},
     "output_type": "execute_result"
    }
   ],
   "source": [
    "tar2netcdf(input_path=\"./opendata.dwd.de/climate_environment/CDC/grids_germany/hourly/radolan/historical/bin/\",\n",
    "           output_path=\"./data/\", if_exists=\"skip\")\n"
   ]
  },
  {
   "cell_type": "code",
   "execution_count": 20,
   "metadata": {},
   "outputs": [
    {
     "name": "stdout",
     "output_type": "stream",
     "text": [
      "[[nan nan nan ... nan nan nan]\n",
      " [nan nan nan ... nan nan nan]\n",
      " [nan nan nan ... nan nan nan]\n",
      " ...\n",
      " [nan nan nan ... nan nan nan]\n",
      " [nan nan nan ... nan nan nan]\n",
      " [nan nan nan ... nan nan nan]]\n",
      "{'producttype': 'RW', 'datetime': datetime.datetime(2005, 6, 30, 23, 45), 'radarid': '10000', 'datasize': 1620000, 'formatversion': 2, 'maxrange': '128 km', 'radolanversion': '01.00.00', 'precision': 0.1, 'intervalseconds': 3600, 'nrow': 900, 'ncol': 900, 'radarlocations': ['bln', 'drs', 'eis', 'emd', 'ess', 'fbg', 'fld', 'fra', 'ham', 'han', 'muc', 'neu', 'nhb', 'ros', 'tur', 'umd'], 'nodataflag': nan, 'secondary': array([], dtype=int64), 'nodatamask': array([     0,      1,      2, ..., 809997, 809998, 809999]), 'cluttermask': array([], dtype=int64)}\n"
     ]
    }
   ],
   "source": [
    "import gzip\n",
    "import tarfile\n",
    "import radolan_to_netcdf as rtn\n",
    "\n",
    "with gzip.open(\"./opendata.dwd.de/climate_environment/CDC/grids_germany/hourly/radolan/historical/bin/2005/RW-200506.tar.gz\") as fd: \n",
    "    with tarfile.open(fileobj = fd) as tar_month:\n",
    "        for item in tar_month:\n",
    "            #print(item)\n",
    "            with tar_month.extractfile(item) as tar_hour:\n",
    "                #print(tar_hour)\n",
    "                with gzip.open(tar_hour) as gz_inner:\n",
    "                    data, metadata = rtn.read_in_one_bin_file(gz_inner)\n",
    "print(data)\n",
    "print(metadata)"
   ]
  },
  {
   "cell_type": "code",
   "execution_count": 88,
   "metadata": {},
   "outputs": [],
   "source": [
    "data, metadata = rtn.read_in_one_bin_file(\"./opendata.dwd.de/climate_environment/CDC/grids_germany/hourly/radolan/historical/bin/2005/RW-200506/raa01-rw_10000-0506010050-dwd---bin\")"
   ]
  },
  {
   "cell_type": "code",
   "execution_count": 87,
   "metadata": {},
   "outputs": [
    {
     "ename": "ValueError",
     "evalue": "I/O operation on closed file",
     "output_type": "error",
     "traceback": [
      "\u001b[0;31m---------------------------------------------------------------------------\u001b[0m",
      "\u001b[0;31mValueError\u001b[0m                                Traceback (most recent call last)",
      "Cell \u001b[0;32mIn [87], line 1\u001b[0m\n\u001b[0;32m----> 1\u001b[0m f\u001b[39m.\u001b[39;49mread()\n",
      "File \u001b[0;32m~/anaconda3/envs/wradlib/lib/python3.10/tarfile.py:684\u001b[0m, in \u001b[0;36m_FileInFile.read\u001b[0;34m(self, size)\u001b[0m\n\u001b[1;32m    682\u001b[0m length \u001b[39m=\u001b[39m \u001b[39mmin\u001b[39m(size, stop \u001b[39m-\u001b[39m \u001b[39mself\u001b[39m\u001b[39m.\u001b[39mposition)\n\u001b[1;32m    683\u001b[0m \u001b[39mif\u001b[39;00m data:\n\u001b[0;32m--> 684\u001b[0m     \u001b[39mself\u001b[39;49m\u001b[39m.\u001b[39;49mfileobj\u001b[39m.\u001b[39;49mseek(offset \u001b[39m+\u001b[39;49m (\u001b[39mself\u001b[39;49m\u001b[39m.\u001b[39;49mposition \u001b[39m-\u001b[39;49m start))\n\u001b[1;32m    685\u001b[0m     b \u001b[39m=\u001b[39m \u001b[39mself\u001b[39m\u001b[39m.\u001b[39mfileobj\u001b[39m.\u001b[39mread(length)\n\u001b[1;32m    686\u001b[0m     \u001b[39mif\u001b[39;00m \u001b[39mlen\u001b[39m(b) \u001b[39m!=\u001b[39m length:\n",
      "File \u001b[0;32m~/anaconda3/envs/wradlib/lib/python3.10/gzip.py:392\u001b[0m, in \u001b[0;36mGzipFile.seek\u001b[0;34m(self, offset, whence)\u001b[0m\n\u001b[1;32m    390\u001b[0m     \u001b[39mself\u001b[39m\u001b[39m.\u001b[39mwrite(\u001b[39mb\u001b[39m\u001b[39m'\u001b[39m\u001b[39m\\0\u001b[39;00m\u001b[39m'\u001b[39m \u001b[39m*\u001b[39m (count \u001b[39m%\u001b[39m \u001b[39m1024\u001b[39m))\n\u001b[1;32m    391\u001b[0m \u001b[39melif\u001b[39;00m \u001b[39mself\u001b[39m\u001b[39m.\u001b[39mmode \u001b[39m==\u001b[39m READ:\n\u001b[0;32m--> 392\u001b[0m     \u001b[39mself\u001b[39;49m\u001b[39m.\u001b[39;49m_check_not_closed()\n\u001b[1;32m    393\u001b[0m     \u001b[39mreturn\u001b[39;00m \u001b[39mself\u001b[39m\u001b[39m.\u001b[39m_buffer\u001b[39m.\u001b[39mseek(offset, whence)\n\u001b[1;32m    395\u001b[0m \u001b[39mreturn\u001b[39;00m \u001b[39mself\u001b[39m\u001b[39m.\u001b[39moffset\n",
      "File \u001b[0;32m~/anaconda3/envs/wradlib/lib/python3.10/_compression.py:14\u001b[0m, in \u001b[0;36mBaseStream._check_not_closed\u001b[0;34m(self)\u001b[0m\n\u001b[1;32m     12\u001b[0m \u001b[39mdef\u001b[39;00m \u001b[39m_check_not_closed\u001b[39m(\u001b[39mself\u001b[39m):\n\u001b[1;32m     13\u001b[0m     \u001b[39mif\u001b[39;00m \u001b[39mself\u001b[39m\u001b[39m.\u001b[39mclosed:\n\u001b[0;32m---> 14\u001b[0m         \u001b[39mraise\u001b[39;00m \u001b[39mValueError\u001b[39;00m(\u001b[39m\"\u001b[39m\u001b[39mI/O operation on closed file\u001b[39m\u001b[39m\"\u001b[39m)\n",
      "\u001b[0;31mValueError\u001b[0m: I/O operation on closed file"
     ]
    }
   ],
   "source": [
    "f.read()"
   ]
  },
  {
   "cell_type": "code",
   "execution_count": 40,
   "metadata": {},
   "outputs": [
    {
     "ename": "AttributeError",
     "evalue": "'ExFileObject' object has no attribute 'isreg'",
     "output_type": "error",
     "traceback": [
      "\u001b[0;31m---------------------------------------------------------------------------\u001b[0m",
      "\u001b[0;31mAttributeError\u001b[0m                            Traceback (most recent call last)",
      "Cell \u001b[0;32mIn [40], line 5\u001b[0m\n\u001b[1;32m      3\u001b[0m fn \u001b[39m=\u001b[39m fn_list[\u001b[39m0\u001b[39m]\n\u001b[1;32m      4\u001b[0m hour \u001b[39m=\u001b[39m tar\u001b[39m.\u001b[39mextractfile(fn)\n\u001b[0;32m----> 5\u001b[0m \u001b[39mprint\u001b[39m(tar\u001b[39m.\u001b[39;49mextractfile(hour))\n\u001b[1;32m      6\u001b[0m \u001b[39mwith\u001b[39;00m tarfile\u001b[39m.\u001b[39mopen(fileobj \u001b[39m=\u001b[39m hour) \u001b[39mas\u001b[39;00m tar_inner:\n\u001b[1;32m      7\u001b[0m     \u001b[39mprint\u001b[39m(tar_inner)\n",
      "File \u001b[0;32m~/anaconda3/envs/wradlib/lib/python3.10/tarfile.py:2131\u001b[0m, in \u001b[0;36mTarFile.extractfile\u001b[0;34m(self, member)\u001b[0m\n\u001b[1;32m   2128\u001b[0m \u001b[39melse\u001b[39;00m:\n\u001b[1;32m   2129\u001b[0m     tarinfo \u001b[39m=\u001b[39m member\n\u001b[0;32m-> 2131\u001b[0m \u001b[39mif\u001b[39;00m tarinfo\u001b[39m.\u001b[39;49misreg() \u001b[39mor\u001b[39;00m tarinfo\u001b[39m.\u001b[39mtype \u001b[39mnot\u001b[39;00m \u001b[39min\u001b[39;00m SUPPORTED_TYPES:\n\u001b[1;32m   2132\u001b[0m     \u001b[39m# Members with unknown types are treated as regular files.\u001b[39;00m\n\u001b[1;32m   2133\u001b[0m     \u001b[39mreturn\u001b[39;00m \u001b[39mself\u001b[39m\u001b[39m.\u001b[39mfileobject(\u001b[39mself\u001b[39m, tarinfo)\n\u001b[1;32m   2135\u001b[0m \u001b[39melif\u001b[39;00m tarinfo\u001b[39m.\u001b[39mislnk() \u001b[39mor\u001b[39;00m tarinfo\u001b[39m.\u001b[39missym():\n",
      "\u001b[0;31mAttributeError\u001b[0m: 'ExFileObject' object has no attribute 'isreg'"
     ]
    }
   ],
   "source": [
    "with tarfile.open(\"opendata.dwd.de/climate_environment/CDC/grids_germany/hourly/radolan/historical/bin/2005/RW-200506.tar.gz\") as tar:\n",
    "    fn_list = sorted([f.name for f in tar.getmembers()])\n",
    "    fn = fn_list[0]\n",
    "    hour = tar.extractfile(fn)\n",
    "    print(tar.extractfile(hour))\n",
    "    with tarfile.open(fileobj = hour) as tar_inner:\n",
    "        print(tar_inner)"
   ]
  },
  {
   "cell_type": "code",
   "execution_count": 38,
   "metadata": {},
   "outputs": [
    {
     "ename": "OSError",
     "evalue": "TarFile is closed",
     "output_type": "error",
     "traceback": [
      "\u001b[0;31m---------------------------------------------------------------------------\u001b[0m",
      "\u001b[0;31mOSError\u001b[0m                                   Traceback (most recent call last)",
      "Cell \u001b[0;32mIn [38], line 1\u001b[0m\n\u001b[0;32m----> 1\u001b[0m tar\u001b[39m.\u001b[39;49mextractfile(fn)\n",
      "File \u001b[0;32m~/anaconda3/envs/wradlib/lib/python3.10/tarfile.py:2124\u001b[0m, in \u001b[0;36mTarFile.extractfile\u001b[0;34m(self, member)\u001b[0m\n\u001b[1;32m   2117\u001b[0m \u001b[39mdef\u001b[39;00m \u001b[39mextractfile\u001b[39m(\u001b[39mself\u001b[39m, member):\n\u001b[1;32m   2118\u001b[0m     \u001b[39m\"\"\"Extract a member from the archive as a file object. `member' may be\u001b[39;00m\n\u001b[1;32m   2119\u001b[0m \u001b[39m       a filename or a TarInfo object. If `member' is a regular file or\u001b[39;00m\n\u001b[1;32m   2120\u001b[0m \u001b[39m       a link, an io.BufferedReader object is returned. For all other\u001b[39;00m\n\u001b[1;32m   2121\u001b[0m \u001b[39m       existing members, None is returned. If `member' does not appear\u001b[39;00m\n\u001b[1;32m   2122\u001b[0m \u001b[39m       in the archive, KeyError is raised.\u001b[39;00m\n\u001b[1;32m   2123\u001b[0m \u001b[39m    \"\"\"\u001b[39;00m\n\u001b[0;32m-> 2124\u001b[0m     \u001b[39mself\u001b[39;49m\u001b[39m.\u001b[39;49m_check(\u001b[39m\"\u001b[39;49m\u001b[39mr\u001b[39;49m\u001b[39m\"\u001b[39;49m)\n\u001b[1;32m   2126\u001b[0m     \u001b[39mif\u001b[39;00m \u001b[39misinstance\u001b[39m(member, \u001b[39mstr\u001b[39m):\n\u001b[1;32m   2127\u001b[0m         tarinfo \u001b[39m=\u001b[39m \u001b[39mself\u001b[39m\u001b[39m.\u001b[39mgetmember(member)\n",
      "File \u001b[0;32m~/anaconda3/envs/wradlib/lib/python3.10/tarfile.py:2430\u001b[0m, in \u001b[0;36mTarFile._check\u001b[0;34m(self, mode)\u001b[0m\n\u001b[1;32m   2426\u001b[0m \u001b[39m\"\"\"Check if TarFile is still open, and if the operation's mode\u001b[39;00m\n\u001b[1;32m   2427\u001b[0m \u001b[39m   corresponds to TarFile's mode.\u001b[39;00m\n\u001b[1;32m   2428\u001b[0m \u001b[39m\"\"\"\u001b[39;00m\n\u001b[1;32m   2429\u001b[0m \u001b[39mif\u001b[39;00m \u001b[39mself\u001b[39m\u001b[39m.\u001b[39mclosed:\n\u001b[0;32m-> 2430\u001b[0m     \u001b[39mraise\u001b[39;00m \u001b[39mOSError\u001b[39;00m(\u001b[39m\"\u001b[39m\u001b[39m%s\u001b[39;00m\u001b[39m is closed\u001b[39m\u001b[39m\"\u001b[39m \u001b[39m%\u001b[39m \u001b[39mself\u001b[39m\u001b[39m.\u001b[39m\u001b[39m__class__\u001b[39m\u001b[39m.\u001b[39m\u001b[39m__name__\u001b[39m)\n\u001b[1;32m   2431\u001b[0m \u001b[39mif\u001b[39;00m mode \u001b[39mis\u001b[39;00m \u001b[39mnot\u001b[39;00m \u001b[39mNone\u001b[39;00m \u001b[39mand\u001b[39;00m \u001b[39mself\u001b[39m\u001b[39m.\u001b[39mmode \u001b[39mnot\u001b[39;00m \u001b[39min\u001b[39;00m mode:\n\u001b[1;32m   2432\u001b[0m     \u001b[39mraise\u001b[39;00m \u001b[39mOSError\u001b[39;00m(\u001b[39m\"\u001b[39m\u001b[39mbad operation for mode \u001b[39m\u001b[39m%r\u001b[39;00m\u001b[39m\"\u001b[39m \u001b[39m%\u001b[39m \u001b[39mself\u001b[39m\u001b[39m.\u001b[39mmode)\n",
      "\u001b[0;31mOSError\u001b[0m: TarFile is closed"
     ]
    }
   ],
   "source": [
    "tar.extractfile(fn)"
   ]
  },
  {
   "cell_type": "code",
   "execution_count": 33,
   "metadata": {},
   "outputs": [
    {
     "data": {
      "text/plain": [
       "'/home/alexander/Github/scripts/dwd_radar/radolan_rw/raa01-rw_10000-0506010050-dwd---bin.gz'"
      ]
     },
     "execution_count": 33,
     "metadata": {},
     "output_type": "execute_result"
    }
   ],
   "source": [
    "os.path.abspath(fn)"
   ]
  },
  {
   "cell_type": "code",
   "execution_count": 20,
   "metadata": {},
   "outputs": [
    {
     "ename": "OSError",
     "evalue": "TarFile is closed",
     "output_type": "error",
     "traceback": [
      "\u001b[0;31m---------------------------------------------------------------------------\u001b[0m",
      "\u001b[0;31mOSError\u001b[0m                                   Traceback (most recent call last)",
      "Cell \u001b[0;32mIn [20], line 1\u001b[0m\n\u001b[0;32m----> 1\u001b[0m tar\u001b[39m.\u001b[39;49mextractfile(fn)\n",
      "File \u001b[0;32m~/anaconda3/envs/wradlib/lib/python3.10/tarfile.py:2124\u001b[0m, in \u001b[0;36mTarFile.extractfile\u001b[0;34m(self, member)\u001b[0m\n\u001b[1;32m   2117\u001b[0m \u001b[39mdef\u001b[39;00m \u001b[39mextractfile\u001b[39m(\u001b[39mself\u001b[39m, member):\n\u001b[1;32m   2118\u001b[0m     \u001b[39m\"\"\"Extract a member from the archive as a file object. `member' may be\u001b[39;00m\n\u001b[1;32m   2119\u001b[0m \u001b[39m       a filename or a TarInfo object. If `member' is a regular file or\u001b[39;00m\n\u001b[1;32m   2120\u001b[0m \u001b[39m       a link, an io.BufferedReader object is returned. For all other\u001b[39;00m\n\u001b[1;32m   2121\u001b[0m \u001b[39m       existing members, None is returned. If `member' does not appear\u001b[39;00m\n\u001b[1;32m   2122\u001b[0m \u001b[39m       in the archive, KeyError is raised.\u001b[39;00m\n\u001b[1;32m   2123\u001b[0m \u001b[39m    \"\"\"\u001b[39;00m\n\u001b[0;32m-> 2124\u001b[0m     \u001b[39mself\u001b[39;49m\u001b[39m.\u001b[39;49m_check(\u001b[39m\"\u001b[39;49m\u001b[39mr\u001b[39;49m\u001b[39m\"\u001b[39;49m)\n\u001b[1;32m   2126\u001b[0m     \u001b[39mif\u001b[39;00m \u001b[39misinstance\u001b[39m(member, \u001b[39mstr\u001b[39m):\n\u001b[1;32m   2127\u001b[0m         tarinfo \u001b[39m=\u001b[39m \u001b[39mself\u001b[39m\u001b[39m.\u001b[39mgetmember(member)\n",
      "File \u001b[0;32m~/anaconda3/envs/wradlib/lib/python3.10/tarfile.py:2430\u001b[0m, in \u001b[0;36mTarFile._check\u001b[0;34m(self, mode)\u001b[0m\n\u001b[1;32m   2426\u001b[0m \u001b[39m\"\"\"Check if TarFile is still open, and if the operation's mode\u001b[39;00m\n\u001b[1;32m   2427\u001b[0m \u001b[39m   corresponds to TarFile's mode.\u001b[39;00m\n\u001b[1;32m   2428\u001b[0m \u001b[39m\"\"\"\u001b[39;00m\n\u001b[1;32m   2429\u001b[0m \u001b[39mif\u001b[39;00m \u001b[39mself\u001b[39m\u001b[39m.\u001b[39mclosed:\n\u001b[0;32m-> 2430\u001b[0m     \u001b[39mraise\u001b[39;00m \u001b[39mOSError\u001b[39;00m(\u001b[39m\"\u001b[39m\u001b[39m%s\u001b[39;00m\u001b[39m is closed\u001b[39m\u001b[39m\"\u001b[39m \u001b[39m%\u001b[39m \u001b[39mself\u001b[39m\u001b[39m.\u001b[39m\u001b[39m__class__\u001b[39m\u001b[39m.\u001b[39m\u001b[39m__name__\u001b[39m)\n\u001b[1;32m   2431\u001b[0m \u001b[39mif\u001b[39;00m mode \u001b[39mis\u001b[39;00m \u001b[39mnot\u001b[39;00m \u001b[39mNone\u001b[39;00m \u001b[39mand\u001b[39;00m \u001b[39mself\u001b[39m\u001b[39m.\u001b[39mmode \u001b[39mnot\u001b[39;00m \u001b[39min\u001b[39;00m mode:\n\u001b[1;32m   2432\u001b[0m     \u001b[39mraise\u001b[39;00m \u001b[39mOSError\u001b[39;00m(\u001b[39m\"\u001b[39m\u001b[39mbad operation for mode \u001b[39m\u001b[39m%r\u001b[39;00m\u001b[39m\"\u001b[39m \u001b[39m%\u001b[39m \u001b[39mself\u001b[39m\u001b[39m.\u001b[39mmode)\n",
      "\u001b[0;31mOSError\u001b[0m: TarFile is closed"
     ]
    }
   ],
   "source": [
    "tar.extractfile(fn)"
   ]
  }
 ],
 "metadata": {
  "kernelspec": {
   "display_name": "Python 3.10.6 ('wradlib')",
   "language": "python",
   "name": "python3"
  },
  "language_info": {
   "codemirror_mode": {
    "name": "ipython",
    "version": 3
   },
   "file_extension": ".py",
   "mimetype": "text/x-python",
   "name": "python",
   "nbconvert_exporter": "python",
   "pygments_lexer": "ipython3",
   "version": "3.10.6"
  },
  "orig_nbformat": 4,
  "vscode": {
   "interpreter": {
    "hash": "4a6cca48d9dc54240b1120f997bc89567c6fdd4e63a089bb9c0f7621569d912d"
   }
  }
 },
 "nbformat": 4,
 "nbformat_minor": 2
}

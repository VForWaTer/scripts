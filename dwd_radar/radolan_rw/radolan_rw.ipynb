{
 "cells": [
  {
   "cell_type": "markdown",
   "metadata": {},
   "source": [
    "\n",
    "# RADOLAN RW download and upload to metacatalog, including creation of metadata\n",
    "\n",
    "This is the final solution, using `radolan_to_netcdf` for download and splitting the netCDF daily when uploading to metacatalog!\n",
    "\n",
    "All available RADOLAN RW (hourly resolution) data: **2005 - 2021**"
   ]
  },
  {
   "cell_type": "code",
   "execution_count": 1,
   "metadata": {},
   "outputs": [],
   "source": [
    "import tarfile\n",
    "import gzip\n",
    "from glob import glob\n",
    "import os\n",
    "\n",
    "import tqdm\n",
    "import xarray as xr\n",
    "\n",
    "import radolan_to_netcdf as rtn\n",
    "#import cf\n",
    "\n",
    "from metacatalog import api, ext"
   ]
  },
  {
   "cell_type": "code",
   "execution_count": 2,
   "metadata": {},
   "outputs": [
    {
     "name": "stdout",
     "output_type": "stream",
     "text": [
      "opendata.dwd.de/cli     [ <=>                ]   2,42K  --.-KB/s    in 0s      \n",
      "opendata.dwd.de/cli     [ <=>                ]   1,10K  --.-KB/s    in 0s      \n",
      "opendata.dwd.de/cli     [ <=>                ]   1,68K  --.-KB/s    in 0s      \n",
      "opendata.dwd.de/cli     [ <=>                ]   1,68K  --.-KB/s    in 0s      \n",
      "opendata.dwd.de/cli     [ <=>                ]   1,68K  --.-KB/s    in 0s      \n",
      "opendata.dwd.de/cli     [ <=>                ]   1,68K  --.-KB/s    in 0s      \n",
      "opendata.dwd.de/cli     [ <=>                ]   1,68K  --.-KB/s    in 0s      \n",
      "opendata.dwd.de/cli     [ <=>                ]   1,68K  --.-KB/s    in 0s      \n",
      "opendata.dwd.de/cli     [ <=>                ]   1,68K  --.-KB/s    in 0s      \n",
      "opendata.dwd.de/cli     [ <=>                ]   1,68K  --.-KB/s    in 0s      \n",
      "opendata.dwd.de/cli     [ <=>                ]   1,68K  --.-KB/s    in 0s      \n",
      "opendata.dwd.de/cli     [ <=>                ]   1,68K  --.-KB/s    in 0s      \n",
      "opendata.dwd.de/cli     [ <=>                ]   1,68K  --.-KB/s    in 0s      \n",
      "opendata.dwd.de/cli     [ <=>                ]   1,68K  --.-KB/s    in 0s      \n",
      "opendata.dwd.de/cli     [ <=>                ]   1,68K  --.-KB/s    in 0s      \n",
      "opendata.dwd.de/cli     [ <=>                ]   1,68K  --.-KB/s    in 0s      \n",
      "opendata.dwd.de/cli     [ <=>                ]   1,68K  --.-KB/s    in 0s      \n",
      "opendata.dwd.de/cli     [ <=>                ]   1,68K  --.-KB/s    in 0s      \n",
      "opendata.dwd.de/cli 100%[===================>]  27,54M  11,2MB/s    in 2,5s    \n",
      "opendata.dwd.de/cli 100%[===================>]  45,42M  10,9MB/s    in 4,2s    \n",
      "opendata.dwd.de/cli 100%[===================>]  36,42M  11,2MB/s    in 3,3s    \n",
      "opendata.dwd.de/cli 100%[===================>]  27,07M  10,4MB/s    in 2,6s    \n",
      "opendata.dwd.de/cli 100%[===================>]  21,41M  11,1MB/s    in 1,9s    \n",
      "opendata.dwd.de/cli 100%[===================>]  26,57M  11,1MB/s    in 2,4s    \n",
      "opendata.dwd.de/cli 100%[===================>]  33,27M  11,2MB/s    in 3,0s    \n",
      "opendata.dwd.de/cli 100%[===================>]  15,10M  9,85MB/s    in 1,5s    \n",
      "opendata.dwd.de/cli 100%[===================>]  24,63M  11,2MB/s    in 2,2s    \n",
      "opendata.dwd.de/cli 100%[===================>]  37,25M  11,2MB/s    in 3,3s    \n",
      "opendata.dwd.de/cli 100%[===================>]  38,50M  11,1MB/s    in 3,5s    \n",
      "opendata.dwd.de/cli 100%[===================>]  44,01M  11,2MB/s    in 3,9s    \n",
      "opendata.dwd.de/cli 100%[===================>]  26,63M  11,2MB/s    in 2,4s    \n",
      "opendata.dwd.de/cli 100%[===================>]  28,39M  11,2MB/s    in 2,5s    \n",
      "opendata.dwd.de/cli 100%[===================>]  64,15M  11,1MB/s    in 6,0s    \n",
      "opendata.dwd.de/cli 100%[===================>]  20,90M  11,2MB/s    in 1,9s    \n",
      "opendata.dwd.de/cli 100%[===================>]  34,22M  11,2MB/s    in 3,1s    \n",
      "opendata.dwd.de/cli 100%[===================>]  35,14M  10,9MB/s    in 3,4s    \n",
      "opendata.dwd.de/cli 100%[===================>]  26,30M  11,0MB/s    in 2,4s    \n",
      "opendata.dwd.de/cli 100%[===================>]  43,17M  10,5MB/s    in 4,1s    \n",
      "opendata.dwd.de/cli 100%[===================>]  32,92M  9,62MB/s    in 3,4s    \n",
      "opendata.dwd.de/cli 100%[===================>]  31,69M  11,0MB/s    in 2,9s    \n",
      "opendata.dwd.de/cli 100%[===================>]   9,50M  11,1MB/s    in 0,9s    \n",
      "opendata.dwd.de/cli 100%[===================>]  48,59M  10,5MB/s    in 4,6s    \n",
      "opendata.dwd.de/cli 100%[===================>]  47,56M  11,2MB/s    in 4,3s    \n",
      "opendata.dwd.de/cli 100%[===================>]  52,44M  10,4MB/s    in 4,9s    \n",
      "opendata.dwd.de/cli 100%[===================>]  39,04M  11,2MB/s    in 3,5s    \n",
      "opendata.dwd.de/cli 100%[===================>]  36,87M  11,2MB/s    in 3,3s    \n",
      "opendata.dwd.de/cli 100%[===================>]  19,53M  11,2MB/s    in 1,7s    \n",
      "opendata.dwd.de/cli 100%[===================>]  38,35M  10,5MB/s    in 3,6s    \n",
      "opendata.dwd.de/cli 100%[===================>]  31,19M  11,0MB/s    in 2,8s    \n",
      "opendata.dwd.de/cli 100%[===================>]  31,76M  11,1MB/s    in 2,9s    \n",
      "opendata.dwd.de/cli 100%[===================>]  21,65M  11,0MB/s    in 2,0s    \n",
      "opendata.dwd.de/cli 100%[===================>]  44,13M  11,1MB/s    in 4,2s    \n",
      "opendata.dwd.de/cli 100%[===================>]  39,03M  11,0MB/s    in 3,5s    \n",
      "opendata.dwd.de/cli 100%[===================>]  24,99M  10,9MB/s    in 2,3s    \n",
      "opendata.dwd.de/cli 100%[===================>]  33,69M  10,5MB/s    in 3,2s    \n",
      "opendata.dwd.de/cli 100%[===================>]  44,42M  10,5MB/s    in 4,2s    \n",
      "opendata.dwd.de/cli 100%[===================>]  43,11M  10,5MB/s    in 4,0s    \n",
      "opendata.dwd.de/cli 100%[===================>]  32,15M  11,0MB/s    in 2,9s    \n",
      "opendata.dwd.de/cli 100%[===================>]  39,21M  11,1MB/s    in 3,5s    \n",
      "opendata.dwd.de/cli 100%[===================>]  28,55M  10,9MB/s    in 2,6s    \n",
      "opendata.dwd.de/cli 100%[===================>]  24,82M  11,2MB/s    in 2,2s    \n",
      "opendata.dwd.de/cli 100%[===================>]  21,07M  10,2MB/s    in 2,1s    \n",
      "opendata.dwd.de/cli 100%[===================>]  30,31M  9,40MB/s    in 3,2s    \n",
      "opendata.dwd.de/cli 100%[===================>]  37,38M  11,2MB/s    in 3,4s    \n",
      "opendata.dwd.de/cli 100%[===================>]  22,97M  10,3MB/s    in 2,2s    \n",
      "opendata.dwd.de/cli 100%[===================>]  39,62M  11,2MB/s    in 3,6s    \n",
      "opendata.dwd.de/cli 100%[===================>]  40,46M  11,2MB/s    in 3,6s    \n",
      "opendata.dwd.de/cli 100%[===================>]  50,20M  10,2MB/s    in 4,8s    \n",
      "opendata.dwd.de/cli 100%[===================>]  31,01M  11,1MB/s    in 2,8s    \n",
      "opendata.dwd.de/cli 100%[===================>]  27,18M  11,1MB/s    in 2,4s    \n",
      "opendata.dwd.de/cli 100%[===================>]  39,20M  10,2MB/s    in 3,8s    \n",
      "opendata.dwd.de/cli 100%[===================>]  43,45M  11,1MB/s    in 3,9s    \n",
      "opendata.dwd.de/cli 100%[===================>]  39,75M  11,1MB/s    in 3,6s    \n",
      "opendata.dwd.de/cli 100%[===================>]  26,09M  10,4MB/s    in 2,5s    \n",
      "opendata.dwd.de/cli 100%[===================>]  27,94M  11,2MB/s    in 2,5s    \n",
      "opendata.dwd.de/cli 100%[===================>]  32,83M  10,8MB/s    in 3,0s    \n",
      "opendata.dwd.de/cli 100%[===================>]  25,97M  11,1MB/s    in 2,3s    \n",
      "opendata.dwd.de/cli 100%[===================>]  46,83M  11,2MB/s    in 4,4s    \n",
      "opendata.dwd.de/cli 100%[===================>]  26,15M  11,2MB/s    in 2,3s    \n",
      "opendata.dwd.de/cli 100%[===================>]  35,68M  11,2MB/s    in 3,2s    \n",
      "opendata.dwd.de/cli 100%[===================>]  60,75M  11,1MB/s    in 5,6s    \n",
      "opendata.dwd.de/cli 100%[===================>]  37,30M  11,2MB/s    in 3,3s    \n",
      "opendata.dwd.de/cli 100%[===================>]  25,00M  10,3MB/s    in 2,4s    \n",
      "opendata.dwd.de/cli 100%[===================>]  38,04M  11,1MB/s    in 3,4s    \n",
      "opendata.dwd.de/cli 100%[===================>]  34,74M  11,0MB/s    in 3,4s    \n",
      "opendata.dwd.de/cli 100%[===================>]  29,13M  11,2MB/s    in 2,6s    \n",
      "opendata.dwd.de/cli 100%[===================>]  18,24M  11,2MB/s    in 1,6s    \n",
      "opendata.dwd.de/cli 100%[===================>]  15,23M  9,85MB/s    in 1,5s    \n",
      "opendata.dwd.de/cli 100%[===================>]  18,53M  11,2MB/s    in 1,7s    \n",
      "opendata.dwd.de/cli 100%[===================>]  26,21M  11,2MB/s    in 2,3s    \n",
      "opendata.dwd.de/cli 100%[===================>]  40,10M  11,1MB/s    in 3,6s    \n",
      "opendata.dwd.de/cli 100%[===================>]  48,85M  10,6MB/s    in 4,6s    \n",
      "opendata.dwd.de/cli 100%[===================>]  43,17M  11,0MB/s    in 3,9s    \n",
      "opendata.dwd.de/cli 100%[===================>]  27,89M  10,3MB/s    in 2,7s    \n",
      "opendata.dwd.de/cli 100%[===================>]  26,59M  11,1MB/s    in 2,4s    \n",
      "opendata.dwd.de/cli 100%[===================>]   9,12M  11,2MB/s    in 0,8s    \n",
      "opendata.dwd.de/cli 100%[===================>]  48,78M  10,4MB/s    in 4,6s    \n",
      "opendata.dwd.de/cli 100%[===================>]  40,64M  11,1MB/s    in 3,7s    \n",
      "opendata.dwd.de/cli 100%[===================>]  16,59M  10,6MB/s    in 1,6s    \n",
      "opendata.dwd.de/cli 100%[===================>]  13,73M  11,0MB/s    in 1,2s    \n",
      "opendata.dwd.de/cli 100%[===================>]  32,92M  10,7MB/s    in 3,1s    \n",
      "opendata.dwd.de/cli 100%[===================>]  32,05M  10,8MB/s    in 3,0s    \n",
      "opendata.dwd.de/cli 100%[===================>]  44,36M  10,4MB/s    in 4,3s    \n",
      "opendata.dwd.de/cli 100%[===================>]  47,43M  11,2MB/s    in 4,3s    \n",
      "opendata.dwd.de/cli 100%[===================>]  34,51M  11,1MB/s    in 3,1s    \n",
      "opendata.dwd.de/cli 100%[===================>]  28,95M  10,2MB/s    in 2,8s    \n",
      "opendata.dwd.de/cli 100%[===================>]  33,77M  10,7MB/s    in 3,2s    \n",
      "opendata.dwd.de/cli 100%[===================>]  30,09M  10,7MB/s    in 2,8s    \n",
      "opendata.dwd.de/cli 100%[===================>]  46,91M  9,87MB/s    in 4,7s    \n",
      "opendata.dwd.de/cli 100%[===================>]  33,21M  11,1MB/s    in 3,0s    \n",
      "opendata.dwd.de/cli 100%[===================>]  28,03M  11,1MB/s    in 2,5s    \n",
      "opendata.dwd.de/cli 100%[===================>]  25,46M  10,7MB/s    in 2,4s    \n",
      "opendata.dwd.de/cli 100%[===================>]  26,28M  10,2MB/s    in 2,6s    \n",
      "opendata.dwd.de/cli 100%[===================>]  54,10M  11,1MB/s    in 4,9s    \n",
      "opendata.dwd.de/cli 100%[===================>]  39,82M  9,68MB/s    in 4,0s    \n",
      "opendata.dwd.de/cli 100%[===================>]  24,87M  11,2MB/s    in 2,2s    \n",
      "opendata.dwd.de/cli 100%[===================>]  31,41M  11,2MB/s    in 2,8s    \n",
      "opendata.dwd.de/cli 100%[===================>]  38,77M  11,1MB/s    in 3,5s    \n",
      "opendata.dwd.de/cli 100%[===================>]  38,15M  10,8MB/s    in 3,6s    \n",
      "opendata.dwd.de/cli 100%[===================>]  34,96M  11,1MB/s    in 3,1s    \n",
      "opendata.dwd.de/cli 100%[===================>]  28,24M  11,1MB/s    in 2,5s    \n",
      "opendata.dwd.de/cli 100%[===================>]  30,33M  9,96MB/s    in 3,0s    \n",
      "opendata.dwd.de/cli 100%[===================>]  25,94M  11,1MB/s    in 2,3s    \n",
      "opendata.dwd.de/cli 100%[===================>]  18,62M  11,2MB/s    in 1,7s    \n",
      "opendata.dwd.de/cli 100%[===================>]  31,49M  11,2MB/s    in 2,8s    \n",
      "opendata.dwd.de/cli 100%[===================>]  47,54M  10,5MB/s    in 4,4s    \n",
      "opendata.dwd.de/cli 100%[===================>]  30,96M  11,2MB/s    in 2,8s    \n",
      "opendata.dwd.de/cli 100%[===================>]  47,77M  11,2MB/s    in 4,3s    \n",
      "opendata.dwd.de/cli 100%[===================>]  51,44M  10,5MB/s    in 4,8s    \n",
      "opendata.dwd.de/cli 100%[===================>]  28,80M  7,48MB/s    in 3,9s    \n",
      "opendata.dwd.de/cli 100%[===================>]  37,83M  2,45MB/s    in 7,5s    \n",
      "opendata.dwd.de/cli 100%[===================>]  24,93M  8,20MB/s    in 3,0s    \n",
      "opendata.dwd.de/cli 100%[===================>]  38,61M  8,00MB/s    in 4,9s    \n",
      "opendata.dwd.de/cli 100%[===================>]  42,47M  9,87MB/s    in 4,4s    \n",
      "opendata.dwd.de/cli 100%[===================>]  18,38M  9,86MB/s    in 1,9s    \n",
      "opendata.dwd.de/cli 100%[===================>]  32,72M  9,19MB/s    in 3,5s    \n",
      "opendata.dwd.de/cli 100%[===================>]  29,52M  9,24MB/s    in 3,2s    \n",
      "opendata.dwd.de/cli 100%[===================>]  38,01M  10,4MB/s    in 3,8s    \n",
      "opendata.dwd.de/cli 100%[===================>]  35,21M  9,01MB/s    in 4,0s    \n",
      "opendata.dwd.de/cli 100%[===================>]  38,84M  9,30MB/s    in 4,3s    \n",
      "opendata.dwd.de/cli 100%[===================>]  37,14M  10,3MB/s    in 3,6s    \n",
      "opendata.dwd.de/cli 100%[===================>]  37,41M  8,99MB/s    in 4,2s    \n",
      "opendata.dwd.de/cli 100%[===================>]  26,39M  9,04MB/s    in 2,9s    \n",
      "opendata.dwd.de/cli 100%[===================>]  42,86M  9,66MB/s    in 4,4s    \n",
      "opendata.dwd.de/cli 100%[===================>]  24,46M  8,47MB/s    in 2,9s    \n",
      "opendata.dwd.de/cli 100%[===================>]  39,17M  7,90MB/s    in 4,8s    \n",
      "opendata.dwd.de/cli 100%[===================>]  35,51M  10,2MB/s    in 3,6s    \n",
      "opendata.dwd.de/cli 100%[===================>]  27,14M  9,23MB/s    in 2,9s    \n",
      "opendata.dwd.de/cli 100%[===================>]  37,34M  9,59MB/s    in 3,9s    \n",
      "opendata.dwd.de/cli 100%[===================>]  35,00M  9,79MB/s    in 3,6s    \n",
      "opendata.dwd.de/cli 100%[===================>]  51,86M  10,7MB/s    in 5,2s    \n",
      "opendata.dwd.de/cli 100%[===================>]  36,82M  10,8MB/s    in 3,4s    \n",
      "opendata.dwd.de/cli 100%[===================>]  29,61M  10,4MB/s    in 2,9s    \n",
      "opendata.dwd.de/cli 100%[===================>]  19,28M  11,0MB/s    in 1,8s    \n",
      "opendata.dwd.de/cli 100%[===================>]  30,15M  10,5MB/s    in 2,9s    \n",
      "opendata.dwd.de/cli 100%[===================>]  28,31M  10,4MB/s    in 2,7s    \n",
      "opendata.dwd.de/cli 100%[===================>]  15,71M  7,38MB/s    in 2,1s    \n",
      "opendata.dwd.de/cli 100%[===================>]  23,12M  10,9MB/s    in 2,1s    \n",
      "opendata.dwd.de/cli 100%[===================>]  23,05M  11,0MB/s    in 2,1s    \n",
      "opendata.dwd.de/cli 100%[===================>]  26,55M  9,42MB/s    in 2,8s    \n",
      "opendata.dwd.de/cli 100%[===================>]  26,48M  10,1MB/s    in 2,6s    \n",
      "opendata.dwd.de/cli 100%[===================>]  29,77M  10,5MB/s    in 2,8s    \n",
      "opendata.dwd.de/cli 100%[===================>]  34,59M  10,7MB/s    in 3,2s    \n",
      "opendata.dwd.de/cli 100%[===================>]  45,60M  9,02MB/s    in 4,7s    \n",
      "opendata.dwd.de/cli 100%[===================>]  35,69M  10,0MB/s    in 3,6s    \n",
      "opendata.dwd.de/cli 100%[===================>]  36,87M  9,95MB/s    in 3,8s    \n",
      "opendata.dwd.de/cli 100%[===================>]  35,11M  8,45MB/s    in 3,9s    \n",
      "opendata.dwd.de/cli 100%[===================>]  38,90M  8,99MB/s    in 4,2s    \n",
      "opendata.dwd.de/cli 100%[===================>]  35,96M  9,21MB/s    in 4,0s    \n",
      "opendata.dwd.de/cli 100%[===================>]  42,38M  8,53MB/s    in 5,3s    \n",
      "opendata.dwd.de/cli 100%[===================>]  16,18M  8,96MB/s    in 1,8s    \n",
      "opendata.dwd.de/cli 100%[===================>]  30,75M  9,02MB/s    in 3,4s    \n",
      "opendata.dwd.de/cli 100%[===================>]  27,15M  7,48MB/s    in 3,6s    \n",
      "opendata.dwd.de/cli 100%[===================>]  28,30M  8,20MB/s    in 3,5s    \n",
      "opendata.dwd.de/cli 100%[===================>]  24,66M  8,52MB/s    in 2,9s    \n",
      "opendata.dwd.de/cli 100%[===================>]  23,09M  9,63MB/s    in 2,4s    \n",
      "opendata.dwd.de/cli 100%[===================>]  29,01M  9,33MB/s    in 3,1s    \n",
      "opendata.dwd.de/cli 100%[===================>]  23,80M  9,25MB/s    in 2,6s    \n",
      "opendata.dwd.de/cli 100%[===================>]  19,37M  8,14MB/s    in 2,4s    \n",
      "opendata.dwd.de/cli 100%[===================>]  20,64M  9,77MB/s    in 2,1s    \n",
      "opendata.dwd.de/cli 100%[===================>]  43,44M  5,69MB/s    in 6,4s    \n",
      "opendata.dwd.de/cli 100%[===================>]  34,59M  8,56MB/s    in 5,8s    \n",
      "opendata.dwd.de/cli 100%[===================>]  19,44M  8,83MB/s    in 2,2s    \n",
      "opendata.dwd.de/cli 100%[===================>]  38,27M  9,09MB/s    in 4,1s    \n",
      "opendata.dwd.de/cli 100%[===================>]  23,79M  6,49MB/s    in 3,6s    \n",
      "opendata.dwd.de/cli 100%[===================>]  38,17M  4,71MB/s    in 6,2s    \n",
      "opendata.dwd.de/cli 100%[===================>]  28,31M  8,79MB/s    in 3,3s    \n",
      "opendata.dwd.de/cli 100%[===================>]  29,53M  10,7MB/s    in 2,8s    \n",
      "opendata.dwd.de/cli 100%[===================>]  35,98M  9,24MB/s    in 3,8s    \n",
      "opendata.dwd.de/cli 100%[===================>]  37,12M  10,6MB/s    in 3,5s    \n",
      "opendata.dwd.de/cli 100%[===================>]  44,25M  9,90MB/s    in 4,7s    \n",
      "opendata.dwd.de/cli 100%[===================>]  35,76M  8,51MB/s    in 4,2s    \n",
      "opendata.dwd.de/cli 100%[===================>]  33,99M  10,7MB/s    in 3,2s    \n",
      "opendata.dwd.de/cli 100%[===================>]  25,40M  10,5MB/s    in 2,4s    \n",
      "opendata.dwd.de/cli 100%[===================>]  50,68M  9,69MB/s    in 5,5s    \n",
      "opendata.dwd.de/cli 100%[===================>]  27,47M  9,27MB/s    in 3,0s    \n",
      "opendata.dwd.de/cli 100%[===================>]  15,46M  7,78MB/s    in 2,0s    \n",
      "opendata.dwd.de/cli 100%[===================>]  26,64M  7,92MB/s    in 3,4s    \n",
      "opendata.dwd.de/cli 100%[===================>]  43,51M  8,61MB/s    in 5,7s    \n",
      "opendata.dwd.de/cli 100%[===================>]  30,82M  10,1MB/s    in 3,1s    \n",
      "opendata.dwd.de/cli 100%[===================>]  40,73M  10,8MB/s    in 3,8s    \n",
      "opendata.dwd.de/cli 100%[===================>]  25,70M  10,3MB/s    in 2,5s    \n",
      "opendata.dwd.de/cli 100%[===================>]  45,61M  10,9MB/s    in 4,5s    \n",
      "opendata.dwd.de/cli 100%[===================>]  18,11M  10,8MB/s    in 1,7s    \n",
      "opendata.dwd.de/cli 100%[===================>]  35,34M  9,75MB/s    in 3,7s    \n",
      "opendata.dwd.de/cli 100%[===================>]  39,08M  9,42MB/s    in 4,0s    \n",
      "opendata.dwd.de/cli 100%[===================>]  27,61M  10,2MB/s    in 2,7s    \n",
      "opendata.dwd.de/cli 100%[===================>]  29,50M  10,5MB/s    in 2,8s    \n",
      "opendata.dwd.de/cli 100%[===================>]  28,90M  9,94MB/s    in 2,9s    \n",
      "opendata.dwd.de/cli 100%[===================>]  56,13M  9,26MB/s    in 5,6s    \n",
      "opendata.dwd.de/cli 100%[===================>]  35,86M  9,25MB/s    in 4,0s    \n",
      "opendata.dwd.de/cli 100%[===================>]  46,03M  11,1MB/s    in 4,3s    \n",
      "opendata.dwd.de/cli 100%[===================>]  46,35M  8,31MB/s    in 5,1s    \n",
      "opendata.dwd.de/cli 100%[===================>]  21,47M  9,14MB/s    in 2,3s    \n",
      "opendata.dwd.de/cli 100%[===================>]  31,73M  8,38MB/s    in 3,7s    \n",
      "opendata.dwd.de/cli 100%[===================>]  28,56M  7,92MB/s    in 3,6s    \n",
      "opendata.dwd.de/cli 100%[===================>]  33,53M  8,47MB/s    in 3,9s    \n",
      "CPU times: user 20.1 s, sys: 3.66 s, total: 23.8 s\n",
      "Wall time: 11min 6s\n"
     ]
    }
   ],
   "source": [
    "%%time\n",
    "\n",
    "!wget -q --show-progress -r -np -A .tar.gz -R \"index.html*\" https://opendata.dwd.de/climate_environment/CDC/grids_germany/hourly/radolan/historical/bin/"
   ]
  },
  {
   "cell_type": "markdown",
   "metadata": {},
   "source": [
    "Corrupted binary files in `RW-200508.tar.gz` -> delete `RW-200506.tar.gz, RW-200507.tar.gz, RW-200508.tar.gz`  \n",
    "So our RADOLAN data will start with `RW-200509.tar.gz` -> if we would fix the binary files by hand, this would be needed everytime we re-download the data, so we just don`t use the first three months.\n",
    "\n",
    "Function to extract downloaded binary files into netCDF files"
   ]
  },
  {
   "cell_type": "code",
   "execution_count": 2,
   "metadata": {},
   "outputs": [
    {
     "name": "stdout",
     "output_type": "stream",
     "text": [
      "'opendata.dwd.de/climate_environment/CDC/grids_germany/hourly/radolan/historical/bin/2005/RW-200506.tar.gz' wurde entfernt\n",
      "'opendata.dwd.de/climate_environment/CDC/grids_germany/hourly/radolan/historical/bin/2005/RW-200507.tar.gz' wurde entfernt\n",
      "'opendata.dwd.de/climate_environment/CDC/grids_germany/hourly/radolan/historical/bin/2005/RW-200508.tar.gz' wurde entfernt\n"
     ]
    }
   ],
   "source": [
    "# delete RW-200506.tar.gz, RW-200507.tar.gz, RW-200508.tar.gz\n",
    "!rm -v opendata.dwd.de/climate_environment/CDC/grids_germany/hourly/radolan/historical/bin/2005/RW-200506.tar.gz opendata.dwd.de/climate_environment/CDC/grids_germany/hourly/radolan/historical/bin/2005/RW-200507.tar.gz opendata.dwd.de/climate_environment/CDC/grids_germany/hourly/radolan/historical/bin/2005/RW-200508.tar.gz"
   ]
  },
  {
   "cell_type": "code",
   "execution_count": 10,
   "metadata": {},
   "outputs": [],
   "source": [
    "def tar2netcdf(input_path: str, output_path: str):\n",
    "    \"\"\"\n",
    "    Untar DWD binary downloads and store as daily netCDF files under path.\n",
    "\n",
    "    Note:\n",
    "    ------\n",
    "    This function is not restartable at the moment!\n",
    "\n",
    "    Parameters:\n",
    "    ------\n",
    "    input_path: str \n",
    "        path to the folder where binary DWD downloads are stored (yearly folders).\n",
    "        Usually something like *\"./opendata.dwd.de/climate_environment/CDC/grids_germany/5_minutes/radolan/reproc/2017_002/bin\"*\n",
    "    output_path: str\n",
    "        where to store generated netCDF files\n",
    "    \"\"\"\n",
    "    # get the absolute output_path, where netCDF files are saved\n",
    "    output_path = os.path.abspath(output_path)\n",
    "\n",
    "    # create folder in output path\n",
    "    os.makedirs(output_path, exist_ok=True)\n",
    "\n",
    "    # loop over binary files\n",
    "    for year in sorted(glob(f\"{input_path}/*\")):\n",
    "        print(f\"Extracting data for the year {year[-4:]}\")\n",
    "        for month in tqdm.tqdm(sorted(glob(year + '/*'))):\n",
    "            with gzip.open(month, 'r') as fd:\n",
    "                with tarfile.open(fileobj = fd) as tar_month:\n",
    "                    fn_list_hour = sorted([f.name for f in tar_month.getmembers()])\n",
    "\n",
    "                    for fn in fn_list_hour:\n",
    "                        # fn: 'raa01-rw_10000-0506010050-dwd---bin.gz'\n",
    "                        # netCDF file name\n",
    "                        fn_netcdf = f\"{output_path}/{year[-4:]}{fn[-21:-17]}_radolan_rw.nc\" # fn[-21:-17] -> %m%d\n",
    "\n",
    "                        # only create new netCDF when it does not already exist, a new netCDF file will be created if filename (-> day) changes\n",
    "                        if os.path.exists(fn_netcdf):\n",
    "                            pass\n",
    "                        else:\n",
    "                            # create (empty) daily netCDF                    \n",
    "                            rtn.create_empty_netcdf(fn=fn_netcdf, product_name='RW')\n",
    "                        \n",
    "                        # extract hourly file\n",
    "                        f_hour = tar_month.extractfile(fn)\n",
    "\n",
    "                        with gzip.open(f_hour) as gz_hour:\n",
    "                            # extract hourly data, append to previously created daily netCDF\n",
    "                            data, metadata = rtn.read_in_one_bin_file(gz_hour)\n",
    "                            rtn.append_to_netcdf(\n",
    "                                fn_netcdf, \n",
    "                                data_list=[data, ], \n",
    "                                metadata_list=[metadata, ],\n",
    "                            )\n",
    "\n",
    "                "
   ]
  },
  {
   "cell_type": "code",
   "execution_count": 11,
   "metadata": {},
   "outputs": [
    {
     "name": "stdout",
     "output_type": "stream",
     "text": [
      "Extracting data for the year 2005\n"
     ]
    },
    {
     "name": "stderr",
     "output_type": "stream",
     "text": [
      "100%|██████████| 4/4 [02:21<00:00, 35.28s/it]\n"
     ]
    },
    {
     "name": "stdout",
     "output_type": "stream",
     "text": [
      "Extracting data for the year 2006\n"
     ]
    },
    {
     "name": "stderr",
     "output_type": "stream",
     "text": [
      "100%|██████████| 12/12 [07:12<00:00, 36.02s/it]\n"
     ]
    },
    {
     "name": "stdout",
     "output_type": "stream",
     "text": [
      "Extracting data for the year 2007\n"
     ]
    },
    {
     "name": "stderr",
     "output_type": "stream",
     "text": [
      "100%|██████████| 12/12 [07:23<00:00, 36.96s/it]\n"
     ]
    },
    {
     "name": "stdout",
     "output_type": "stream",
     "text": [
      "Extracting data for the year 2008\n"
     ]
    },
    {
     "name": "stderr",
     "output_type": "stream",
     "text": [
      "100%|██████████| 12/12 [08:22<00:00, 41.89s/it]\n"
     ]
    },
    {
     "name": "stdout",
     "output_type": "stream",
     "text": [
      "Extracting data for the year 2009\n"
     ]
    },
    {
     "name": "stderr",
     "output_type": "stream",
     "text": [
      " 83%|████████▎ | 10/12 [07:50<01:34, 47.08s/it]\n"
     ]
    },
    {
     "ename": "KeyboardInterrupt",
     "evalue": "",
     "output_type": "error",
     "traceback": [
      "\u001b[0;31m---------------------------------------------------------------------------\u001b[0m",
      "\u001b[0;31mKeyboardInterrupt\u001b[0m                         Traceback (most recent call last)",
      "Cell \u001b[0;32mIn [11], line 1\u001b[0m\n\u001b[0;32m----> 1\u001b[0m tar2netcdf(input_path\u001b[39m=\u001b[39;49m\u001b[39m\"\u001b[39;49m\u001b[39m./opendata.dwd.de/climate_environment/CDC/grids_germany/hourly/radolan/historical/bin/\u001b[39;49m\u001b[39m\"\u001b[39;49m,\n\u001b[1;32m      2\u001b[0m            output_path\u001b[39m=\u001b[39;49m\u001b[39m\"\u001b[39;49m\u001b[39m./data/\u001b[39;49m\u001b[39m\"\u001b[39;49m, if_exists\u001b[39m=\u001b[39;49m\u001b[39m\"\u001b[39;49m\u001b[39mskip\u001b[39;49m\u001b[39m\"\u001b[39;49m)\n",
      "Cell \u001b[0;32mIn [10], line 63\u001b[0m, in \u001b[0;36mtar2netcdf\u001b[0;34m(input_path, output_path, if_exists, delete_last)\u001b[0m\n\u001b[1;32m     60\u001b[0m     \u001b[39mpass\u001b[39;00m\n\u001b[1;32m     61\u001b[0m \u001b[39melse\u001b[39;00m:\n\u001b[1;32m     62\u001b[0m     \u001b[39m# create (empty) daily netCDF                    \u001b[39;00m\n\u001b[0;32m---> 63\u001b[0m     rtn\u001b[39m.\u001b[39;49mcreate_empty_netcdf(fn\u001b[39m=\u001b[39;49mfn_netcdf, product_name\u001b[39m=\u001b[39;49m\u001b[39m'\u001b[39;49m\u001b[39mRW\u001b[39;49m\u001b[39m'\u001b[39;49m)\n\u001b[1;32m     65\u001b[0m \u001b[39m# extract hourly file\u001b[39;00m\n\u001b[1;32m     66\u001b[0m f_hour \u001b[39m=\u001b[39m tar_month\u001b[39m.\u001b[39mextractfile(fn)\n",
      "File \u001b[0;32m~/Github/radolan_to_netcdf/radolan_to_netcdf/radolan_to_netcdf.py:51\u001b[0m, in \u001b[0;36mcreate_empty_netcdf\u001b[0;34m(fn, product_name, product_config_dict)\u001b[0m\n\u001b[1;32m     49\u001b[0m radolan_x \u001b[39m=\u001b[39m radolan_xy_grids[\u001b[39m0\u001b[39m, :, \u001b[39m0\u001b[39m]\n\u001b[1;32m     50\u001b[0m radolan_y \u001b[39m=\u001b[39m radolan_xy_grids[:, \u001b[39m0\u001b[39m, \u001b[39m1\u001b[39m]\n\u001b[0;32m---> 51\u001b[0m radolan_lat_lon_grids \u001b[39m=\u001b[39m wrl\u001b[39m.\u001b[39;49mgeoref\u001b[39m.\u001b[39;49mget_radolan_grid(\n\u001b[1;32m     52\u001b[0m     ncols\u001b[39m=\u001b[39;49mn_lons, nrows\u001b[39m=\u001b[39;49mn_lats, wgs84\u001b[39m=\u001b[39;49m\u001b[39mTrue\u001b[39;49;00m\n\u001b[1;32m     53\u001b[0m )\n\u001b[1;32m     54\u001b[0m radolan_lons \u001b[39m=\u001b[39m radolan_lat_lon_grids[:, :, \u001b[39m0\u001b[39m]\n\u001b[1;32m     55\u001b[0m radolan_lats \u001b[39m=\u001b[39m radolan_lat_lon_grids[:, :, \u001b[39m1\u001b[39m]\n",
      "File \u001b[0;32m~/anaconda3/envs/wradlib/lib/python3.10/site-packages/wradlib/georef/rect.py:357\u001b[0m, in \u001b[0;36mget_radolan_grid\u001b[0;34m(nrows, ncols, **kwargs)\u001b[0m\n\u001b[1;32m    354\u001b[0m         \u001b[39m# create wgs84 projection osr object\u001b[39;00m\n\u001b[1;32m    355\u001b[0m         proj_wgs \u001b[39m=\u001b[39m projection\u001b[39m.\u001b[39mget_default_projection()\n\u001b[0;32m--> 357\u001b[0m         radolan_grid \u001b[39m=\u001b[39m projection\u001b[39m.\u001b[39;49mreproject(\n\u001b[1;32m    358\u001b[0m             radolan_grid, projection_source\u001b[39m=\u001b[39;49mproj_stereo, projection_target\u001b[39m=\u001b[39;49mproj_wgs\n\u001b[1;32m    359\u001b[0m         )\n\u001b[1;32m    361\u001b[0m \u001b[39mreturn\u001b[39;00m radolan_grid\n",
      "File \u001b[0;32m~/anaconda3/envs/wradlib/lib/python3.10/site-packages/wradlib/georef/projection.py:312\u001b[0m, in \u001b[0;36mreproject\u001b[0;34m(*args, **kwargs)\u001b[0m\n\u001b[1;32m    308\u001b[0m     options\u001b[39m.\u001b[39mSetAreaOfInterest(\u001b[39m*\u001b[39marea_of_interest)\n\u001b[1;32m    309\u001b[0m ct \u001b[39m=\u001b[39m osr\u001b[39m.\u001b[39mCreateCoordinateTransformation(\n\u001b[1;32m    310\u001b[0m     projection_source, projection_target, options\n\u001b[1;32m    311\u001b[0m )\n\u001b[0;32m--> 312\u001b[0m trans \u001b[39m=\u001b[39m np\u001b[39m.\u001b[39marray(ct\u001b[39m.\u001b[39;49mTransformPoints(C))\n\u001b[1;32m    314\u001b[0m \u001b[39mif\u001b[39;00m \u001b[39mlen\u001b[39m(args) \u001b[39m==\u001b[39m \u001b[39m1\u001b[39m:\n\u001b[1;32m    315\u001b[0m     \u001b[39m# here we could do this one\u001b[39;00m\n\u001b[1;32m    316\u001b[0m     \u001b[39m# return(np.array(ct.TransformPoints(C))[...,0:numCols]))\u001b[39;00m\n\u001b[1;32m    317\u001b[0m     \u001b[39m# or this one\u001b[39;00m\n\u001b[1;32m    318\u001b[0m     trans \u001b[39m=\u001b[39m trans[:, \u001b[39m0\u001b[39m:numCols]\u001b[39m.\u001b[39mreshape(cshape)\n",
      "File \u001b[0;32m~/anaconda3/envs/wradlib/lib/python3.10/site-packages/osgeo/osr.py:946\u001b[0m, in \u001b[0;36mCoordinateTransformation.TransformPoints\u001b[0;34m(self, *args)\u001b[0m\n\u001b[1;32m    944\u001b[0m \u001b[39mdef\u001b[39;00m \u001b[39mTransformPoints\u001b[39m(\u001b[39mself\u001b[39m, \u001b[39m*\u001b[39margs):\n\u001b[1;32m    945\u001b[0m     \u001b[39mr\u001b[39m\u001b[39m\"\"\"TransformPoints(CoordinateTransformation self, int nCount)\"\"\"\u001b[39;00m\n\u001b[0;32m--> 946\u001b[0m     \u001b[39mreturn\u001b[39;00m _osr\u001b[39m.\u001b[39;49mCoordinateTransformation_TransformPoints(\u001b[39mself\u001b[39;49m, \u001b[39m*\u001b[39;49margs)\n",
      "\u001b[0;31mKeyboardInterrupt\u001b[0m: "
     ]
    }
   ],
   "source": [
    "tar2netcdf(input_path=\"/data/qt7760/radolan_rw_binary/opendata.dwd.de/climate_environment/CDC/grids_germany/hourly/radolan/historical/bin/\",\n",
    "           output_path=\"/data/qt7760/radolan_rw/\")\n"
   ]
  },
  {
   "cell_type": "code",
   "execution_count": 13,
   "metadata": {},
   "outputs": [
    {
     "ename": "",
     "evalue": "",
     "output_type": "error",
     "traceback": [
      "\u001b[1;31mCanceled future for execute_request message before replies were done"
     ]
    },
    {
     "ename": "",
     "evalue": "",
     "output_type": "error",
     "traceback": [
      "\u001b[1;31mDer Kernel ist beim Ausführen von Code in der aktuellen Zelle oder einer vorherigen Zelle abgestürzt. Bitte überprüfen Sie den Code in der/den Zelle(n), um eine mögliche Fehlerursache zu identifizieren. Klicken Sie <a href='https://aka.ms/vscodeJupyterKernelCrash'>hier</a>, um weitere Informationen zu erhalten. Weitere Details finden Sie in Jupyter <a href='command:jupyter.viewOutput'>log</a>."
     ]
    }
   ],
   "source": [
    "xr.open_mfdataset(\"./data/*.nc\", engine=\"h5netcdf\")"
   ]
  },
  {
   "cell_type": "markdown",
   "metadata": {},
   "source": [
    "Metadata: \n",
    "- https://opendata.dwd.de/climate_environment/CDC/grids_germany/hourly/radolan/historical/bin/DESCRIPTION_gridsgermany-hourly-radolan-historical-bin_en.pdf\n",
    "- https://opendata.dwd.de/climate_environment/CDC/grids_germany/hourly/radolan/historical/bin/BESCHREIBUNG_gridsgermany-hourly-radolan-historical-bin_de.pdf"
   ]
  }
 ],
 "metadata": {
  "kernelspec": {
   "display_name": "Python 3.10.6 ('wradlib')",
   "language": "python",
   "name": "python3"
  },
  "language_info": {
   "codemirror_mode": {
    "name": "ipython",
    "version": 3
   },
   "file_extension": ".py",
   "mimetype": "text/x-python",
   "name": "python",
   "nbconvert_exporter": "python",
   "pygments_lexer": "ipython3",
   "version": "3.10.6"
  },
  "orig_nbformat": 4,
  "vscode": {
   "interpreter": {
    "hash": "4a6cca48d9dc54240b1120f997bc89567c6fdd4e63a089bb9c0f7621569d912d"
   }
  }
 },
 "nbformat": 4,
 "nbformat_minor": 2
}

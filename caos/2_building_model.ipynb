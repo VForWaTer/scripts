{
 "cells": [
  {
   "cell_type": "markdown",
   "metadata": {},
   "source": [
    "# Build metacatalog models from CUAHSI"
   ]
  },
  {
   "cell_type": "markdown",
   "metadata": {},
   "source": [
    "This script needs the merged CUAHSI file composed in the [1_building_metadata](1_building_metadata.ipynb) notebook."
   ]
  },
  {
   "cell_type": "code",
   "execution_count": 1,
   "metadata": {},
   "outputs": [],
   "source": [
    "import pandas as pd\n",
    "from metacatalog import api, models\n",
    "from pprint import pprint\n",
    "import json"
   ]
  },
  {
   "cell_type": "code",
   "execution_count": 2,
   "metadata": {},
   "outputs": [],
   "source": [
    "UPLOAD = True"
   ]
  },
  {
   "cell_type": "code",
   "execution_count": 3,
   "metadata": {
    "scrolled": false
   },
   "outputs": [
    {
     "name": "stdout",
     "output_type": "stream",
     "text": [
      "(2353, 45)\n"
     ]
    },
    {
     "data": {
      "text/html": [
       "<div>\n",
       "<style scoped>\n",
       "    .dataframe tbody tr th:only-of-type {\n",
       "        vertical-align: middle;\n",
       "    }\n",
       "\n",
       "    .dataframe tbody tr th {\n",
       "        vertical-align: top;\n",
       "    }\n",
       "\n",
       "    .dataframe thead th {\n",
       "        text-align: right;\n",
       "    }\n",
       "</style>\n",
       "<table border=\"1\" class=\"dataframe\">\n",
       "  <thead>\n",
       "    <tr style=\"text-align: right;\">\n",
       "      <th></th>\n",
       "      <th>SeriesID</th>\n",
       "      <th>SiteID</th>\n",
       "      <th>VariableID</th>\n",
       "      <th>VariableUnitsName</th>\n",
       "      <th>TimeUnitsName</th>\n",
       "      <th>MethodID</th>\n",
       "      <th>SourceID</th>\n",
       "      <th>Organization</th>\n",
       "      <th>SourceDescription</th>\n",
       "      <th>Citation</th>\n",
       "      <th>...</th>\n",
       "      <th>SampleMedium</th>\n",
       "      <th>ValueType</th>\n",
       "      <th>IsRegular</th>\n",
       "      <th>TimeSupport</th>\n",
       "      <th>TimeUnitsID</th>\n",
       "      <th>DataType</th>\n",
       "      <th>GeneralCategory</th>\n",
       "      <th>NoDataValue</th>\n",
       "      <th>MethodDescription</th>\n",
       "      <th>MethodLink</th>\n",
       "    </tr>\n",
       "  </thead>\n",
       "  <tbody>\n",
       "    <tr>\n",
       "      <th>0</th>\n",
       "      <td>55</td>\n",
       "      <td>51.0</td>\n",
       "      <td>28</td>\n",
       "      <td>NaN</td>\n",
       "      <td>minute</td>\n",
       "      <td>76</td>\n",
       "      <td>5</td>\n",
       "      <td>German Research Centre For Geosciences GFZ</td>\n",
       "      <td>Sektion 5.4 - Hydrology</td>\n",
       "      <td>Data collected by GFZ as part of the CAOS project</td>\n",
       "      <td>...</td>\n",
       "      <td>Tree</td>\n",
       "      <td>Field observation</td>\n",
       "      <td>1</td>\n",
       "      <td>5</td>\n",
       "      <td>102</td>\n",
       "      <td>Average</td>\n",
       "      <td>Hydrology</td>\n",
       "      <td>-9999</td>\n",
       "      <td>Sap flow velocity measured with East 30 Sensor...</td>\n",
       "      <td>http://www.east30sensors.com/sap-flow.php</td>\n",
       "    </tr>\n",
       "    <tr>\n",
       "      <th>1</th>\n",
       "      <td>56</td>\n",
       "      <td>52.0</td>\n",
       "      <td>28</td>\n",
       "      <td>NaN</td>\n",
       "      <td>minute</td>\n",
       "      <td>76</td>\n",
       "      <td>5</td>\n",
       "      <td>German Research Centre For Geosciences GFZ</td>\n",
       "      <td>Sektion 5.4 - Hydrology</td>\n",
       "      <td>Data collected by GFZ as part of the CAOS project</td>\n",
       "      <td>...</td>\n",
       "      <td>Tree</td>\n",
       "      <td>Field observation</td>\n",
       "      <td>1</td>\n",
       "      <td>5</td>\n",
       "      <td>102</td>\n",
       "      <td>Average</td>\n",
       "      <td>Hydrology</td>\n",
       "      <td>-9999</td>\n",
       "      <td>Sap flow velocity measured with East 30 Sensor...</td>\n",
       "      <td>http://www.east30sensors.com/sap-flow.php</td>\n",
       "    </tr>\n",
       "    <tr>\n",
       "      <th>2</th>\n",
       "      <td>57</td>\n",
       "      <td>53.0</td>\n",
       "      <td>28</td>\n",
       "      <td>NaN</td>\n",
       "      <td>minute</td>\n",
       "      <td>76</td>\n",
       "      <td>5</td>\n",
       "      <td>German Research Centre For Geosciences GFZ</td>\n",
       "      <td>Sektion 5.4 - Hydrology</td>\n",
       "      <td>Data collected by GFZ as part of the CAOS project</td>\n",
       "      <td>...</td>\n",
       "      <td>Tree</td>\n",
       "      <td>Field observation</td>\n",
       "      <td>1</td>\n",
       "      <td>5</td>\n",
       "      <td>102</td>\n",
       "      <td>Average</td>\n",
       "      <td>Hydrology</td>\n",
       "      <td>-9999</td>\n",
       "      <td>Sap flow velocity measured with East 30 Sensor...</td>\n",
       "      <td>http://www.east30sensors.com/sap-flow.php</td>\n",
       "    </tr>\n",
       "    <tr>\n",
       "      <th>3</th>\n",
       "      <td>58</td>\n",
       "      <td>54.0</td>\n",
       "      <td>28</td>\n",
       "      <td>NaN</td>\n",
       "      <td>minute</td>\n",
       "      <td>76</td>\n",
       "      <td>5</td>\n",
       "      <td>German Research Centre For Geosciences GFZ</td>\n",
       "      <td>Sektion 5.4 - Hydrology</td>\n",
       "      <td>Data collected by GFZ as part of the CAOS project</td>\n",
       "      <td>...</td>\n",
       "      <td>Tree</td>\n",
       "      <td>Field observation</td>\n",
       "      <td>1</td>\n",
       "      <td>5</td>\n",
       "      <td>102</td>\n",
       "      <td>Average</td>\n",
       "      <td>Hydrology</td>\n",
       "      <td>-9999</td>\n",
       "      <td>Sap flow velocity measured with East 30 Sensor...</td>\n",
       "      <td>http://www.east30sensors.com/sap-flow.php</td>\n",
       "    </tr>\n",
       "    <tr>\n",
       "      <th>4</th>\n",
       "      <td>117</td>\n",
       "      <td>68.0</td>\n",
       "      <td>28</td>\n",
       "      <td>NaN</td>\n",
       "      <td>minute</td>\n",
       "      <td>76</td>\n",
       "      <td>5</td>\n",
       "      <td>German Research Centre For Geosciences GFZ</td>\n",
       "      <td>Sektion 5.4 - Hydrology</td>\n",
       "      <td>Data collected by GFZ as part of the CAOS project</td>\n",
       "      <td>...</td>\n",
       "      <td>Tree</td>\n",
       "      <td>Field observation</td>\n",
       "      <td>1</td>\n",
       "      <td>5</td>\n",
       "      <td>102</td>\n",
       "      <td>Average</td>\n",
       "      <td>Hydrology</td>\n",
       "      <td>-9999</td>\n",
       "      <td>Sap flow velocity measured with East 30 Sensor...</td>\n",
       "      <td>http://www.east30sensors.com/sap-flow.php</td>\n",
       "    </tr>\n",
       "  </tbody>\n",
       "</table>\n",
       "<p>5 rows × 45 columns</p>\n",
       "</div>"
      ],
      "text/plain": [
       "   SeriesID  SiteID  VariableID VariableUnitsName TimeUnitsName  MethodID  \\\n",
       "0        55    51.0          28               NaN        minute        76   \n",
       "1        56    52.0          28               NaN        minute        76   \n",
       "2        57    53.0          28               NaN        minute        76   \n",
       "3        58    54.0          28               NaN        minute        76   \n",
       "4       117    68.0          28               NaN        minute        76   \n",
       "\n",
       "   SourceID                                 Organization  \\\n",
       "0         5  German Research Centre For Geosciences GFZ    \n",
       "1         5  German Research Centre For Geosciences GFZ    \n",
       "2         5  German Research Centre For Geosciences GFZ    \n",
       "3         5  German Research Centre For Geosciences GFZ    \n",
       "4         5  German Research Centre For Geosciences GFZ    \n",
       "\n",
       "         SourceDescription                                           Citation  \\\n",
       "0  Sektion 5.4 - Hydrology  Data collected by GFZ as part of the CAOS project   \n",
       "1  Sektion 5.4 - Hydrology  Data collected by GFZ as part of the CAOS project   \n",
       "2  Sektion 5.4 - Hydrology  Data collected by GFZ as part of the CAOS project   \n",
       "3  Sektion 5.4 - Hydrology  Data collected by GFZ as part of the CAOS project   \n",
       "4  Sektion 5.4 - Hydrology  Data collected by GFZ as part of the CAOS project   \n",
       "\n",
       "   ...  SampleMedium          ValueType  IsRegular  TimeSupport  TimeUnitsID  \\\n",
       "0  ...          Tree  Field observation          1            5          102   \n",
       "1  ...          Tree  Field observation          1            5          102   \n",
       "2  ...          Tree  Field observation          1            5          102   \n",
       "3  ...          Tree  Field observation          1            5          102   \n",
       "4  ...          Tree  Field observation          1            5          102   \n",
       "\n",
       "   DataType  GeneralCategory NoDataValue  \\\n",
       "0   Average        Hydrology       -9999   \n",
       "1   Average        Hydrology       -9999   \n",
       "2   Average        Hydrology       -9999   \n",
       "3   Average        Hydrology       -9999   \n",
       "4   Average        Hydrology       -9999   \n",
       "\n",
       "                                   MethodDescription  \\\n",
       "0  Sap flow velocity measured with East 30 Sensor...   \n",
       "1  Sap flow velocity measured with East 30 Sensor...   \n",
       "2  Sap flow velocity measured with East 30 Sensor...   \n",
       "3  Sap flow velocity measured with East 30 Sensor...   \n",
       "4  Sap flow velocity measured with East 30 Sensor...   \n",
       "\n",
       "                                  MethodLink  \n",
       "0  http://www.east30sensors.com/sap-flow.php  \n",
       "1  http://www.east30sensors.com/sap-flow.php  \n",
       "2  http://www.east30sensors.com/sap-flow.php  \n",
       "3  http://www.east30sensors.com/sap-flow.php  \n",
       "4  http://www.east30sensors.com/sap-flow.php  \n",
       "\n",
       "[5 rows x 45 columns]"
      ]
     },
     "execution_count": 3,
     "metadata": {},
     "output_type": "execute_result"
    }
   ],
   "source": [
    "cuhasi = pd.read_csv('cuhasi_merged.csv')\n",
    "print(cuhasi.shape)\n",
    "cuhasi.head()"
   ]
  },
  {
   "cell_type": "code",
   "execution_count": 6,
   "metadata": {},
   "outputs": [
    {
     "data": {
      "text/html": [
       "<div>\n",
       "<style scoped>\n",
       "    .dataframe tbody tr th:only-of-type {\n",
       "        vertical-align: middle;\n",
       "    }\n",
       "\n",
       "    .dataframe tbody tr th {\n",
       "        vertical-align: top;\n",
       "    }\n",
       "\n",
       "    .dataframe thead th {\n",
       "        text-align: right;\n",
       "    }\n",
       "</style>\n",
       "<table border=\"1\" class=\"dataframe\">\n",
       "  <thead>\n",
       "    <tr style=\"text-align: right;\">\n",
       "      <th></th>\n",
       "      <th>SeriesID</th>\n",
       "      <th>SiteID</th>\n",
       "      <th>VariableID</th>\n",
       "      <th>VariableUnitsName</th>\n",
       "      <th>TimeUnitsName</th>\n",
       "      <th>MethodID</th>\n",
       "      <th>SourceID</th>\n",
       "      <th>Organization</th>\n",
       "      <th>SourceDescription</th>\n",
       "      <th>Citation</th>\n",
       "      <th>...</th>\n",
       "      <th>SampleMedium</th>\n",
       "      <th>ValueType</th>\n",
       "      <th>IsRegular</th>\n",
       "      <th>TimeSupport</th>\n",
       "      <th>TimeUnitsID</th>\n",
       "      <th>DataType</th>\n",
       "      <th>GeneralCategory</th>\n",
       "      <th>NoDataValue</th>\n",
       "      <th>MethodDescription</th>\n",
       "      <th>MethodLink</th>\n",
       "    </tr>\n",
       "  </thead>\n",
       "  <tbody>\n",
       "  </tbody>\n",
       "</table>\n",
       "<p>0 rows × 45 columns</p>\n",
       "</div>"
      ],
      "text/plain": [
       "Empty DataFrame\n",
       "Columns: [SeriesID, SiteID, VariableID, VariableUnitsName, TimeUnitsName, MethodID, SourceID, Organization, SourceDescription, Citation, QualityControlLevelID, QualityControlLevelCode, BeginDateTime, EndDateTime, BeginDateTimeUTC, EndDateTimeUTC, ValueCount, SiteCode, SiteName, LatLongDatumID, Elevation_m, VerticalDatum, LocalX, LocalY, Latitude, Longitude, LocalProjectionID, PosAccuracy_m, State, County, Comments, VariableCode, VariableName, Speciation, VariableUnitsID, SampleMedium, ValueType, IsRegular, TimeSupport, TimeUnitsID, DataType, GeneralCategory, NoDataValue, MethodDescription, MethodLink]\n",
       "Index: []\n",
       "\n",
       "[0 rows x 45 columns]"
      ]
     },
     "execution_count": 6,
     "metadata": {},
     "output_type": "execute_result"
    }
   ],
   "source": [
    "cuhasi.where(cuhasi.SeriesID==59).dropna()"
   ]
  },
  {
   "cell_type": "markdown",
   "metadata": {},
   "source": [
    "## Mapping existing columns"
   ]
  },
  {
   "cell_type": "markdown",
   "metadata": {},
   "source": [
    "First step is to map columns that can be mapped as they are into an `models` field"
   ]
  },
  {
   "cell_type": "code",
   "execution_count": 4,
   "metadata": {},
   "outputs": [],
   "source": [
    "session = api.connect_database()"
   ]
  },
  {
   "cell_type": "markdown",
   "metadata": {},
   "source": [
    "### Author"
   ]
  },
  {
   "cell_type": "code",
   "execution_count": 5,
   "metadata": {},
   "outputs": [
    {
     "name": "stdout",
     "output_type": "stream",
     "text": [
      "Theresa Blume <ID=2>\n"
     ]
    }
   ],
   "source": [
    "# building the person\n",
    "if UPLOAD and True:\n",
    "    owner = api.add_person(session, \n",
    "                           first_name='Theresa', last_name='Blume', \n",
    "                           organisation_name=cuhasi.Organization.unique()[0], \n",
    "                           affiliation=cuhasi.Organization.unique()[0] + ', Hydrology', \n",
    "                           attribution=cuhasi.Citation.unique()[0]\n",
    "                          )\n",
    "else:\n",
    "    owner = api.find_person(session, last_name=cuhasi.Organization.unique()[0])[0]\n",
    "print(owner)"
   ]
  },
  {
   "cell_type": "markdown",
   "metadata": {},
   "source": [
    "### variables"
   ]
  },
  {
   "cell_type": "code",
   "execution_count": 6,
   "metadata": {},
   "outputs": [
    {
     "name": "stdout",
     "output_type": "stream",
     "text": [
      "air temperature [C] <ID=1>\n",
      "soil temperature [C] <ID=2>\n",
      "water temperature [C] <ID=3>\n",
      "discharge [m3/s] <ID=4>\n",
      "air pressure [10^2*Pa] <ID=5>\n",
      "relative humidity [%] <ID=6>\n",
      "daily rainfall sum [mm/d] <ID=7>\n",
      "rainfall intensity [mm/h] <ID=8>\n",
      "solar irradiance [W/m2] <ID=9>\n",
      "net radiation [W/m2] <ID=10>\n",
      "gravimetric water content [kg/kg] <ID=11>\n",
      "precision [-] <ID=13>\n",
      "sap flow [cm^3/cm^2h] <ID=14>\n",
      "volumetric water content [cm3/cm3] <ID=12>\n",
      "matric potential [MPa] <ID=15>\n",
      "bulk electrical conductivity [EC] <ID=16>\n",
      "specific electrical conductivity [EC] <ID=17>\n",
      "river water level [m] <ID=18>\n"
     ]
    }
   ],
   "source": [
    "for v in api.find_variable(session):\n",
    "    print(v)"
   ]
  },
  {
   "cell_type": "code",
   "execution_count": 7,
   "metadata": {},
   "outputs": [
    {
     "data": {
      "text/html": [
       "<div>\n",
       "<style scoped>\n",
       "    .dataframe tbody tr th:only-of-type {\n",
       "        vertical-align: middle;\n",
       "    }\n",
       "\n",
       "    .dataframe tbody tr th {\n",
       "        vertical-align: top;\n",
       "    }\n",
       "\n",
       "    .dataframe thead th {\n",
       "        text-align: right;\n",
       "    }\n",
       "</style>\n",
       "<table border=\"1\" class=\"dataframe\">\n",
       "  <thead>\n",
       "    <tr style=\"text-align: right;\">\n",
       "      <th></th>\n",
       "      <th>VariableID</th>\n",
       "      <th>VariableName</th>\n",
       "    </tr>\n",
       "  </thead>\n",
       "  <tbody>\n",
       "    <tr>\n",
       "      <th>0</th>\n",
       "      <td>28</td>\n",
       "      <td>Sap Flow velocity</td>\n",
       "    </tr>\n",
       "    <tr>\n",
       "      <th>118</th>\n",
       "      <td>20</td>\n",
       "      <td>Soil water matric potential</td>\n",
       "    </tr>\n",
       "    <tr>\n",
       "      <th>158</th>\n",
       "      <td>19</td>\n",
       "      <td>Temperature, soil</td>\n",
       "    </tr>\n",
       "    <tr>\n",
       "      <th>558</th>\n",
       "      <td>23</td>\n",
       "      <td>Temperature, water</td>\n",
       "    </tr>\n",
       "    <tr>\n",
       "      <th>600</th>\n",
       "      <td>24</td>\n",
       "      <td>Radiation, net</td>\n",
       "    </tr>\n",
       "    <tr>\n",
       "      <th>642</th>\n",
       "      <td>25</td>\n",
       "      <td>Precipitation</td>\n",
       "    </tr>\n",
       "    <tr>\n",
       "      <th>685</th>\n",
       "      <td>18</td>\n",
       "      <td>Bulk electrical conductivity</td>\n",
       "    </tr>\n",
       "    <tr>\n",
       "      <th>828</th>\n",
       "      <td>21</td>\n",
       "      <td>Water level</td>\n",
       "    </tr>\n",
       "    <tr>\n",
       "      <th>829</th>\n",
       "      <td>22</td>\n",
       "      <td>Specific conductance, water</td>\n",
       "    </tr>\n",
       "    <tr>\n",
       "      <th>1075</th>\n",
       "      <td>17</td>\n",
       "      <td>Volumetric water content</td>\n",
       "    </tr>\n",
       "  </tbody>\n",
       "</table>\n",
       "</div>"
      ],
      "text/plain": [
       "      VariableID                  VariableName\n",
       "0             28             Sap Flow velocity\n",
       "118           20   Soil water matric potential\n",
       "158           19             Temperature, soil\n",
       "558           23            Temperature, water\n",
       "600           24                Radiation, net\n",
       "642           25                 Precipitation\n",
       "685           18  Bulk electrical conductivity\n",
       "828           21                   Water level\n",
       "829           22   Specific conductance, water\n",
       "1075          17      Volumetric water content"
      ]
     },
     "execution_count": 7,
     "metadata": {},
     "output_type": "execute_result"
    }
   ],
   "source": [
    "cuhasi[['VariableID', 'VariableName']].drop_duplicates()"
   ]
  },
  {
   "cell_type": "code",
   "execution_count": 8,
   "metadata": {},
   "outputs": [],
   "source": [
    "variable_mapper={\n",
    "    28: 14,\n",
    "    20:15,\n",
    "    19:2,\n",
    "    23:3,\n",
    "    24:10,\n",
    "    25:8,\n",
    "    18:16,\n",
    "    21:18,\n",
    "    22:17,\n",
    "    17:12,\n",
    "}"
   ]
  },
  {
   "cell_type": "markdown",
   "metadata": {},
   "source": [
    "### license"
   ]
  },
  {
   "cell_type": "code",
   "execution_count": 9,
   "metadata": {},
   "outputs": [
    {
     "name": "stdout",
     "output_type": "stream",
     "text": [
      "Open Data Commons Open Database License <ID=4>\n",
      "Open Data Commons Attribution License v1.0 <ID=5>\n",
      "Creative Commons Attribution 4.0 International <ID=6>\n",
      "Creative Commons Attribution-ShareAlike 4.0 International <ID=7>\n",
      "Creative Commons Attribution-NonCommerical 4.0 International <ID=8>\n",
      "Creative Commons Attribution-NonCommercial-ShareAlike 4.0 International <ID=9>\n"
     ]
    }
   ],
   "source": [
    "for l in api.find_license(session):\n",
    "    print(l)"
   ]
  },
  {
   "cell_type": "code",
   "execution_count": 11,
   "metadata": {},
   "outputs": [
    {
     "name": "stdout",
     "output_type": "stream",
     "text": [
      "Creative Commons Attribution-NonCommercial-ShareAlike 4.0 International <ID=9>\n"
     ]
    }
   ],
   "source": [
    "license = api.find_license(session, id=9)[0]\n",
    "print(license)"
   ]
  },
  {
   "cell_type": "code",
   "execution_count": 12,
   "metadata": {},
   "outputs": [
    {
     "name": "stdout",
     "output_type": "stream",
     "text": [
      "Index(['SeriesID', 'SiteID', 'VariableID', 'VariableUnitsName',\n",
      "       'TimeUnitsName', 'MethodID', 'SourceID', 'Organization',\n",
      "       'SourceDescription', 'Citation', 'QualityControlLevelID',\n",
      "       'QualityControlLevelCode', 'BeginDateTime', 'EndDateTime',\n",
      "       'BeginDateTimeUTC', 'EndDateTimeUTC', 'ValueCount', 'SiteCode',\n",
      "       'SiteName', 'LatLongDatumID', 'Elevation_m', 'VerticalDatum', 'LocalX',\n",
      "       'LocalY', 'Latitude', 'Longitude', 'LocalProjectionID', 'PosAccuracy_m',\n",
      "       'State', 'County', 'Comments', 'VariableCode', 'VariableName',\n",
      "       'Speciation', 'VariableUnitsID', 'SampleMedium', 'ValueType',\n",
      "       'IsRegular', 'TimeSupport', 'TimeUnitsID', 'DataType',\n",
      "       'GeneralCategory', 'NoDataValue', 'MethodDescription', 'MethodLink'],\n",
      "      dtype='object')\n"
     ]
    }
   ],
   "source": [
    "pprint(cuhasi.columns)"
   ]
  },
  {
   "cell_type": "code",
   "execution_count": 13,
   "metadata": {},
   "outputs": [],
   "source": [
    "def get_depth(desc):\n",
    "    if '10 cm' in desc:\n",
    "        return 10\n",
    "    if '30 cm' in desc:\n",
    "        return 30\n",
    "    if '50 cm' in desc:\n",
    "        return 50\n",
    "    if '80 cm' in desc:\n",
    "        return 80\n",
    "    return None"
   ]
  },
  {
   "cell_type": "code",
   "execution_count": 14,
   "metadata": {
    "scrolled": true
   },
   "outputs": [
    {
     "name": "stdout",
     "output_type": "stream",
     "text": [
      "Index(['external_id', 'time unit', 'quality flag', 'begin', 'end', 'site',\n",
      "       'name', 'LatLongDatumID', 'elevation', 'x', 'y', 'position accuracy',\n",
      "       'County', 'comment', 'Speciation', 'SampleMedium', 'value type',\n",
      "       'regular', 'support', 'data type', 'category', 'MethodDescription',\n",
      "       'abstract', 'title', 'variable', 'location', 'depth'],\n",
      "      dtype='object')\n"
     ]
    }
   ],
   "source": [
    "meta = cuhasi.copy()\n",
    "# 1:1 renames\n",
    "meta.rename(axis='columns', mapper={\n",
    "    'SeriesID': 'external_id',\n",
    "    'Elevation_m': 'elevation',\n",
    "    'Comments': 'comment',\n",
    "    'BeginDateTime': 'begin',\n",
    "    'EndDateTime': 'end',\n",
    "    'SiteName': 'name',\n",
    "    'LocalX': 'x',\n",
    "    'LocalY': 'y',\n",
    "    'PosAccuracy_m': 'position accuracy',\n",
    "    'Sample Medium': 'medium',\n",
    "    'ValueType': 'value type',\n",
    "    'IsRegular': 'regular',\n",
    "    'TimeSupport': 'support',\n",
    "    'DataType': 'data type',\n",
    "    'GeneralCategory': 'category',\n",
    "    'TimeUnitsName': 'time unit',\n",
    "    'QualityControlLevelID': 'quality flag',\n",
    "    'SiteCode': 'site'\n",
    "}, inplace=True)\n",
    "\n",
    "comment_template=\"\"\"\n",
    "Original SiteCode in CAOS: {sc}\n",
    "at: {sn}\n",
    "\n",
    "{md} ({ml})\n",
    "Additional comments:\n",
    "{com}\n",
    "\"\"\"\n",
    "\n",
    "# compound columns\n",
    "meta['abstract'] = meta.apply(lambda r: comment_template.format(**{\n",
    "    'sc':r.site, \n",
    "    'sn':r.name, \n",
    "    'com':r.comment,\n",
    "    'md':r.MethodDescription,\n",
    "    'ml':r.MethodLink\n",
    "}), axis='columns')\n",
    "\n",
    "meta['title'] = meta.apply(lambda r: 'CAOS [%d] - %s %s' %(r.external_id, r.VariableName, r.site), axis='columns') \n",
    "meta['variable'] = meta.VariableID.apply(lambda v: variable_mapper[v])\n",
    "meta['location'] = meta.apply(lambda r: (r.Longitude, r.Latitude,), axis='columns')\n",
    "meta['depth'] = meta.MethodDescription.apply(get_depth)\n",
    "\n",
    "# drop duplicates\n",
    "meta.drop(labels=[\n",
    "    'SiteID', 'VariableUnitsName', 'MethodID', 'SourceID', 'Organization', 'VariableID', 'VariableUnitsName',\n",
    "    'VariableCode', 'VariableName', 'SourceDescription', 'Citation', 'QualityControlLevelCode', 'ValueCount',\n",
    "    'VerticalDatum', 'Longitude', 'Latitude', 'LocalProjectionID', 'MethodLink', 'NoDataValue', 'VariableUnitsID', \n",
    "    'TimeUnitsID', 'State', 'BeginDateTimeUTC', 'EndDateTimeUTC'\n",
    "], axis='columns', inplace=True)\n",
    "\n",
    "# show\n",
    "pprint(meta.columns)"
   ]
  },
  {
   "cell_type": "markdown",
   "metadata": {},
   "source": [
    "Extract the details information:"
   ]
  },
  {
   "cell_type": "code",
   "execution_count": 15,
   "metadata": {},
   "outputs": [
    {
     "data": {
      "text/plain": [
       "array([nan])"
      ]
     },
     "execution_count": 15,
     "metadata": {},
     "output_type": "execute_result"
    }
   ],
   "source": [
    "cuhasi.BeginDateTimeUTC.unique()"
   ]
  },
  {
   "cell_type": "code",
   "execution_count": 16,
   "metadata": {},
   "outputs": [],
   "source": [
    "detail_keys = ['time unit', 'quality flag', 'begin', 'end', 'name', 'site', \n",
    "               'LatLongDatumID', 'elevation', 'x', 'y', 'position accuracy', 'State', 'County', 'Speciation',\n",
    "              'SampleMedium', 'value type', 'regular', 'support', 'data type','category', 'MethodDescription','depth']"
   ]
  },
  {
   "cell_type": "markdown",
   "metadata": {},
   "source": [
    "Build a dictionary:"
   ]
  },
  {
   "cell_type": "code",
   "execution_count": 17,
   "metadata": {},
   "outputs": [
    {
     "name": "stdout",
     "output_type": "stream",
     "text": [
      "{'abstract': '\\n'\n",
      "             'Original SiteCode in CAOS: 1.1.45.30.2.1.2.CL.SA.a\\n'\n",
      "             'at: 0\\n'\n",
      "             '\\n'\n",
      "             'Sap flow velocity measured with East 30 Sensors heat pulse Sap '\n",
      "             'Flow Sensors (http://www.east30sensors.com/sap-flow.php)\\n'\n",
      "             'Additional comments:\\n'\n",
      "             'sap flow 1\\n',\n",
      " 'comment': 'sap flow 1',\n",
      " 'details': {'County': 'Grand Duchy of Luxembourg',\n",
      "             'LatLongDatumID': 3.0,\n",
      "             'MethodDescription': 'Sap flow velocity measured with East 30 '\n",
      "                                  'Sensors heat pulse Sap Flow Sensors',\n",
      "             'SampleMedium': 'Tree',\n",
      "             'Speciation': 'Not Applicable',\n",
      "             'begin': nan,\n",
      "             'category': 'Hydrology',\n",
      "             'data type': 'Average',\n",
      "             'depth': nan,\n",
      "             'elevation': 470.0,\n",
      "             'end': nan,\n",
      "             'name': 'schist - cluster: S_A - forest - valley bottom',\n",
      "             'position accuracy': nan,\n",
      "             'quality flag': nan,\n",
      "             'regular': 1,\n",
      "             'site': '1.1.45.30.2.1.2.CL.SA.a',\n",
      "             'support': 5,\n",
      "             'time unit': 'minute',\n",
      "             'value type': 'Field observation',\n",
      "             'x': 53690.16,\n",
      "             'y': 98746.41},\n",
      " 'external_id': 55,\n",
      " 'location': (5.802504666, 49.82250474),\n",
      " 'title': 'CAOS [55] - Sap Flow velocity 1.1.45.30.2.1.2.CL.SA.a',\n",
      " 'variable': 14}\n"
     ]
    }
   ],
   "source": [
    "metadata = list()\n",
    "\n",
    "for row_id, row in meta.iterrows():\n",
    "    m = dict()\n",
    "    d = dict()\n",
    "    for name in row.index:\n",
    "        if name in detail_keys:\n",
    "            d[name] = row[name]\n",
    "        else:\n",
    "            m[name] = row[name]\n",
    "    m['details'] = d\n",
    "    metadata.append(m)\n",
    "    \n",
    "with open('metadata.json', 'w') as js:\n",
    "    json.dump(metadata, js, indent=4)\n",
    "pprint(metadata[0])"
   ]
  },
  {
   "cell_type": "code",
   "execution_count": 18,
   "metadata": {},
   "outputs": [
    {
     "data": {
      "text/plain": [
       "True"
      ]
     },
     "execution_count": 18,
     "metadata": {},
     "output_type": "execute_result"
    }
   ],
   "source": [
    "import numpy as np\n",
    "any([np.isnan(m['location'][0]) for m in metadata])"
   ]
  },
  {
   "cell_type": "markdown",
   "metadata": {},
   "source": [
    "## Upload"
   ]
  },
  {
   "cell_type": "code",
   "execution_count": 19,
   "metadata": {},
   "outputs": [
    {
     "name": "stdout",
     "output_type": "stream",
     "text": [
      "Add new Entry\n",
      "\n",
      "    Adds a new metadata Entry to the database. This method will create the core\n",
      "    entry. Usually, more steps are necessary, which will need the newly created \n",
      "    database ID. Such steps are: \n",
      "    \n",
      "    * adding contributors   (mandatory)\n",
      "    * adding data           (extremly useful)\n",
      "    * adding keywords       (recommended)\n",
      "\n",
      "    Parameters\n",
      "    ----------\n",
      "   session : sqlalchemy.Session\n",
      "        SQLAlchemy session connected to the database.\n",
      "    title : str\n",
      "        Title of the Entry\n",
      "    author : int, str\n",
      "        First author of the Entry. The Person record has to exist already in the \n",
      "        database and can be found by exact match on id (int) or last_name (str).\n",
      "    location : str, tuple\n",
      "        Can be either a WKT of a EPSG:4326 location, or the coordinates as a \n",
      "        tuple. It has to be (X,Y), to (longitude, latitude)\n",
      "    variable : int, str\n",
      "        **Full** variable name (str) or ID (int) of the data described by the Entry. \n",
      "    abstract : str\n",
      "        Description of the data. Be as detailed as possible\n",
      "    external_id : str\n",
      "        If the data described by Entry has another unique identifier, \n",
      "        usually supplied by the data provider, it can be stored for reference reasons.\n",
      "    comment : str\n",
      "        General purpose comment that should not contain any vital information to \n",
      "        understand the entry. If it's vital, it should go into the abstract.\n",
      "    geom : str\n",
      "        WKT of any additional geoinformation in EPSG:4326\n",
      "    license : str, int\n",
      "        Either the id or **full** name of the license to be linked to this Entry.\n",
      "    embargo : bool\n",
      "        If True, this Entry will **not** be publicly available until the embargo ends\n",
      "        The embargo period is usually 2 years but can be modified using the kwargs.\n",
      "\n",
      "    Returns\n",
      "    -------\n",
      "    entry: metacatalog.Entry\n",
      "        Entry instance of the added entry entity\n",
      "\n",
      "\n",
      "    \n"
     ]
    }
   ],
   "source": [
    "print(api.add_entry.__doc__)"
   ]
  },
  {
   "cell_type": "code",
   "execution_count": 20,
   "metadata": {},
   "outputs": [
    {
     "name": "stdout",
     "output_type": "stream",
     "text": [
      "Inst. UFZ HoH Dataholder <ID=1>\n",
      "Creative Commons Attribution-NonCommercial-ShareAlike 4.0 International <ID=9>\n"
     ]
    }
   ],
   "source": [
    "session = api.connect_database()\n",
    "owner = api.find_person(session, last_name='Blume')[0]\n",
    "license = api.find_license(session, id=9)[0]\n",
    "print(owner)\n",
    "print(license)"
   ]
  },
  {
   "cell_type": "code",
   "execution_count": 22,
   "metadata": {},
   "outputs": [
    {
     "name": "stdout",
     "output_type": "stream",
     "text": [
      "No location found for 238 entries\n",
      "Have 2115 entries\n"
     ]
    }
   ],
   "source": [
    "entries = []\n",
    "\n",
    "if UPLOAD and True:\n",
    "    no_location = []\n",
    "    for m in metadata:\n",
    "        if np.isnan(m['location'][0]):\n",
    "            no_location.append(m['external_id'])\n",
    "            continue\n",
    "        e = api.add_entry(session, author=owner.id, license=license.id, embargo=True, \n",
    "                          **{k:v for k,v in m.items() if k != 'details'})\n",
    "        if isinstance(m['details'], dict):\n",
    "            e.add_details(commit=True, **m['details'])\n",
    "        entries.append(e)\n",
    "    print('No location found for %d entries' % len(no_location))\n",
    "else:\n",
    "    entries = api.find_entry(session, title='CAOS *')\n",
    "print('Have %d entries' % len(entries))"
   ]
  }
 ],
 "metadata": {
  "finalized": {
   "timestamp": 1595230703511,
   "trusted": true
  },
  "kernelspec": {
   "display_name": "Python 3",
   "language": "python",
   "name": "python3"
  },
  "language_info": {
   "codemirror_mode": {
    "name": "ipython",
    "version": 3
   },
   "file_extension": ".py",
   "mimetype": "text/x-python",
   "name": "python",
   "nbconvert_exporter": "python",
   "pygments_lexer": "ipython3",
   "version": "3.7.5"
  }
 },
 "nbformat": 4,
 "nbformat_minor": 4
}

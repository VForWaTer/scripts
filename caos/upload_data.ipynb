{
 "cells": [
  {
   "cell_type": "markdown",
   "metadata": {},
   "source": [
    "# Upload data"
   ]
  },
  {
   "cell_type": "code",
   "execution_count": 1,
   "metadata": {},
   "outputs": [],
   "source": [
    "UPLOAD = True"
   ]
  },
  {
   "cell_type": "code",
   "execution_count": 2,
   "metadata": {},
   "outputs": [],
   "source": [
    "import os\n",
    "import pandas as pd\n",
    "import matplotlib.pyplot as plt\n",
    "from metacatalog import api, models"
   ]
  },
  {
   "cell_type": "markdown",
   "metadata": {},
   "source": [
    "## Load Metadata"
   ]
  },
  {
   "cell_type": "markdown",
   "metadata": {},
   "source": [
    "connect"
   ]
  },
  {
   "cell_type": "code",
   "execution_count": 3,
   "metadata": {},
   "outputs": [],
   "source": [
    "session = api.connect_database()"
   ]
  },
  {
   "cell_type": "markdown",
   "metadata": {},
   "source": [
    "get the entries"
   ]
  },
  {
   "cell_type": "code",
   "execution_count": 4,
   "metadata": {},
   "outputs": [
    {
     "name": "stdout",
     "output_type": "stream",
     "text": [
      "Have 2115 entries\n"
     ]
    }
   ],
   "source": [
    "entries = api.find_entry(session, title='CAOS *')\n",
    "print('Have %d entries' % len(entries))"
   ]
  },
  {
   "cell_type": "markdown",
   "metadata": {},
   "source": [
    "## Infer correct entry from datafile location, filename and column"
   ]
  },
  {
   "cell_type": "markdown",
   "metadata": {},
   "source": [
    "The CAOS data is organized by Cluster. The tracing should work as follows:\n",
    "\n",
    "* top-level dir gives the site code to filter\n",
    "* file-name can be used to filter the variable (but some vars go into the same file)\n",
    "* column order either gives the variable or the variable and depth. This will be the main challenge\n",
    "* some comments give a non-standard order"
   ]
  },
  {
   "cell_type": "code",
   "execution_count": 5,
   "metadata": {
    "scrolled": false
   },
   "outputs": [
    {
     "data": {
      "text/plain": [
       "{'id': 189,\n",
       " 'uuid': 'bb85223d-a6bc-4241-8261-22ed3d6b9cd8',\n",
       " 'title': 'CAOS [807] - Temperature, soil 1.16.45.30.2.2.1.CL.SM.i',\n",
       " 'author': {'id': 2,\n",
       "  'first_name': 'Theresa',\n",
       "  'last_name': 'Blume',\n",
       "  'organisation_name': 'German Research Centre For Geosciences GFZ ',\n",
       "  'affiliation': 'German Research Centre For Geosciences GFZ , Hydrology',\n",
       "  'attribution': 'Data collected by GFZ as part of the CAOS project'},\n",
       " 'authors': [{'id': 2,\n",
       "   'first_name': 'Theresa',\n",
       "   'last_name': 'Blume',\n",
       "   'organisation_name': 'German Research Centre For Geosciences GFZ ',\n",
       "   'affiliation': 'German Research Centre For Geosciences GFZ , Hydrology',\n",
       "   'attribution': 'Data collected by GFZ as part of the CAOS project'}],\n",
       " 'locationShape': 'POINT (5.833975 49.823242)',\n",
       " 'location': 'POINT (5.833975 49.823242)',\n",
       " 'variable': {'id': 2,\n",
       "  'name': 'soil temperature',\n",
       "  'symbol': 'Ts',\n",
       "  'unit': {'id': 101, 'name': 'degree Celsius', 'symbol': 'C'}},\n",
       " 'embargo': True,\n",
       " 'embargo_end': datetime.datetime(2022, 7, 30, 8, 10, 40, 946870),\n",
       " 'version': 1,\n",
       " 'isPartial': False,\n",
       " 'publication': datetime.datetime(2020, 7, 30, 8, 10, 40, 946870),\n",
       " 'lastUpdate': datetime.datetime(2020, 7, 30, 11, 19, 10, 447991),\n",
       " 'keywords': [],\n",
       " 'license': {'id': 9,\n",
       "  'short_title': 'CC BY-NC-SA 4.0',\n",
       "  'title': 'Creative Commons Attribution-NonCommercial-ShareAlike 4.0 International',\n",
       "  'by_attribution': True,\n",
       "  'share_alike': True,\n",
       "  'commercial_use': False,\n",
       "  'summary': 'You are free to: Share — copy and redistribute the material in any medium or format Adapt — remix, transform, and build upon the material. Under the following terms: Attribution — You must give appropriate credit, provide a link to the license, and indicate if changes were made. You may do so in any reasonable manner, but not in any way that suggests the licensor endorses you or your use.  NonCommercial — You may not use the material for commercial purposes.  ShareAlike — If you remix, transform, or build upon the material, you must distribute your contributions under the same license as the original.',\n",
       "  'link': 'https://creativecommons.org/licenses/by-nc-sa/4.0/legalcode.txt'},\n",
       " 'details': {'begin': {'id': 3662,\n",
       "   'key': 'begin',\n",
       "   'stem': 'begin',\n",
       "   'value': 'nan',\n",
       "   'entry_id': 189,\n",
       "   'entry_uuid': 'bb85223d-a6bc-4241-8261-22ed3d6b9cd8'},\n",
       "  'categori': {'id': 3678,\n",
       "   'key': 'category',\n",
       "   'stem': 'categori',\n",
       "   'value': 'Hydrology',\n",
       "   'entry_id': 189,\n",
       "   'entry_uuid': 'bb85223d-a6bc-4241-8261-22ed3d6b9cd8'},\n",
       "  'counti': {'id': 3671,\n",
       "   'key': 'County',\n",
       "   'stem': 'counti',\n",
       "   'value': 'Grand Duchy of Luxembourg',\n",
       "   'entry_id': 189,\n",
       "   'entry_uuid': 'bb85223d-a6bc-4241-8261-22ed3d6b9cd8'},\n",
       "  'data typ': {'id': 3677,\n",
       "   'key': 'data type',\n",
       "   'stem': 'data typ',\n",
       "   'value': 'Average',\n",
       "   'entry_id': 189,\n",
       "   'entry_uuid': 'bb85223d-a6bc-4241-8261-22ed3d6b9cd8'},\n",
       "  'depth': {'id': 3680,\n",
       "   'key': 'depth',\n",
       "   'stem': 'depth',\n",
       "   'value': '30.0',\n",
       "   'entry_id': 189,\n",
       "   'entry_uuid': 'bb85223d-a6bc-4241-8261-22ed3d6b9cd8'},\n",
       "  'elev': {'id': 3667,\n",
       "   'key': 'elevation',\n",
       "   'stem': 'elev',\n",
       "   'value': '459.0',\n",
       "   'entry_id': 189,\n",
       "   'entry_uuid': 'bb85223d-a6bc-4241-8261-22ed3d6b9cd8'},\n",
       "  'end': {'id': 3663,\n",
       "   'key': 'end',\n",
       "   'stem': 'end',\n",
       "   'value': 'nan',\n",
       "   'entry_id': 189,\n",
       "   'entry_uuid': 'bb85223d-a6bc-4241-8261-22ed3d6b9cd8'},\n",
       "  'latlongdatumid': {'id': 3666,\n",
       "   'key': 'LatLongDatumID',\n",
       "   'stem': 'latlongdatumid',\n",
       "   'value': '3.0',\n",
       "   'entry_id': 189,\n",
       "   'entry_uuid': 'bb85223d-a6bc-4241-8261-22ed3d6b9cd8'},\n",
       "  'methoddescript': {'id': 3679,\n",
       "   'key': 'MethodDescription',\n",
       "   'stem': 'methoddescript',\n",
       "   'value': 'Soil temperature measured at 30 cm with Decagon 5TE ',\n",
       "   'entry_id': 189,\n",
       "   'entry_uuid': 'bb85223d-a6bc-4241-8261-22ed3d6b9cd8'},\n",
       "  'name': {'id': 3665,\n",
       "   'key': 'name',\n",
       "   'stem': 'name',\n",
       "   'value': 'schist - cluster: S_M - forest - midslope - S\\n',\n",
       "   'entry_id': 189,\n",
       "   'entry_uuid': 'bb85223d-a6bc-4241-8261-22ed3d6b9cd8'},\n",
       "  'position accuraci': {'id': 3670,\n",
       "   'key': 'position accuracy',\n",
       "   'stem': 'position accuraci',\n",
       "   'value': 'nan',\n",
       "   'entry_id': 189,\n",
       "   'entry_uuid': 'bb85223d-a6bc-4241-8261-22ed3d6b9cd8'},\n",
       "  'quality flag': {'id': 3661,\n",
       "   'key': 'quality flag',\n",
       "   'stem': 'quality flag',\n",
       "   'value': '1.0',\n",
       "   'entry_id': 189,\n",
       "   'entry_uuid': 'bb85223d-a6bc-4241-8261-22ed3d6b9cd8'},\n",
       "  'regular': {'id': 3675,\n",
       "   'key': 'regular',\n",
       "   'stem': 'regular',\n",
       "   'value': '1',\n",
       "   'entry_id': 189,\n",
       "   'entry_uuid': 'bb85223d-a6bc-4241-8261-22ed3d6b9cd8'},\n",
       "  'samplemedium': {'id': 3673,\n",
       "   'key': 'SampleMedium',\n",
       "   'stem': 'samplemedium',\n",
       "   'value': 'Soil',\n",
       "   'entry_id': 189,\n",
       "   'entry_uuid': 'bb85223d-a6bc-4241-8261-22ed3d6b9cd8'},\n",
       "  'site': {'id': 3664,\n",
       "   'key': 'site',\n",
       "   'stem': 'site',\n",
       "   'value': '1.16.45.30.2.2.1.CL.SM.i',\n",
       "   'entry_id': 189,\n",
       "   'entry_uuid': 'bb85223d-a6bc-4241-8261-22ed3d6b9cd8'},\n",
       "  'speciat': {'id': 3672,\n",
       "   'key': 'Speciation',\n",
       "   'stem': 'speciat',\n",
       "   'value': 'Not Applicable',\n",
       "   'entry_id': 189,\n",
       "   'entry_uuid': 'bb85223d-a6bc-4241-8261-22ed3d6b9cd8'},\n",
       "  'support': {'id': 3676,\n",
       "   'key': 'support',\n",
       "   'stem': 'support',\n",
       "   'value': '5',\n",
       "   'entry_id': 189,\n",
       "   'entry_uuid': 'bb85223d-a6bc-4241-8261-22ed3d6b9cd8'},\n",
       "  'time unit': {'id': 3660,\n",
       "   'key': 'time unit',\n",
       "   'stem': 'time unit',\n",
       "   'value': 'minute',\n",
       "   'entry_id': 189,\n",
       "   'entry_uuid': 'bb85223d-a6bc-4241-8261-22ed3d6b9cd8'},\n",
       "  'value typ': {'id': 3674,\n",
       "   'key': 'value type',\n",
       "   'stem': 'value typ',\n",
       "   'value': 'Field observation',\n",
       "   'entry_id': 189,\n",
       "   'entry_uuid': 'bb85223d-a6bc-4241-8261-22ed3d6b9cd8'},\n",
       "  'x': {'id': 3668,\n",
       "   'key': 'x',\n",
       "   'stem': 'x',\n",
       "   'value': '55954.77',\n",
       "   'entry_id': 189,\n",
       "   'entry_uuid': 'bb85223d-a6bc-4241-8261-22ed3d6b9cd8'},\n",
       "  'y': {'id': 3669,\n",
       "   'key': 'y',\n",
       "   'stem': 'y',\n",
       "   'value': '98812.25',\n",
       "   'entry_id': 189,\n",
       "   'entry_uuid': 'bb85223d-a6bc-4241-8261-22ed3d6b9cd8'}},\n",
       " 'abstract': '\\nOriginal SiteCode in CAOS: 1.16.45.30.2.2.1.CL.SM.i\\nat: 194\\n\\nSoil temperature measured at 30 cm with Decagon 5TE  (http://www.decagon.com/products/soils/volumetric-water-content-sensors/5te-vwc-ec-temp/)\\nAdditional comments:\\na,b,c,k,i,j,r\\n',\n",
       " 'external_id': '807',\n",
       " 'comment': 'a,b,c,k,i,j,r'}"
      ]
     },
     "execution_count": 5,
     "metadata": {},
     "output_type": "execute_result"
    }
   ],
   "source": [
    "e = entries[165]\n",
    "e.to_dict()"
   ]
  },
  {
   "cell_type": "code",
   "execution_count": 6,
   "metadata": {},
   "outputs": [
    {
     "name": "stdout",
     "output_type": "stream",
     "text": [
      "Microsoft Windows [Version 10.0.17763.1339]\r\n",
      "(c) 2018 Microsoft Corporation. Alle Rechte vorbehalten.\r\n",
      "\r\n",
      "E:\\Dropbox\\KIT\\projects\\vforwater\\scripts\\caos>python -m metacatalog find variable\n",
      "air temperature [C] <ID=1>\r\n",
      "soil temperature [C] <ID=2>\r\n",
      "water temperature [C] <ID=3>\r\n",
      "discharge [m3/s] <ID=4>\r\n",
      "air pressure [10^2*Pa] <ID=5>\r\n",
      "relative humidity [%] <ID=6>\r\n",
      "daily rainfall sum [mm/d] <ID=7>\r\n",
      "rainfall intensity [mm/h] <ID=8>\r\n",
      "solar irradiance [W/m2] <ID=9>\r\n",
      "net radiation [W/m2] <ID=10>\r\n",
      "gravimetric water content [kg/kg] <ID=11>\r\n",
      "precision [-] <ID=13>\r\n",
      "sap flow [cm^3/cm^2h] <ID=14>\r\n",
      "volumetric water content [cm3/cm3] <ID=12>\r\n",
      "matric potential [MPa] <ID=15>\r\n",
      "bulk electrical conductivity [EC] <ID=16>\r\n",
      "specific electrical conductivity [EC] <ID=17>\r\n",
      "river water level [m] <ID=18>\r\n",
      "\r\n",
      "E:\\Dropbox\\KIT\\projects\\vforwater\\scripts\\caos>"
     ]
    }
   ],
   "source": [
    "%%cmd\n",
    "python -m metacatalog find variable"
   ]
  },
  {
   "cell_type": "code",
   "execution_count": 8,
   "metadata": {},
   "outputs": [
    {
     "name": "stdout",
     "output_type": "stream",
     "text": [
      "CAOS [228] - Temperature, soil 1.1.45.30.2.1.2.CL.SC.o :\t\t Temp5TE_C_Avg.8.\n",
      "CAOS [284] - Temperature, soil 1.1.45.30.2.1.CL.SD.i :\t\t Temp5TE_C_Avg.2.\n",
      "CAOS [287] - Temperature, soil 1.1.45.30.2.1.CL.SD.l :\t\t Temp5TE_C_Avg.5.\n",
      "CAOS [290] - Temperature, soil 1.1.45.30.2.1.CL.SD.o :\t\t Temp5TE_C_Avg.8.\n",
      "CAOS [349] - Temperature, soil 1.1.45.30.2.1.CL.SE.i :\t\t Temp5TE_C_Avg.2.\n",
      "CAOS [346] - Temperature, soil 1.1.45.30.2.1.CL.SE.l :\t\t Temp5TE_C_Avg.5.\n",
      "CAOS [352] - Temperature, soil 1.1.45.30.2.1.CL.SE.o :\t\t Temp5TE_C_Avg.8.\n",
      "CAOS [411] - Temperature, soil 1.1.45.30.2.1.CL.SF.i :\t\t Temp5TE_C_Avg.2.\n",
      "CAOS [414] - Temperature, soil 1.1.45.30.2.1.CL.SF.l :\t\t Temp5TE_C_Avg.5.\n",
      "CAOS [470] - Temperature, soil 1.1.45.30.2.1.CL.SG.h :\t\t None\n",
      "CAOS [588] - Temperature, soil 1.1.45.30.2.1.2.CL.SI.i :\t\t Temp5TE_C_Avg.2.\n",
      "CAOS [594] - Temperature, soil 1.1.45.30.2.1.2.CL.SI.o :\t\t Temp5TE_C_Avg.8.\n",
      "CAOS [999] - Temperature, soil 1.16.45.30.2.4.1.CL.SQ.o :\t\t Temp5TE_C_Avg.8.\n",
      "CAOS [749] - Temperature, soil 1.16.45.30.2.3.CL.SL.i :\t\t Temp5TE_C_Avg.2.\n",
      "CAOS [807] - Temperature, soil 1.16.45.30.2.2.1.CL.SM.i :\t\t Temp5TE_C_Avg.2.\n",
      "CAOS [810] - Temperature, soil 1.16.45.30.2.2.1.CL.SM.l :\t\t Temp5TE_C_Avg.5.\n",
      "CAOS [813] - Temperature, soil 1.16.45.30.2.2.1.CL.SM.o :\t\t Temp5TE_C_Avg.8.\n",
      "CAOS [993] - Temperature, soil 1.16.45.30.2.4.1.CL.SQ.i :\t\t Temp5TE_C_Avg.2.\n",
      "CAOS [996] - Temperature, soil 1.16.45.30.2.4.1.CL.SQ.l :\t\t Temp5TE_C_Avg.5.\n"
     ]
    }
   ],
   "source": [
    "VM = {\n",
    "    2: 'FiveTE.dat',\n",
    "    12: 'FiveTE.dat',\n",
    "    16: 'FiveTE.dat'    \n",
    "}\n",
    "COL = {\n",
    "    'i': 1,\n",
    "    'j': 2,\n",
    "    'k': 3,\n",
    "    'l': 4,\n",
    "    'm': 5,\n",
    "    'n': 6,\n",
    "    'o': 7,\n",
    "    'p': 8,\n",
    "    'q': 9,\n",
    "    'r': 10\n",
    "}\n",
    "COLNAME = {\n",
    "    2: 'Temp5TE_C',\n",
    "    12: 'VWC',\n",
    "    16: 'EC'\n",
    "}\n",
    "\n",
    "# this is very specific\n",
    "def get_folder(e: models.Entry):\n",
    "    d = e.details_dict(full=True)\n",
    "    site = d.get('site', {}).get('value')\n",
    "    if site is None:\n",
    "        return None\n",
    "    else:\n",
    "        chunks = site.split('.')\n",
    "        CL = chunks[-2]\n",
    "        s = CL[-1]\n",
    "        CL = CL[0:2] if len(CL) == 3 else CL[0]\n",
    "        return '%s_%s' % (CL.capitalize(), s.upper())\n",
    "\n",
    "def get_file(e: models.Entry):\n",
    "        fn = VM.get(e.variable.id)\n",
    "        fo = get_folder(e)\n",
    "        if fn is None or fo is None:\n",
    "            return None\n",
    "        fn = '%s_%s' % (fo, fn)\n",
    "        return os.path.join(fo, fn)\n",
    "    \n",
    "def get_column(e: models.Entry):\n",
    "    name = COLNAME.get(e.variable.id)\n",
    "    d = e.details_dict(full=True)\n",
    "    site = d.get('site', {}).get('value')\n",
    "    if name is None or site is None:\n",
    "        return None\n",
    "    i = site.split('.')[-1]\n",
    "    num = COL.get(i)\n",
    "    if num is None:\n",
    "        return None\n",
    "    if e.variable_id in (2, 12, 16):\n",
    "#        if 'n,m,l' in e.comment or 'q,p,o' in e.comment or 'k,j,i' in e.comment:\n",
    "#            rev = True\n",
    "#        else:\n",
    "#            rev = False\n",
    "        if d.get('depth', {}).get('value') == '50.0':\n",
    "            num += 0\n",
    "        if d.get('depth', {}).get('value') == '30.0':\n",
    "            num += 1\n",
    "        if d.get('depth', {}).get('value') == '10.0':\n",
    "            num += 2\n",
    "        if d.get('depth', {}).get('value') == '80.0':\n",
    "            num = 10\n",
    "    \n",
    "    return \"{name}_Avg.{num}.\".format(name=name, num=num)\n",
    "\n",
    "for i,e in enumerate([e for e in entries]):\n",
    "    if i > 150 and i < 170:\n",
    "        print(e.title, ':\\t\\t', get_column(e))"
   ]
  },
  {
   "cell_type": "markdown",
   "metadata": {},
   "source": [
    "## Test for entry ID=172"
   ]
  },
  {
   "cell_type": "code",
   "execution_count": 9,
   "metadata": {},
   "outputs": [
    {
     "name": "stdout",
     "output_type": "stream",
     "text": [
      "From DB\n",
      "-------------------------------------\n",
      "172\n",
      "CAOS [225] - Temperature, soil 1.1.45.30.2.1.2.CL.SC.l\n",
      "30.0\n",
      "schist - cluster: S_C - forest - midslope - N\n",
      "n,m,l\n",
      "-------------------------------------\n",
      "\n",
      " Infer:\n",
      "File:   S_C\\S_C_FiveTE.dat\n",
      "Column:  Temp5TE_C_Avg.5.\n"
     ]
    }
   ],
   "source": [
    "e = entries[150]\n",
    "print('From DB')\n",
    "print(\"-------------------------------------\")\n",
    "print(e.id)\n",
    "print(e.title)\n",
    "print(e.details_dict().get('depth').get('value'))\n",
    "print(e.details_dict().get('name').get('value'))\n",
    "print(e.comment)\n",
    "print(\"-------------------------------------\")\n",
    "print(\"\\n Infer:\")\n",
    "print('File:  ', get_file(e))\n",
    "print('Column: ', get_column(e))"
   ]
  },
  {
   "cell_type": "code",
   "execution_count": 10,
   "metadata": {},
   "outputs": [
    {
     "name": "stdout",
     "output_type": "stream",
     "text": [
      "data\\S_C\\S_C_FiveTE.dat\n"
     ]
    },
    {
     "data": {
      "text/plain": [
       "tstamp\n",
       "2012-05-12 19:05:00    10.6\n",
       "2012-05-12 19:10:00    10.6\n",
       "2012-05-12 19:15:00    10.6\n",
       "2012-05-12 19:20:00    10.6\n",
       "2012-05-12 19:25:00    10.6\n",
       "                       ... \n",
       "2015-01-13 14:20:00     5.0\n",
       "2015-01-13 14:25:00     5.0\n",
       "2015-01-13 14:30:00     5.0\n",
       "2015-01-13 14:35:00     5.0\n",
       "2015-01-13 14:40:00     5.0\n",
       "Name: value, Length: 281036, dtype: float64"
      ]
     },
     "execution_count": 10,
     "metadata": {},
     "output_type": "execute_result"
    }
   ],
   "source": [
    "filename = os.path.join('data', get_file(e))\n",
    "print(filename)\n",
    "colname = get_column(e)\n",
    "\n",
    "_dat = pd.read_csv(filename, sep='\\s+')\n",
    "_dat.index.name = 'DATE'\n",
    "_dat.reset_index(inplace=True)\n",
    "#_dat.index.name = 'tstamp'\n",
    "if colname in _dat.columns:\n",
    "    series = pd.Series(_dat[colname].copy())\n",
    "    idx = pd.to_datetime(_dat[['DATE', 'TIMESTAMP']].apply(lambda r: '%s %s' % (r[0], r[1]), axis=1), format='%Y-%m-%d %H:%M:%S')\n",
    "    series.index = idx\n",
    "    series.index.name = 'tstamp'\n",
    "    series.name = 'value'\n",
    "else:\n",
    "    print(\"Can't find column: \", colname)\n",
    "series"
   ]
  },
  {
   "cell_type": "code",
   "execution_count": 13,
   "metadata": {},
   "outputs": [
    {
     "name": "stdout",
     "output_type": "stream",
     "text": [
      "Done ID=172 loaded 281036 points\n"
     ]
    }
   ],
   "source": [
    "if UPLOAD and True:\n",
    "    # create datasource\n",
    "    if e.datasource is None:\n",
    "        e.create_datasource(type=1, path='timeseries', datatype='timeseries', commit=True)\n",
    "    \n",
    "    # import data\n",
    "    e.import_data(series.dropna())\n",
    "    \n",
    "    # add temporal scale\n",
    "    e.datasource.create_scale(\n",
    "        resolution='5min',\n",
    "        extent=(series.index[0].to_pydatetime(), series.index[-1].to_pydatetime()),\n",
    "        support=1.0,\n",
    "        scale_dimension='temporal'\n",
    "    )\n",
    "    \n",
    "    session.add(e)\n",
    "    session.commit()\n",
    "    print('Done ID=%d loaded %d points' % (e.id, len(series)))\n",
    "    "
   ]
  },
  {
   "cell_type": "code",
   "execution_count": 14,
   "metadata": {},
   "outputs": [
    {
     "data": {
      "text/plain": [
       "<matplotlib.axes._subplots.AxesSubplot at 0x22bc7487708>"
      ]
     },
     "execution_count": 14,
     "metadata": {},
     "output_type": "execute_result"
    },
    {
     "data": {
      "image/png": "[encoded data removed]",
      "text/plain": [
       "<Figure size 432x288 with 1 Axes>"
      ]
     },
     "metadata": {
      "needs_background": "light"
     },
     "output_type": "display_data"
    }
   ],
   "source": [
    "e.get_data()[e.variable.name].plot()"
   ]
  },
  {
   "cell_type": "code",
   "execution_count": 15,
   "metadata": {},
   "outputs": [
    {
     "name": "stdout",
     "output_type": "stream",
     "text": [
      "<metacatalog.models.datasource.TemporalScale object at 0x0000022BC7532E48>\n"
     ]
    }
   ],
   "source": [
    "print(e.datasource.temporal_scale)"
   ]
  },
  {
   "cell_type": "markdown",
   "metadata": {},
   "source": [
    "## Go for all"
   ]
  },
  {
   "cell_type": "code",
   "execution_count": 16,
   "metadata": {},
   "outputs": [
    {
     "name": "stdout",
     "output_type": "stream",
     "text": [
      "Have 2115 entries\n"
     ]
    }
   ],
   "source": [
    "entries = api.find_entry(session, author='Blume')\n",
    "print('Have %d entries' % len(entries))"
   ]
  },
  {
   "cell_type": "code",
   "execution_count": 20,
   "metadata": {},
   "outputs": [],
   "source": [
    "def convert_data(filename, colname):\n",
    "    _dat = pd.read_csv(filename, sep='\\s+', error_bad_lines=False)\n",
    "    _dat.index.name = 'DATE'\n",
    "    _dat.reset_index(inplace=True)\n",
    "    if colname in _dat.columns:\n",
    "        series = pd.Series(_dat[colname].copy())\n",
    "        idx = pd.to_datetime(_dat[['DATE', 'TIMESTAMP']].apply(lambda r: '%s %s' % (r[0], r[1]), axis=1), format='%Y-%m-%d %H:%M:%S')\n",
    "        series.index = idx\n",
    "        series.index.name = 'tstamp'\n",
    "        series.name = 'value'\n",
    "    else:\n",
    "        print(\"Can't find column: \", colname)\n",
    "        return None\n",
    "    return series"
   ]
  },
  {
   "cell_type": "code",
   "execution_count": 22,
   "metadata": {
    "scrolled": false
   },
   "outputs": [
    {
     "name": "stdout",
     "output_type": "stream",
     "text": [
      "ID=187 has already data.\n",
      "ID=188 has already data.\n",
      "ID=189 has already data.\n",
      "ID=190 has already data.\n",
      "ID=191 has already data.\n",
      "ID=192 has already data.\n",
      "ID=193 has already data.\n",
      "ID=198 has already data.\n",
      "ID=199 has already data.\n",
      "ID=210 has already data.\n",
      "ID=211 has already data.\n",
      "ID=213 has already data.\n",
      "ID=214 has already data.\n",
      "Processing Column: Temp5TE_C_Avg.2. in file data\\M_B\\M_B_FiveTE.dat..."
     ]
    },
    {
     "name": "stderr",
     "output_type": "stream",
     "text": [
      "b'Skipping line 180222: expected 32 fields, saw 43\\n'\n",
      "b'Skipping line 180426: expected 32 fields, saw 37\\nSkipping line 185290: expected 32 fields, saw 44\\nSkipping line 187114: expected 32 fields, saw 35\\n'\n"
     ]
    },
    {
     "name": "stdout",
     "output_type": "stream",
     "text": [
      "Error.\n",
      "Processing Column: Temp5TE_C_Avg.5. in file data\\M_B\\M_B_FiveTE.dat..."
     ]
    },
    {
     "name": "stderr",
     "output_type": "stream",
     "text": [
      "b'Skipping line 180222: expected 32 fields, saw 43\\n'\n",
      "b'Skipping line 180426: expected 32 fields, saw 37\\nSkipping line 185290: expected 32 fields, saw 44\\nSkipping line 187114: expected 32 fields, saw 35\\n'\n"
     ]
    },
    {
     "name": "stdout",
     "output_type": "stream",
     "text": [
      "Error.\n",
      "Processing Column: Temp5TE_C_Avg.2. in file data\\M_D\\M_D_FiveTE.dat...done.\tID=220 loaded 141829 points.\n",
      "Processing Column: Temp5TE_C_Avg.5. in file data\\M_I\\M_I_FiveTE.dat...done.\tID=233 loaded 177648 points.\n",
      "Processing Column: Temp5TE_C_Avg.8. in file data\\M_I\\M_I_FiveTE.dat...done.\tID=234 loaded 177648 points.\n",
      "Processing Column: Temp5TE_C_Avg.2. in file data\\Sa_E\\Sa_E_FiveTE.dat...done.\tID=256 loaded 140518 points.\n",
      "Processing Column: Temp5TE_C_Avg.2. in file data\\Sa_F\\Sa_F_FiveTE.dat...done.\tID=257 loaded 140208 points.\n",
      "Processing Column: Temp5TE_C_Avg.5. in file data\\Sa_F\\Sa_F_FiveTE.dat...done.\tID=258 loaded 140208 points.\n",
      "Processing Column: Temp5TE_C_Avg.8. in file data\\Sa_F\\Sa_F_FiveTE.dat...done.\tID=259 loaded 140208 points.\n",
      "Processing Column: Temp5TE_C_Avg.8. in file data\\Sa_G\\Sa_G_FiveTE.dat...done.\tID=261 loaded 150336 points.\n",
      "Processing Column: Temp5TE_C_Avg.5. in file data\\Sa_H\\Sa_H_FiveTE.dat...done.\tID=263 loaded 157228 points.\n",
      "Processing Column: Temp5TE_C_Avg.8. in file data\\Sa_H\\Sa_H_FiveTE.dat...done.\tID=264 loaded 157228 points.\n",
      "Processing Column: Temp5TE_C_Avg.8. in file data\\Sa_I\\Sa_I_FiveTE.dat...done.\tID=266 loaded 157543 points.\n",
      "Processing Column: Temp5TE_C_Avg.2. in file data\\Sa_K\\Sa_K_FiveTE.dat...done.\tID=269 loaded 145168 points.\n",
      "Processing Column: Temp5TE_C_Avg.5. in file data\\Sa_K\\Sa_K_FiveTE.dat...done.\tID=270 loaded 145168 points.\n",
      "Processing Column: Temp5TE_C_Avg.7. in file data\\M_I\\M_I_FiveTE.dat...done.\tID=371 loaded 177648 points.\n",
      "Processing Column: Temp5TE_C_Avg.1. in file data\\Sa_E\\Sa_E_FiveTE.dat...done.\tID=393 loaded 140518 points.\n",
      "Processing Column: Temp5TE_C_Avg.1. in file data\\Sa_F\\Sa_F_FiveTE.dat...done.\tID=394 loaded 140208 points.\n",
      "Processing Column: Temp5TE_C_Avg.4. in file data\\Sa_F\\Sa_F_FiveTE.dat...done.\tID=395 loaded 140208 points.\n",
      "Processing Column: Temp5TE_C_Avg.7. in file data\\Sa_F\\Sa_F_FiveTE.dat...done.\tID=396 loaded 140208 points.\n",
      "Processing Column: Temp5TE_C_Avg.4. in file data\\Sa_G\\Sa_G_FiveTE.dat...done.\tID=397 loaded 150336 points.\n",
      "Processing Column: Temp5TE_C_Avg.7. in file data\\Sa_G\\Sa_G_FiveTE.dat...done.\tID=398 loaded 150336 points.\n",
      "Reached batch limit of 20\n"
     ]
    }
   ],
   "source": [
    "batch = 20\n",
    "uploaded = 0\n",
    "if UPLOAD and True:\n",
    "    for i,e in enumerate(entries):\n",
    "        if uploaded == batch:\n",
    "            print('Reached batch limit of %d' % batch)\n",
    "            break\n",
    "        # create datasource\n",
    "        if e.datasource is None:\n",
    "            e.create_datasource(type=1, path='timeseries', datatype='timeseries', commit=True)\n",
    "    \n",
    "        # import data\n",
    "        if e.datasource.temporal_scale is None:\n",
    "            fn = get_file(e)\n",
    "            colname = get_column(e)\n",
    "            if fn is None or colname is None:\n",
    "                continue\n",
    "            filename = os.path.join('data', get_file(e))\n",
    "            print('Processing Column: %s in file %s...' % (colname, filename), end='')\n",
    "            try:\n",
    "                series = convert_data(filename, colname)\n",
    "            except Exception as e:\n",
    "                print('Error.')\n",
    "                continue\n",
    "                \n",
    "            print('done.\\t', end='')\n",
    "\n",
    "            e.import_data(series.dropna())\n",
    "    \n",
    "            # add temporal scale\n",
    "            e.datasource.create_scale(\n",
    "                resolution='5min',\n",
    "                extent=(series.index[0].to_pydatetime(), series.index[-1].to_pydatetime()),\n",
    "                support=1.0,\n",
    "                scale_dimension='temporal'\n",
    "            )\n",
    "    \n",
    "            session.add(e)\n",
    "            session.commit()\n",
    "            uploaded += 1\n",
    "            print('ID=%d loaded %d points.' % (e.id, len(series)))\n",
    "        else:\n",
    "            print('ID=%d has already data.' % e.id)"
   ]
  }
 ],
 "metadata": {
  "finalized": {
   "timestamp": 1595230756652,
   "trusted": true
  },
  "kernelspec": {
   "display_name": "Python 3",
   "language": "python",
   "name": "python3"
  },
  "language_info": {
   "codemirror_mode": {
    "name": "ipython",
    "version": 3
   },
   "file_extension": ".py",
   "mimetype": "text/x-python",
   "name": "python",
   "nbconvert_exporter": "python",
   "pygments_lexer": "ipython3",
   "version": "3.7.5"
  }
 },
 "nbformat": 4,
 "nbformat_minor": 4
}

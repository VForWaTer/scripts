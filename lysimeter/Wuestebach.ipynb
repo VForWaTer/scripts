{
 "cells": [
  {
   "cell_type": "markdown",
   "id": "cd1882c6",
   "metadata": {},
   "source": [
    "# Wüstebach"
   ]
  },
  {
   "cell_type": "code",
   "execution_count": 1,
   "id": "77c67c91",
   "metadata": {},
   "outputs": [],
   "source": [
    "from metacatalog import api"
   ]
  },
  {
   "cell_type": "code",
   "execution_count": 3,
   "id": "d6ace836",
   "metadata": {},
   "outputs": [],
   "source": [
    "session = api.connect_database()"
   ]
  },
  {
   "cell_type": "code",
   "execution_count": 26,
   "id": "3b915265",
   "metadata": {},
   "outputs": [
    {
     "name": "stdout",
     "output_type": "stream",
     "text": [
      "Jannis Groh <ID=4>\n",
      "Thomas Pütz <ID=5>\n",
      "Werner Küpper <ID=6>\n"
     ]
    }
   ],
   "source": [
    "# Create author and contributor\n",
    "jannis = api.find_person(session, last_name='Groh', return_iterator=True).first()\n",
    "if jannis is None:\n",
    "    jannis = api.add_person(\n",
    "        session,\n",
    "        first_name='Jannis',\n",
    "        last_name='Groh',\n",
    "        affiliation='Forschungszentrum Jülich GmbH, Institute for Bio- and Geosciences - IBG-3, Agrosphere',\n",
    "        organisation_name='Forschungszentrum Jülich GmbH',\n",
    "        organisation_abbrev='Jülich'\n",
    "    )\n",
    "print(jannis)\n",
    "\n",
    "thomas = api.find_person(session, last_name='Pütz', return_iterator=True).first()\n",
    "if thomas is None:\n",
    "    thomas = api.add_person(\n",
    "        session,\n",
    "        first_name='Thomas',\n",
    "        last_name='Pütz',\n",
    "        affiliation='Forschungszentrum Jülich GmbH, Institute for Bio- and Geosciences - IBG-3, Agrosphere',\n",
    "        organisation_name='Forschungszentrum Jülich GmbH',\n",
    "        organisation_abbrev='Jülich'\n",
    "    )\n",
    "print(thomas)\n",
    "\n",
    "\n",
    "werner = api.find_person(session, last_name='Küpper', return_iterator=True).first()\n",
    "if werner is None:\n",
    "    werner = api.add_person(\n",
    "        session,\n",
    "        first_name='Werner',\n",
    "        last_name='Küpper',\n",
    "        affiliation='Forschungszentrum Jülich GmbH, Institute for Bio- and Geosciences - IBG-3, Agrosphere',\n",
    "        organisation_name='Forschungszentrum Jülich GmbH',\n",
    "        organisation_abbrev='Jülich'\n",
    "    )\n",
    "print(werner)"
   ]
  },
  {
   "cell_type": "code",
   "execution_count": 14,
   "id": "ad2fa160",
   "metadata": {},
   "outputs": [
    {
     "name": "stdout",
     "output_type": "stream",
     "text": [
      "Weight [kg] <ID=10008>\n"
     ]
    }
   ],
   "source": [
    "variable = api.find_variable(session, name='weight', return_iterator=True).first()\n",
    "if variable is None:\n",
    "    variable = api.add_variable(\n",
    "        session,\n",
    "        name='Weight',\n",
    "        symbol='m',\n",
    "        column_names=['weight'],\n",
    "        unit=3\n",
    "    )\n",
    "print(variable)"
   ]
  },
  {
   "cell_type": "code",
   "execution_count": 17,
   "id": "c3ab10c7",
   "metadata": {},
   "outputs": [
    {
     "name": "stdout",
     "output_type": "stream",
     "text": [
      "Creative Commons Attribution-ShareAlike 4.0 International <ID=7>\n"
     ]
    }
   ],
   "source": [
    "license =  api.find_license(session, id=7)[0]\n",
    "print(license)"
   ]
  },
  {
   "cell_type": "code",
   "execution_count": 20,
   "id": "85219978",
   "metadata": {},
   "outputs": [],
   "source": [
    "coords = [\n",
    "    (6.328272,50.50283),\n",
    "    (6.328254,50.502805),\n",
    "    (6.328211,50.502803),\n",
    "    (6.328185,50.502826),\n",
    "    (6.328203,50.50285),\n",
    "    (6.328247,50.502853)\n",
    "]\n",
    "external_ids = ['WU_Y_011','WU_Y_012','WU_Y_013','WU_Y_014','WU_Y_015','WU_Y_016']\n",
    "\n",
    "title = 'Lysimeter Wüstebach {ext_id}'\n",
    "\n",
    "abstract = \"\"\"\n",
    "Pre-processed lysimeter weight data, which includes in a first step a visual quality check based \n",
    "on TERENO qualifiers and in a second step using qualifier information to solve case specific issue \n",
    "related to balance based data. \n",
    "\n",
    "The lysimeter weight was already corrected by water flux across the bottom boundary and \n",
    "gap-filled water fluxes were calucated from tank weight observations (water reservoir of the lysimeter).\n",
    "\"\"\""
   ]
  },
  {
   "cell_type": "code",
   "execution_count": 25,
   "id": "bc97d346",
   "metadata": {},
   "outputs": [],
   "source": [
    "api.find_keyword(session, uuid='66b99c8a-5962-4049-af83-b2eafd59d1df')   # ??"
   ]
  },
  {
   "cell_type": "code",
   "execution_count": 28,
   "id": "f50a21fd",
   "metadata": {},
   "outputs": [
    {
     "name": "stdout",
     "output_type": "stream",
     "text": [
      "author <ID=1>\n",
      "custodian <ID=2>\n",
      "distributor <ID=3>\n",
      "originator <ID=4>\n",
      "owner <ID=5>\n",
      "pointOfContact <ID=6>\n",
      "principalInvestigator <ID=7>\n",
      "processor <ID=8>\n",
      "publisher <ID=9>\n",
      "resourceProvider <ID=10>\n",
      "sponsor <ID=11>\n",
      "user <ID=12>\n",
      "coAuthor <ID=13>\n",
      "collaborator <ID=14>\n",
      "contributor <ID=15>\n",
      "editor <ID=16>\n",
      "funder <ID=17>\n",
      "mediator <ID=18>\n",
      "rightsHolder <ID=19>\n",
      "stakeholder <ID=20>\n"
     ]
    }
   ],
   "source": [
    "for role in api.find_role(session):\n",
    "    print(role)"
   ]
  },
  {
   "cell_type": "code",
   "execution_count": 36,
   "id": "59780040",
   "metadata": {},
   "outputs": [
    {
     "name": "stdout",
     "output_type": "stream",
     "text": [
      "<ID=92 Lysimeter Wüstebach  [Weight] > Groh, Pütz, Küpper\n",
      "<ID=93 Lysimeter Wüstebach  [Weight] > Groh, Pütz, Küpper\n",
      "<ID=94 Lysimeter Wüstebach  [Weight] > Groh, Pütz, Küpper\n",
      "<ID=95 Lysimeter Wüstebach  [Weight] > Groh, Pütz, Küpper\n",
      "<ID=96 Lysimeter Wüstebach  [Weight] > Groh, Pütz, Küpper\n",
      "<ID=97 Lysimeter Wüstebach  [Weight] > Groh, Pütz, Küpper\n"
     ]
    }
   ],
   "source": [
    "# add entries\n",
    "entries = []\n",
    "for ext, c in zip(external_ids, coords):\n",
    "    entry = api.find_entry(session, external_id=ext, return_iterator=True).first()\n",
    "    if entry is None:\n",
    "        entry = api.add_entry(\n",
    "            session,\n",
    "            title=title.format(ext_id=ext),\n",
    "            author=jannis.id,\n",
    "            location=f'SRID=4326;POINT ({c[0]} {c[1]})',\n",
    "            variable=variable.id,\n",
    "            abstract=abstract,\n",
    "            external_id=ext,\n",
    "            license=license.id,\n",
    "            embargo=False\n",
    "        )\n",
    "\n",
    "        api.add_persons_to_entries(session, entries=entry, persons=[thomas, werner], roles=[13, 13], order=[2,3])    \n",
    "    entries.append(entry)\n",
    "\n",
    "for e in entries:\n",
    "    print(e, ', '.join([a.last_name for a in e.authors]))"
   ]
  }
 ],
 "metadata": {
  "kernelspec": {
   "display_name": "Python 3",
   "language": "python",
   "name": "python3"
  },
  "language_info": {
   "codemirror_mode": {
    "name": "ipython",
    "version": 3
   },
   "file_extension": ".py",
   "mimetype": "text/x-python",
   "name": "python",
   "nbconvert_exporter": "python",
   "pygments_lexer": "ipython3",
   "version": "3.8.5"
  }
 },
 "nbformat": 4,
 "nbformat_minor": 5
}

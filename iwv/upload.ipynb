{
 "cells": [
  {
   "cell_type": "markdown",
   "id": "9181da9f",
   "metadata": {},
   "source": [
    "# IWV"
   ]
  },
  {
   "cell_type": "code",
   "execution_count": 32,
   "id": "89e8097b",
   "metadata": {},
   "outputs": [],
   "source": [
    "from metacatalog import api\n",
    "import pandas as pd"
   ]
  },
  {
   "cell_type": "code",
   "execution_count": 5,
   "id": "16dc7713",
   "metadata": {},
   "outputs": [],
   "source": [
    "session = api.connect_database()"
   ]
  },
  {
   "cell_type": "markdown",
   "id": "fcc4a420",
   "metadata": {},
   "source": [
    "## Metadata"
   ]
  },
  {
   "cell_type": "code",
   "execution_count": 12,
   "id": "aeb50a97",
   "metadata": {},
   "outputs": [
    {
     "name": "stdout",
     "output_type": "stream",
     "text": [
      "Peng Yuan <ID=3>\n"
     ]
    }
   ],
   "source": [
    "# Author\n",
    "author = api.find_person(session, last_name='Yuan', return_iterator=True).first()\n",
    "if author is None:\n",
    "    author = api.add_person(\n",
    "        session, \n",
    "        first_name='Peng',\n",
    "        last_name='Yuan', \n",
    "        affiliation='Geodetic Institute (GIK), KIT',\n",
    "        organisation_name='Karlsruhe Institute for Technology (KIT)',\n",
    "        organisation_abbrev='KIT'\n",
    "    )\n",
    "\n",
    "print(author)"
   ]
  },
  {
   "cell_type": "code",
   "execution_count": 17,
   "id": "29dc3221",
   "metadata": {},
   "outputs": [
    {
     "name": "stdout",
     "output_type": "stream",
     "text": [
      "Integrated Water Vapor [kg*m^-2] <ID=10007>\n"
     ]
    }
   ],
   "source": [
    "# variable\n",
    "iwv = api.find_variable(session, symbol='iwv', return_iterator=True).first()\n",
    "if iwv is None:\n",
    "    unit = api.add_unit(session, name='Kilogram per squaremeter', symbol='kg*m^-2', si='kg*m^-2')\n",
    "    iwv = api.add_variable(\n",
    "        session,\n",
    "        name='Integrated Water Vapor',\n",
    "        symbol='iwv',\n",
    "        column_names=['ivw'],\n",
    "        unit=unit.id\n",
    "    )\n",
    "print(iwv)"
   ]
  },
  {
   "cell_type": "code",
   "execution_count": 18,
   "id": "420a12c4",
   "metadata": {},
   "outputs": [],
   "source": [
    "# Abstract\n",
    "abstract = \"\"\"\n",
    "We obtained the one hourly time series of Integrated Water Vapor (IWV) for 66 stations of the GNSS Upper Rhine Graben network (GURN) network.\n",
    "The time period is from January 1, 2015 to June 30, 2019.\n",
    "The IWV were calculated with tropospheric Zenith Total Delay (ZTD) from Global Positioning System (GPS) at the stations.\n",
    "Station pressure (Ps) and weighte mean temperature (Tm) were also computed from ERA5 reanalysis for the retieval of the GPS IWV.\n",
    "\"\"\""
   ]
  },
  {
   "cell_type": "code",
   "execution_count": 23,
   "id": "8a8c5e7c",
   "metadata": {},
   "outputs": [
    {
     "name": "stdout",
     "output_type": "stream",
     "text": [
      "Open Data Commons Open Database License <ID=4>\n",
      "Open Data Commons Attribution License v1.0 <ID=5>\n",
      "Creative Commons Attribution 4.0 International <ID=6>\n",
      "Creative Commons Attribution-ShareAlike 4.0 International <ID=7>\n",
      "Creative Commons Attribution-NonCommerical 4.0 International <ID=8>\n",
      "Creative Commons Attribution-NonCommercial-ShareAlike 4.0 International <ID=9>\n",
      "\n",
      "---------------\n",
      " Open Data Commons Attribution License v1.0 <ID=5>\n"
     ]
    }
   ],
   "source": [
    "# lincenses\n",
    "for lic in api.find_license(session):\n",
    "    print(lic)\n",
    "    \n",
    "license = api.find_license(session, id=5)[0]\n",
    "print('\\n---------------\\n', license)"
   ]
  },
  {
   "cell_type": "code",
   "execution_count": 30,
   "id": "9c86aadd",
   "metadata": {},
   "outputs": [
    {
     "name": "stdout",
     "output_type": "stream",
     "text": [
      "<ID=91 GPS IWV product of t [Integrated Water Vapor] >\n"
     ]
    }
   ],
   "source": [
    "# build the Entry\n",
    "\n",
    "entry = api.find_entry(session, title='GPS IWV product of the GURN network', author=author, return_iterator=True).first()\n",
    "\n",
    "if entry is None:\n",
    "    entry = api.add_entry(\n",
    "        session,\n",
    "        title='GPS IWV product of the GURN network',\n",
    "        author=author.id,\n",
    "        location='SRID=4326;POINT (7.5 48.7)',\n",
    "        geom='SRID=4326;POLYGON ((5.2 46.9, 5.2 50.8, 9.8 50.8, 9.8 46.9, 5.2 46.9))',\n",
    "        variable=iwv.id,\n",
    "        abstract=abstract,\n",
    "        license=license,\n",
    "        embargo=False\n",
    "    )\n",
    "\n",
    "print(entry)"
   ]
  },
  {
   "cell_type": "code",
   "execution_count": 31,
   "id": "740a0ebb",
   "metadata": {},
   "outputs": [],
   "source": [
    "# add data"
   ]
  },
  {
   "cell_type": "code",
   "execution_count": null,
   "id": "bdc5f3a9",
   "metadata": {},
   "outputs": [],
   "source": []
  }
 ],
 "metadata": {
  "kernelspec": {
   "display_name": "Python 3",
   "language": "python",
   "name": "python3"
  },
  "language_info": {
   "codemirror_mode": {
    "name": "ipython",
    "version": 3
   },
   "file_extension": ".py",
   "mimetype": "text/x-python",
   "name": "python",
   "nbconvert_exporter": "python",
   "pygments_lexer": "ipython3",
   "version": "3.8.5"
  }
 },
 "nbformat": 4,
 "nbformat_minor": 5
}

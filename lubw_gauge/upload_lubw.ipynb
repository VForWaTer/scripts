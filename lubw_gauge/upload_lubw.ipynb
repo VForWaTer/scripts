{
 "cells": [
  {
   "cell_type": "code",
   "execution_count": 1,
   "metadata": {},
   "outputs": [],
   "source": [
    "import pandas as pd\n",
    "from pyproj import Transformer\n",
    "import matplotlib.pyplot as plt\n",
    "import glob\n",
    "from os.path import join as pjoin\n",
    "\n",
    "from metacatalog import api"
   ]
  },
  {
   "cell_type": "code",
   "execution_count": 2,
   "metadata": {},
   "outputs": [],
   "source": [
    "UPLOAD  = True\n",
    "\n",
    "# Local\n",
    "# DATA = './data'\n",
    "# CONNECTION = 'lubw_upload'\n",
    "\n",
    "# portal.vforwater.de\n",
    "DATA = '/data/lubw/download'\n",
    "CONNECTION = 'default'"
   ]
  },
  {
   "cell_type": "code",
   "execution_count": 3,
   "metadata": {},
   "outputs": [
    {
     "ename": "ArgumentError",
     "evalue": "Could not parse rfc1738 URL from string 'default'",
     "output_type": "error",
     "traceback": [
      "\u001b[0;31m---------------------------------------------------------------------------\u001b[0m",
      "\u001b[0;31mArgumentError\u001b[0m                             Traceback (most recent call last)",
      "\u001b[0;32m<ipython-input-3-8424cbde5d2f>\u001b[0m in \u001b[0;36m<module>\u001b[0;34m\u001b[0m\n\u001b[0;32m----> 1\u001b[0;31m \u001b[0msession\u001b[0m \u001b[0;34m=\u001b[0m \u001b[0mapi\u001b[0m\u001b[0;34m.\u001b[0m\u001b[0mconnect_database\u001b[0m\u001b[0;34m(\u001b[0m\u001b[0mCONNECTION\u001b[0m\u001b[0;34m)\u001b[0m\u001b[0;34m\u001b[0m\u001b[0;34m\u001b[0m\u001b[0m\n\u001b[0m\u001b[1;32m      2\u001b[0m \u001b[0mprint\u001b[0m\u001b[0;34m(\u001b[0m\u001b[0msession\u001b[0m\u001b[0;34m.\u001b[0m\u001b[0mbind\u001b[0m\u001b[0;34m)\u001b[0m\u001b[0;34m\u001b[0m\u001b[0;34m\u001b[0m\u001b[0m\n",
      "\u001b[0;32m~/Documents/GitHub/metacatalog/metacatalog/api/db.py\u001b[0m in \u001b[0;36mconnect_database\u001b[0;34m(*args, **kwargs)\u001b[0m\n\u001b[1;32m     54\u001b[0m     \"\"\"\n\u001b[1;32m     55\u001b[0m     \u001b[0;31m# get session\u001b[0m\u001b[0;34m\u001b[0m\u001b[0;34m\u001b[0m\u001b[0;34m\u001b[0m\u001b[0m\n\u001b[0;32m---> 56\u001b[0;31m     \u001b[0msession\u001b[0m \u001b[0;34m=\u001b[0m \u001b[0mget_session\u001b[0m\u001b[0;34m(\u001b[0m\u001b[0;34m*\u001b[0m\u001b[0margs\u001b[0m\u001b[0;34m,\u001b[0m \u001b[0;34m**\u001b[0m\u001b[0mkwargs\u001b[0m\u001b[0;34m)\u001b[0m\u001b[0;34m\u001b[0m\u001b[0;34m\u001b[0m\u001b[0m\n\u001b[0m\u001b[1;32m     57\u001b[0m \u001b[0;34m\u001b[0m\u001b[0m\n\u001b[1;32m     58\u001b[0m     \u001b[0;32mreturn\u001b[0m \u001b[0msession\u001b[0m\u001b[0;34m\u001b[0m\u001b[0;34m\u001b[0m\u001b[0m\n",
      "\u001b[0;32m~/Documents/GitHub/metacatalog/metacatalog/db/session.py\u001b[0m in \u001b[0;36mget_session\u001b[0;34m(*args, **kwargs)\u001b[0m\n\u001b[1;32m     88\u001b[0m \u001b[0;34m\u001b[0m\u001b[0m\n\u001b[1;32m     89\u001b[0m     \u001b[0;31m# else build a new engine\u001b[0m\u001b[0;34m\u001b[0m\u001b[0;34m\u001b[0m\u001b[0;34m\u001b[0m\u001b[0m\n\u001b[0;32m---> 90\u001b[0;31m     \u001b[0mengine\u001b[0m \u001b[0;34m=\u001b[0m \u001b[0mget_engine\u001b[0m\u001b[0;34m(\u001b[0m\u001b[0;34m*\u001b[0m\u001b[0margs\u001b[0m\u001b[0;34m,\u001b[0m \u001b[0;34m**\u001b[0m\u001b[0mkwargs\u001b[0m\u001b[0;34m)\u001b[0m\u001b[0;34m\u001b[0m\u001b[0;34m\u001b[0m\u001b[0m\n\u001b[0m\u001b[1;32m     91\u001b[0m \u001b[0;34m\u001b[0m\u001b[0m\n\u001b[1;32m     92\u001b[0m     \u001b[0;31m# create the Session class\u001b[0m\u001b[0;34m\u001b[0m\u001b[0;34m\u001b[0m\u001b[0;34m\u001b[0m\u001b[0m\n",
      "\u001b[0;32m~/Documents/GitHub/metacatalog/metacatalog/db/session.py\u001b[0m in \u001b[0;36mget_engine\u001b[0;34m(*args, **kwargs)\u001b[0m\n\u001b[1;32m     69\u001b[0m \u001b[0;34m\u001b[0m\u001b[0m\n\u001b[1;32m     70\u001b[0m     \u001b[0;31m# create a connection\u001b[0m\u001b[0;34m\u001b[0m\u001b[0;34m\u001b[0m\u001b[0;34m\u001b[0m\u001b[0m\n\u001b[0;32m---> 71\u001b[0;31m     \u001b[0mengine\u001b[0m \u001b[0;34m=\u001b[0m \u001b[0mcreate_engine\u001b[0m\u001b[0;34m(\u001b[0m\u001b[0;34m*\u001b[0m\u001b[0margs\u001b[0m\u001b[0;34m,\u001b[0m \u001b[0;34m**\u001b[0m\u001b[0mkwargs\u001b[0m\u001b[0;34m)\u001b[0m\u001b[0;34m\u001b[0m\u001b[0;34m\u001b[0m\u001b[0m\n\u001b[0m\u001b[1;32m     72\u001b[0m \u001b[0;34m\u001b[0m\u001b[0m\n\u001b[1;32m     73\u001b[0m     \u001b[0;32mreturn\u001b[0m \u001b[0mengine\u001b[0m\u001b[0;34m\u001b[0m\u001b[0;34m\u001b[0m\u001b[0m\n",
      "\u001b[0;32m<string>\u001b[0m in \u001b[0;36mcreate_engine\u001b[0;34m(url, **kwargs)\u001b[0m\n",
      "\u001b[0;32m~/opt/anaconda3/envs/mc_develop/lib/python3.9/site-packages/sqlalchemy/util/deprecations.py\u001b[0m in \u001b[0;36mwarned\u001b[0;34m(fn, *args, **kwargs)\u001b[0m\n\u001b[1;32m    296\u001b[0m                         \u001b[0mstacklevel\u001b[0m\u001b[0;34m=\u001b[0m\u001b[0;36m3\u001b[0m\u001b[0;34m,\u001b[0m\u001b[0;34m\u001b[0m\u001b[0;34m\u001b[0m\u001b[0m\n\u001b[1;32m    297\u001b[0m                     )\n\u001b[0;32m--> 298\u001b[0;31m             \u001b[0;32mreturn\u001b[0m \u001b[0mfn\u001b[0m\u001b[0;34m(\u001b[0m\u001b[0;34m*\u001b[0m\u001b[0margs\u001b[0m\u001b[0;34m,\u001b[0m \u001b[0;34m**\u001b[0m\u001b[0mkwargs\u001b[0m\u001b[0;34m)\u001b[0m\u001b[0;34m\u001b[0m\u001b[0;34m\u001b[0m\u001b[0m\n\u001b[0m\u001b[1;32m    299\u001b[0m \u001b[0;34m\u001b[0m\u001b[0m\n\u001b[1;32m    300\u001b[0m         \u001b[0mdoc\u001b[0m \u001b[0;34m=\u001b[0m \u001b[0mfn\u001b[0m\u001b[0;34m.\u001b[0m\u001b[0m__doc__\u001b[0m \u001b[0;32mis\u001b[0m \u001b[0;32mnot\u001b[0m \u001b[0;32mNone\u001b[0m \u001b[0;32mand\u001b[0m \u001b[0mfn\u001b[0m\u001b[0;34m.\u001b[0m\u001b[0m__doc__\u001b[0m \u001b[0;32mor\u001b[0m \u001b[0;34m\"\"\u001b[0m\u001b[0;34m\u001b[0m\u001b[0;34m\u001b[0m\u001b[0m\n",
      "\u001b[0;32m~/opt/anaconda3/envs/mc_develop/lib/python3.9/site-packages/sqlalchemy/engine/create.py\u001b[0m in \u001b[0;36mcreate_engine\u001b[0;34m(url, **kwargs)\u001b[0m\n\u001b[1;32m    516\u001b[0m \u001b[0;34m\u001b[0m\u001b[0m\n\u001b[1;32m    517\u001b[0m     \u001b[0;31m# create url.URL object\u001b[0m\u001b[0;34m\u001b[0m\u001b[0;34m\u001b[0m\u001b[0;34m\u001b[0m\u001b[0m\n\u001b[0;32m--> 518\u001b[0;31m     \u001b[0mu\u001b[0m \u001b[0;34m=\u001b[0m \u001b[0m_url\u001b[0m\u001b[0;34m.\u001b[0m\u001b[0mmake_url\u001b[0m\u001b[0;34m(\u001b[0m\u001b[0murl\u001b[0m\u001b[0;34m)\u001b[0m\u001b[0;34m\u001b[0m\u001b[0;34m\u001b[0m\u001b[0m\n\u001b[0m\u001b[1;32m    519\u001b[0m \u001b[0;34m\u001b[0m\u001b[0m\n\u001b[1;32m    520\u001b[0m     \u001b[0mu\u001b[0m\u001b[0;34m,\u001b[0m \u001b[0mplugins\u001b[0m\u001b[0;34m,\u001b[0m \u001b[0mkwargs\u001b[0m \u001b[0;34m=\u001b[0m \u001b[0mu\u001b[0m\u001b[0;34m.\u001b[0m\u001b[0m_instantiate_plugins\u001b[0m\u001b[0;34m(\u001b[0m\u001b[0mkwargs\u001b[0m\u001b[0;34m)\u001b[0m\u001b[0;34m\u001b[0m\u001b[0;34m\u001b[0m\u001b[0m\n",
      "\u001b[0;32m~/opt/anaconda3/envs/mc_develop/lib/python3.9/site-packages/sqlalchemy/engine/url.py\u001b[0m in \u001b[0;36mmake_url\u001b[0;34m(name_or_url)\u001b[0m\n\u001b[1;32m    692\u001b[0m \u001b[0;34m\u001b[0m\u001b[0m\n\u001b[1;32m    693\u001b[0m     \u001b[0;32mif\u001b[0m \u001b[0misinstance\u001b[0m\u001b[0;34m(\u001b[0m\u001b[0mname_or_url\u001b[0m\u001b[0;34m,\u001b[0m \u001b[0mutil\u001b[0m\u001b[0;34m.\u001b[0m\u001b[0mstring_types\u001b[0m\u001b[0;34m)\u001b[0m\u001b[0;34m:\u001b[0m\u001b[0;34m\u001b[0m\u001b[0;34m\u001b[0m\u001b[0m\n\u001b[0;32m--> 694\u001b[0;31m         \u001b[0;32mreturn\u001b[0m \u001b[0m_parse_rfc1738_args\u001b[0m\u001b[0;34m(\u001b[0m\u001b[0mname_or_url\u001b[0m\u001b[0;34m)\u001b[0m\u001b[0;34m\u001b[0m\u001b[0;34m\u001b[0m\u001b[0m\n\u001b[0m\u001b[1;32m    695\u001b[0m     \u001b[0;32melse\u001b[0m\u001b[0;34m:\u001b[0m\u001b[0;34m\u001b[0m\u001b[0;34m\u001b[0m\u001b[0m\n\u001b[1;32m    696\u001b[0m         \u001b[0;32mreturn\u001b[0m \u001b[0mname_or_url\u001b[0m\u001b[0;34m\u001b[0m\u001b[0;34m\u001b[0m\u001b[0m\n",
      "\u001b[0;32m~/opt/anaconda3/envs/mc_develop/lib/python3.9/site-packages/sqlalchemy/engine/url.py\u001b[0m in \u001b[0;36m_parse_rfc1738_args\u001b[0;34m(name)\u001b[0m\n\u001b[1;32m    753\u001b[0m \u001b[0;34m\u001b[0m\u001b[0m\n\u001b[1;32m    754\u001b[0m     \u001b[0;32melse\u001b[0m\u001b[0;34m:\u001b[0m\u001b[0;34m\u001b[0m\u001b[0;34m\u001b[0m\u001b[0m\n\u001b[0;32m--> 755\u001b[0;31m         raise exc.ArgumentError(\n\u001b[0m\u001b[1;32m    756\u001b[0m             \u001b[0;34m\"Could not parse rfc1738 URL from string '%s'\"\u001b[0m \u001b[0;34m%\u001b[0m \u001b[0mname\u001b[0m\u001b[0;34m\u001b[0m\u001b[0;34m\u001b[0m\u001b[0m\n\u001b[1;32m    757\u001b[0m         )\n",
      "\u001b[0;31mArgumentError\u001b[0m: Could not parse rfc1738 URL from string 'default'"
     ]
    }
   ],
   "source": [
    "session = api.connect_database(CONNECTION)\n",
    "print(session.bind)"
   ]
  },
  {
   "cell_type": "code",
   "execution_count": 4,
   "metadata": {},
   "outputs": [
    {
     "data": {
      "text/html": [
       "<div>\n",
       "<style scoped>\n",
       "    .dataframe tbody tr th:only-of-type {\n",
       "        vertical-align: middle;\n",
       "    }\n",
       "\n",
       "    .dataframe tbody tr th {\n",
       "        vertical-align: top;\n",
       "    }\n",
       "\n",
       "    .dataframe thead th {\n",
       "        text-align: right;\n",
       "    }\n",
       "</style>\n",
       "<table border=\"1\" class=\"dataframe\">\n",
       "  <thead>\n",
       "    <tr style=\"text-align: right;\">\n",
       "      <th></th>\n",
       "      <th>MESSTELLEN_NR</th>\n",
       "      <th>STANDORT</th>\n",
       "      <th>GEWAESSER</th>\n",
       "      <th>MESSNETZ</th>\n",
       "      <th>PEGELTYP</th>\n",
       "      <th>NUTZUNG</th>\n",
       "      <th>ENTFERNUNG_MUENDUNG</th>\n",
       "      <th>EINZUGSGEBIET_OBERIRDISCH</th>\n",
       "      <th>DATEN_VORH_SEIT</th>\n",
       "      <th>PEGELDIAGRAMM_SEIT</th>\n",
       "      <th>...</th>\n",
       "      <th>HOCHWERT</th>\n",
       "      <th>STATUS</th>\n",
       "      <th>AUFGABE_KLEINE_EZG</th>\n",
       "      <th>AUFGABE_FLIWAS</th>\n",
       "      <th>AUFGABE_KLIWA</th>\n",
       "      <th>AUFGABE_QUELLMESSNETZ</th>\n",
       "      <th>AUFGEHOBEN_SEIT</th>\n",
       "      <th>BL_DATENAUSTAUSCH</th>\n",
       "      <th>OSTWERT</th>\n",
       "      <th>NORDWERT</th>\n",
       "    </tr>\n",
       "  </thead>\n",
       "  <tbody>\n",
       "    <tr>\n",
       "      <th>0</th>\n",
       "      <td>105</td>\n",
       "      <td>Kirchen-Hausen</td>\n",
       "      <td>Donau</td>\n",
       "      <td>1</td>\n",
       "      <td>1</td>\n",
       "      <td>1.0</td>\n",
       "      <td>2761.076</td>\n",
       "      <td>758.528</td>\n",
       "      <td>05.09.1922</td>\n",
       "      <td>01.11.1922</td>\n",
       "      <td>...</td>\n",
       "      <td>5309755</td>\n",
       "      <td>1</td>\n",
       "      <td>0</td>\n",
       "      <td>1.0</td>\n",
       "      <td>1</td>\n",
       "      <td>0</td>\n",
       "      <td>NaN</td>\n",
       "      <td>0.0</td>\n",
       "      <td>NaN</td>\n",
       "      <td>NaN</td>\n",
       "    </tr>\n",
       "    <tr>\n",
       "      <th>1</th>\n",
       "      <td>106</td>\n",
       "      <td>Möhringen</td>\n",
       "      <td>Donau</td>\n",
       "      <td>1</td>\n",
       "      <td>1</td>\n",
       "      <td>1.0</td>\n",
       "      <td>2753.047</td>\n",
       "      <td>826.963</td>\n",
       "      <td>01.11.1924</td>\n",
       "      <td>01.11.1966</td>\n",
       "      <td>...</td>\n",
       "      <td>5312341</td>\n",
       "      <td>1</td>\n",
       "      <td>0</td>\n",
       "      <td>1.0</td>\n",
       "      <td>0</td>\n",
       "      <td>0</td>\n",
       "      <td>NaN</td>\n",
       "      <td>0.0</td>\n",
       "      <td>NaN</td>\n",
       "      <td>NaN</td>\n",
       "    </tr>\n",
       "    <tr>\n",
       "      <th>2</th>\n",
       "      <td>120</td>\n",
       "      <td>Hundersingen</td>\n",
       "      <td>Donau</td>\n",
       "      <td>1</td>\n",
       "      <td>1</td>\n",
       "      <td>1.0</td>\n",
       "      <td>2662.716</td>\n",
       "      <td>2621.324</td>\n",
       "      <td>01.11.1929</td>\n",
       "      <td>01.11.1938</td>\n",
       "      <td>...</td>\n",
       "      <td>5326121</td>\n",
       "      <td>1</td>\n",
       "      <td>0</td>\n",
       "      <td>1.0</td>\n",
       "      <td>1</td>\n",
       "      <td>0</td>\n",
       "      <td>NaN</td>\n",
       "      <td>0.0</td>\n",
       "      <td>NaN</td>\n",
       "      <td>NaN</td>\n",
       "    </tr>\n",
       "    <tr>\n",
       "      <th>3</th>\n",
       "      <td>125</td>\n",
       "      <td>Berg</td>\n",
       "      <td>Donau</td>\n",
       "      <td>1</td>\n",
       "      <td>1</td>\n",
       "      <td>1.0</td>\n",
       "      <td>2613.000</td>\n",
       "      <td>4072.790</td>\n",
       "      <td>01.11.1929</td>\n",
       "      <td>01.11.1935</td>\n",
       "      <td>...</td>\n",
       "      <td>5347854</td>\n",
       "      <td>1</td>\n",
       "      <td>0</td>\n",
       "      <td>1.0</td>\n",
       "      <td>1</td>\n",
       "      <td>0</td>\n",
       "      <td>NaN</td>\n",
       "      <td>1.0</td>\n",
       "      <td>NaN</td>\n",
       "      <td>NaN</td>\n",
       "    </tr>\n",
       "    <tr>\n",
       "      <th>4</th>\n",
       "      <td>129</td>\n",
       "      <td>Achstetten</td>\n",
       "      <td>Baierzer Rot</td>\n",
       "      <td>1</td>\n",
       "      <td>1</td>\n",
       "      <td>1.0</td>\n",
       "      <td>6.072</td>\n",
       "      <td>264.393</td>\n",
       "      <td>01.11.1922</td>\n",
       "      <td>01.11.1951</td>\n",
       "      <td>...</td>\n",
       "      <td>5347673</td>\n",
       "      <td>1</td>\n",
       "      <td>0</td>\n",
       "      <td>1.0</td>\n",
       "      <td>0</td>\n",
       "      <td>0</td>\n",
       "      <td>NaN</td>\n",
       "      <td>0.0</td>\n",
       "      <td>NaN</td>\n",
       "      <td>NaN</td>\n",
       "    </tr>\n",
       "  </tbody>\n",
       "</table>\n",
       "<p>5 rows × 22 columns</p>\n",
       "</div>"
      ],
      "text/plain": [
       "   MESSTELLEN_NR        STANDORT     GEWAESSER  MESSNETZ  PEGELTYP  NUTZUNG  \\\n",
       "0            105  Kirchen-Hausen         Donau         1         1      1.0   \n",
       "1            106       Möhringen         Donau         1         1      1.0   \n",
       "2            120    Hundersingen         Donau         1         1      1.0   \n",
       "3            125            Berg         Donau         1         1      1.0   \n",
       "4            129      Achstetten  Baierzer Rot         1         1      1.0   \n",
       "\n",
       "   ENTFERNUNG_MUENDUNG  EINZUGSGEBIET_OBERIRDISCH DATEN_VORH_SEIT  \\\n",
       "0             2761.076                    758.528      05.09.1922   \n",
       "1             2753.047                    826.963      01.11.1924   \n",
       "2             2662.716                   2621.324      01.11.1929   \n",
       "3             2613.000                   4072.790      01.11.1929   \n",
       "4                6.072                    264.393      01.11.1922   \n",
       "\n",
       "  PEGELDIAGRAMM_SEIT  ... HOCHWERT  STATUS  AUFGABE_KLEINE_EZG  \\\n",
       "0         01.11.1922  ...  5309755       1                   0   \n",
       "1         01.11.1966  ...  5312341       1                   0   \n",
       "2         01.11.1938  ...  5326121       1                   0   \n",
       "3         01.11.1935  ...  5347854       1                   0   \n",
       "4         01.11.1951  ...  5347673       1                   0   \n",
       "\n",
       "   AUFGABE_FLIWAS  AUFGABE_KLIWA  AUFGABE_QUELLMESSNETZ  AUFGEHOBEN_SEIT  \\\n",
       "0             1.0              1                      0              NaN   \n",
       "1             1.0              0                      0              NaN   \n",
       "2             1.0              1                      0              NaN   \n",
       "3             1.0              1                      0              NaN   \n",
       "4             1.0              0                      0              NaN   \n",
       "\n",
       "   BL_DATENAUSTAUSCH  OSTWERT  NORDWERT  \n",
       "0                0.0      NaN       NaN  \n",
       "1                0.0      NaN       NaN  \n",
       "2                0.0      NaN       NaN  \n",
       "3                1.0      NaN       NaN  \n",
       "4                0.0      NaN       NaN  \n",
       "\n",
       "[5 rows x 22 columns]"
      ]
     },
     "execution_count": 4,
     "metadata": {},
     "output_type": "execute_result"
    }
   ],
   "source": [
    "raw = pd.read_csv(pjoin(DATA, 'Stammdaten', 'Stammdaten.txt'), sep=';', decimal=',', encoding='ISO-8859-1')\n",
    "raw.head()"
   ]
  },
  {
   "cell_type": "markdown",
   "metadata": {},
   "source": [
    "### Create a dummy Person entry who acts as the owner of the LUBW data"
   ]
  },
  {
   "cell_type": "code",
   "execution_count": 5,
   "metadata": {},
   "outputs": [
    {
     "name": "stdout",
     "output_type": "stream",
     "text": [
      "None <ID=1>\n"
     ]
    }
   ],
   "source": [
    "lubw = api.find_person(session, organisation_abbrev='LUBW', last_name=None, return_iterator=True).first()\n",
    "\n",
    "if lubw is None and UPLOAD:\n",
    "    lubw = api.add_person(session, first_name=None, last_name=None, \n",
    "                          organisation_name='Landesanstalt für Umwelt Baden-Württemberg',\n",
    "                          affiliation='LUBW Landesanstalt für Umwelt Baden-Württemberg, Karlsruhe, Germany.',\n",
    "                          organisation_abbrev='LUBW',\n",
    "                          attribution=\"Grundlage: Daten aus dem Umweltinformationssystem (UIS) der LUBW Landesanstalt für Umwelt Baden-Württemberg\"\n",
    "                         )\n",
    "\n",
    "print(lubw)"
   ]
  },
  {
   "cell_type": "markdown",
   "metadata": {},
   "source": [
    "### Variables & Units\n",
    "W: water level [cm], 1h / 15 minute average   \n",
    "Q: discharge   [m³/s], 1h / 15 minute average"
   ]
  },
  {
   "cell_type": "code",
   "execution_count": 6,
   "metadata": {},
   "outputs": [
    {
     "name": "stdout",
     "output_type": "stream",
     "text": [
      "discharge [m3/s] <ID=4> river water level [m] <ID=18>\n"
     ]
    }
   ],
   "source": [
    "var_Q = api.find_variable(session, name='discharge', return_iterator=True).first()\n",
    "var_W = api.find_variable(session, name='river water level', return_iterator=True).first()\n",
    "print(var_Q, var_W)"
   ]
  },
  {
   "cell_type": "markdown",
   "metadata": {},
   "source": [
    "Both variables exist, but river water level is stored in meters! -> transform data from cm to m!"
   ]
  },
  {
   "cell_type": "markdown",
   "metadata": {},
   "source": [
    "### Location"
   ]
  },
  {
   "cell_type": "code",
   "execution_count": 7,
   "metadata": {},
   "outputs": [],
   "source": [
    "t = Transformer.from_crs('epsg:31467', 'epsg:4326', always_xy=True)"
   ]
  },
  {
   "cell_type": "code",
   "execution_count": 8,
   "metadata": {},
   "outputs": [],
   "source": [
    "locations = ['SRID=4326;POINT (%f %f)' % t.transform(r[0], r[1]) for i, r in raw[['RECHTSWERT', 'HOCHWERT']].iterrows()]"
   ]
  },
  {
   "cell_type": "markdown",
   "metadata": {},
   "source": [
    "### License\n",
    "Check and update!"
   ]
  },
  {
   "cell_type": "code",
   "execution_count": 9,
   "metadata": {},
   "outputs": [
    {
     "name": "stdout",
     "output_type": "stream",
     "text": [
      "Creative Commons Attribution 4.0 International <ID=6>\n"
     ]
    }
   ],
   "source": [
    "lic = api.find_license(session, short_title='CC BY %', return_iterator=True ).first()\n",
    "print(lic)"
   ]
  },
  {
   "cell_type": "markdown",
   "metadata": {},
   "source": [
    "### Metadata"
   ]
  },
  {
   "cell_type": "code",
   "execution_count": 10,
   "metadata": {},
   "outputs": [],
   "source": [
    "df = raw.copy()"
   ]
  },
  {
   "cell_type": "markdown",
   "metadata": {},
   "source": [
    "1) START WITH ONE ENTRY  \n",
    "2) FUNCTION  \n",
    "3) glob.glob() Dateipfad *      \n",
    "4) LOOP over FUNCTION\n",
    "\n",
    "\n",
    "Every location gets 2 entries (Q & W)"
   ]
  },
  {
   "cell_type": "code",
   "execution_count": 11,
   "metadata": {},
   "outputs": [
    {
     "data": {
      "text/html": [
       "<div>\n",
       "<style scoped>\n",
       "    .dataframe tbody tr th:only-of-type {\n",
       "        vertical-align: middle;\n",
       "    }\n",
       "\n",
       "    .dataframe tbody tr th {\n",
       "        vertical-align: top;\n",
       "    }\n",
       "\n",
       "    .dataframe thead th {\n",
       "        text-align: right;\n",
       "    }\n",
       "</style>\n",
       "<table border=\"1\" class=\"dataframe\">\n",
       "  <thead>\n",
       "    <tr style=\"text-align: right;\">\n",
       "      <th></th>\n",
       "      <th>MESSTELLEN_NR</th>\n",
       "      <th>STANDORT</th>\n",
       "      <th>GEWAESSER</th>\n",
       "      <th>MESSNETZ</th>\n",
       "      <th>PEGELTYP</th>\n",
       "      <th>NUTZUNG</th>\n",
       "      <th>ENTFERNUNG_MUENDUNG</th>\n",
       "      <th>EINZUGSGEBIET_OBERIRDISCH</th>\n",
       "      <th>DATEN_VORH_SEIT</th>\n",
       "      <th>PEGELDIAGRAMM_SEIT</th>\n",
       "      <th>...</th>\n",
       "      <th>AUFGABE_KLIWA</th>\n",
       "      <th>AUFGABE_QUELLMESSNETZ</th>\n",
       "      <th>AUFGEHOBEN_SEIT</th>\n",
       "      <th>BL_DATENAUSTAUSCH</th>\n",
       "      <th>OSTWERT</th>\n",
       "      <th>NORDWERT</th>\n",
       "      <th>title</th>\n",
       "      <th>location</th>\n",
       "      <th>external_id</th>\n",
       "      <th>license_id</th>\n",
       "    </tr>\n",
       "  </thead>\n",
       "  <tbody>\n",
       "    <tr>\n",
       "      <th>0</th>\n",
       "      <td>105</td>\n",
       "      <td>Kirchen-Hausen</td>\n",
       "      <td>Donau</td>\n",
       "      <td>1</td>\n",
       "      <td>1</td>\n",
       "      <td>1.0</td>\n",
       "      <td>2761.076</td>\n",
       "      <td>758.528</td>\n",
       "      <td>05.09.1922</td>\n",
       "      <td>01.11.1922</td>\n",
       "      <td>...</td>\n",
       "      <td>1</td>\n",
       "      <td>0</td>\n",
       "      <td>NaN</td>\n",
       "      <td>0.0</td>\n",
       "      <td>NaN</td>\n",
       "      <td>NaN</td>\n",
       "      <td>LUBW gauge data: Kirchen-Hausen</td>\n",
       "      <td>SRID=4326;POINT (8.679572 47.925516)</td>\n",
       "      <td>105</td>\n",
       "      <td>6</td>\n",
       "    </tr>\n",
       "    <tr>\n",
       "      <th>1</th>\n",
       "      <td>106</td>\n",
       "      <td>Möhringen</td>\n",
       "      <td>Donau</td>\n",
       "      <td>1</td>\n",
       "      <td>1</td>\n",
       "      <td>1.0</td>\n",
       "      <td>2753.047</td>\n",
       "      <td>826.963</td>\n",
       "      <td>01.11.1924</td>\n",
       "      <td>01.11.1966</td>\n",
       "      <td>...</td>\n",
       "      <td>0</td>\n",
       "      <td>0</td>\n",
       "      <td>NaN</td>\n",
       "      <td>0.0</td>\n",
       "      <td>NaN</td>\n",
       "      <td>NaN</td>\n",
       "      <td>LUBW gauge data: Möhringen</td>\n",
       "      <td>SRID=4326;POINT (8.760098 47.948970)</td>\n",
       "      <td>106</td>\n",
       "      <td>6</td>\n",
       "    </tr>\n",
       "    <tr>\n",
       "      <th>2</th>\n",
       "      <td>120</td>\n",
       "      <td>Hundersingen</td>\n",
       "      <td>Donau</td>\n",
       "      <td>1</td>\n",
       "      <td>1</td>\n",
       "      <td>1.0</td>\n",
       "      <td>2662.716</td>\n",
       "      <td>2621.324</td>\n",
       "      <td>01.11.1929</td>\n",
       "      <td>01.11.1938</td>\n",
       "      <td>...</td>\n",
       "      <td>1</td>\n",
       "      <td>0</td>\n",
       "      <td>NaN</td>\n",
       "      <td>0.0</td>\n",
       "      <td>NaN</td>\n",
       "      <td>NaN</td>\n",
       "      <td>LUBW gauge data: Hundersingen</td>\n",
       "      <td>SRID=4326;POINT (9.396086 48.072465)</td>\n",
       "      <td>120</td>\n",
       "      <td>6</td>\n",
       "    </tr>\n",
       "    <tr>\n",
       "      <th>3</th>\n",
       "      <td>125</td>\n",
       "      <td>Berg</td>\n",
       "      <td>Donau</td>\n",
       "      <td>1</td>\n",
       "      <td>1</td>\n",
       "      <td>1.0</td>\n",
       "      <td>2613.000</td>\n",
       "      <td>4072.790</td>\n",
       "      <td>01.11.1929</td>\n",
       "      <td>01.11.1935</td>\n",
       "      <td>...</td>\n",
       "      <td>1</td>\n",
       "      <td>0</td>\n",
       "      <td>NaN</td>\n",
       "      <td>1.0</td>\n",
       "      <td>NaN</td>\n",
       "      <td>NaN</td>\n",
       "      <td>LUBW gauge data: Berg</td>\n",
       "      <td>SRID=4326;POINT (9.731446 48.266271)</td>\n",
       "      <td>125</td>\n",
       "      <td>6</td>\n",
       "    </tr>\n",
       "    <tr>\n",
       "      <th>4</th>\n",
       "      <td>129</td>\n",
       "      <td>Achstetten</td>\n",
       "      <td>Baierzer Rot</td>\n",
       "      <td>1</td>\n",
       "      <td>1</td>\n",
       "      <td>1.0</td>\n",
       "      <td>6.072</td>\n",
       "      <td>264.393</td>\n",
       "      <td>01.11.1922</td>\n",
       "      <td>01.11.1951</td>\n",
       "      <td>...</td>\n",
       "      <td>0</td>\n",
       "      <td>0</td>\n",
       "      <td>NaN</td>\n",
       "      <td>0.0</td>\n",
       "      <td>NaN</td>\n",
       "      <td>NaN</td>\n",
       "      <td>LUBW gauge data: Achstetten</td>\n",
       "      <td>SRID=4326;POINT (9.900807 48.263440)</td>\n",
       "      <td>129</td>\n",
       "      <td>6</td>\n",
       "    </tr>\n",
       "  </tbody>\n",
       "</table>\n",
       "<p>5 rows × 26 columns</p>\n",
       "</div>"
      ],
      "text/plain": [
       "   MESSTELLEN_NR        STANDORT     GEWAESSER  MESSNETZ  PEGELTYP  NUTZUNG  \\\n",
       "0            105  Kirchen-Hausen         Donau         1         1      1.0   \n",
       "1            106       Möhringen         Donau         1         1      1.0   \n",
       "2            120    Hundersingen         Donau         1         1      1.0   \n",
       "3            125            Berg         Donau         1         1      1.0   \n",
       "4            129      Achstetten  Baierzer Rot         1         1      1.0   \n",
       "\n",
       "   ENTFERNUNG_MUENDUNG  EINZUGSGEBIET_OBERIRDISCH DATEN_VORH_SEIT  \\\n",
       "0             2761.076                    758.528      05.09.1922   \n",
       "1             2753.047                    826.963      01.11.1924   \n",
       "2             2662.716                   2621.324      01.11.1929   \n",
       "3             2613.000                   4072.790      01.11.1929   \n",
       "4                6.072                    264.393      01.11.1922   \n",
       "\n",
       "  PEGELDIAGRAMM_SEIT  ... AUFGABE_KLIWA  AUFGABE_QUELLMESSNETZ  \\\n",
       "0         01.11.1922  ...             1                      0   \n",
       "1         01.11.1966  ...             0                      0   \n",
       "2         01.11.1938  ...             1                      0   \n",
       "3         01.11.1935  ...             1                      0   \n",
       "4         01.11.1951  ...             0                      0   \n",
       "\n",
       "   AUFGEHOBEN_SEIT  BL_DATENAUSTAUSCH  OSTWERT  NORDWERT  \\\n",
       "0              NaN                0.0      NaN       NaN   \n",
       "1              NaN                0.0      NaN       NaN   \n",
       "2              NaN                0.0      NaN       NaN   \n",
       "3              NaN                1.0      NaN       NaN   \n",
       "4              NaN                0.0      NaN       NaN   \n",
       "\n",
       "                             title                              location  \\\n",
       "0  LUBW gauge data: Kirchen-Hausen  SRID=4326;POINT (8.679572 47.925516)   \n",
       "1       LUBW gauge data: Möhringen  SRID=4326;POINT (8.760098 47.948970)   \n",
       "2    LUBW gauge data: Hundersingen  SRID=4326;POINT (9.396086 48.072465)   \n",
       "3            LUBW gauge data: Berg  SRID=4326;POINT (9.731446 48.266271)   \n",
       "4      LUBW gauge data: Achstetten  SRID=4326;POINT (9.900807 48.263440)   \n",
       "\n",
       "   external_id  license_id  \n",
       "0          105           6  \n",
       "1          106           6  \n",
       "2          120           6  \n",
       "3          125           6  \n",
       "4          129           6  \n",
       "\n",
       "[5 rows x 26 columns]"
      ]
     },
     "execution_count": 11,
     "metadata": {},
     "output_type": "execute_result"
    }
   ],
   "source": [
    "df['title'] = df.STANDORT.map(lambda n: 'LUBW gauge data: %s' % n)\n",
    "df['location'] = locations\n",
    "#df['abstract']\n",
    "df['external_id'] = df.MESSTELLEN_NR\n",
    "#df['comment']\n",
    "df['license_id'] = lic.id\n",
    "\n",
    "\n",
    "df.head()"
   ]
  },
  {
   "cell_type": "markdown",
   "metadata": {},
   "source": [
    "delete columns:  \n",
    "'RECHTSWERT' and 'HOCHWERT' already in 'location'  \n",
    "columns 'AUFGEHOBEN_SEIT', 'OSTWERT' and 'NORDWERT' are empty\n",
    "\n",
    "rest of the columns is put into details later"
   ]
  },
  {
   "cell_type": "code",
   "execution_count": 12,
   "metadata": {},
   "outputs": [],
   "source": [
    "df.drop(['RECHTSWERT', 'HOCHWERT', 'AUFGEHOBEN_SEIT', 'OSTWERT', 'NORDWERT', 'MESSTELLEN_NR'], axis=1, inplace=True)"
   ]
  },
  {
   "cell_type": "code",
   "execution_count": 13,
   "metadata": {},
   "outputs": [
    {
     "data": {
      "text/html": [
       "<div>\n",
       "<style scoped>\n",
       "    .dataframe tbody tr th:only-of-type {\n",
       "        vertical-align: middle;\n",
       "    }\n",
       "\n",
       "    .dataframe tbody tr th {\n",
       "        vertical-align: top;\n",
       "    }\n",
       "\n",
       "    .dataframe thead th {\n",
       "        text-align: right;\n",
       "    }\n",
       "</style>\n",
       "<table border=\"1\" class=\"dataframe\">\n",
       "  <thead>\n",
       "    <tr style=\"text-align: right;\">\n",
       "      <th></th>\n",
       "      <th>STANDORT</th>\n",
       "      <th>GEWAESSER</th>\n",
       "      <th>MESSNETZ</th>\n",
       "      <th>PEGELTYP</th>\n",
       "      <th>NUTZUNG</th>\n",
       "      <th>ENTFERNUNG_MUENDUNG</th>\n",
       "      <th>EINZUGSGEBIET_OBERIRDISCH</th>\n",
       "      <th>DATEN_VORH_SEIT</th>\n",
       "      <th>PEGELDIAGRAMM_SEIT</th>\n",
       "      <th>BETRIEB_VON_DATUM</th>\n",
       "      <th>...</th>\n",
       "      <th>AUFGABE_KLEINE_EZG</th>\n",
       "      <th>AUFGABE_FLIWAS</th>\n",
       "      <th>AUFGABE_KLIWA</th>\n",
       "      <th>AUFGABE_QUELLMESSNETZ</th>\n",
       "      <th>BL_DATENAUSTAUSCH</th>\n",
       "      <th>title</th>\n",
       "      <th>location</th>\n",
       "      <th>external_id</th>\n",
       "      <th>license_id</th>\n",
       "      <th>variable_id</th>\n",
       "    </tr>\n",
       "  </thead>\n",
       "  <tbody>\n",
       "    <tr>\n",
       "      <th>0</th>\n",
       "      <td>Kirchen-Hausen</td>\n",
       "      <td>Donau</td>\n",
       "      <td>1</td>\n",
       "      <td>1</td>\n",
       "      <td>1.0</td>\n",
       "      <td>2761.076</td>\n",
       "      <td>758.528</td>\n",
       "      <td>05.09.1922</td>\n",
       "      <td>01.11.1922</td>\n",
       "      <td>01.11.1922</td>\n",
       "      <td>...</td>\n",
       "      <td>0</td>\n",
       "      <td>1.0</td>\n",
       "      <td>1</td>\n",
       "      <td>0</td>\n",
       "      <td>0.0</td>\n",
       "      <td>LUBW gauge data: Kirchen-Hausen</td>\n",
       "      <td>SRID=4326;POINT (8.679572 47.925516)</td>\n",
       "      <td>105</td>\n",
       "      <td>6</td>\n",
       "      <td>4</td>\n",
       "    </tr>\n",
       "    <tr>\n",
       "      <th>1</th>\n",
       "      <td>Kirchen-Hausen</td>\n",
       "      <td>Donau</td>\n",
       "      <td>1</td>\n",
       "      <td>1</td>\n",
       "      <td>1.0</td>\n",
       "      <td>2761.076</td>\n",
       "      <td>758.528</td>\n",
       "      <td>05.09.1922</td>\n",
       "      <td>01.11.1922</td>\n",
       "      <td>01.11.1922</td>\n",
       "      <td>...</td>\n",
       "      <td>0</td>\n",
       "      <td>1.0</td>\n",
       "      <td>1</td>\n",
       "      <td>0</td>\n",
       "      <td>0.0</td>\n",
       "      <td>LUBW gauge data: Kirchen-Hausen</td>\n",
       "      <td>SRID=4326;POINT (8.679572 47.925516)</td>\n",
       "      <td>105</td>\n",
       "      <td>6</td>\n",
       "      <td>18</td>\n",
       "    </tr>\n",
       "    <tr>\n",
       "      <th>2</th>\n",
       "      <td>Möhringen</td>\n",
       "      <td>Donau</td>\n",
       "      <td>1</td>\n",
       "      <td>1</td>\n",
       "      <td>1.0</td>\n",
       "      <td>2753.047</td>\n",
       "      <td>826.963</td>\n",
       "      <td>01.11.1924</td>\n",
       "      <td>01.11.1966</td>\n",
       "      <td>01.11.1924</td>\n",
       "      <td>...</td>\n",
       "      <td>0</td>\n",
       "      <td>1.0</td>\n",
       "      <td>0</td>\n",
       "      <td>0</td>\n",
       "      <td>0.0</td>\n",
       "      <td>LUBW gauge data: Möhringen</td>\n",
       "      <td>SRID=4326;POINT (8.760098 47.948970)</td>\n",
       "      <td>106</td>\n",
       "      <td>6</td>\n",
       "      <td>4</td>\n",
       "    </tr>\n",
       "    <tr>\n",
       "      <th>3</th>\n",
       "      <td>Möhringen</td>\n",
       "      <td>Donau</td>\n",
       "      <td>1</td>\n",
       "      <td>1</td>\n",
       "      <td>1.0</td>\n",
       "      <td>2753.047</td>\n",
       "      <td>826.963</td>\n",
       "      <td>01.11.1924</td>\n",
       "      <td>01.11.1966</td>\n",
       "      <td>01.11.1924</td>\n",
       "      <td>...</td>\n",
       "      <td>0</td>\n",
       "      <td>1.0</td>\n",
       "      <td>0</td>\n",
       "      <td>0</td>\n",
       "      <td>0.0</td>\n",
       "      <td>LUBW gauge data: Möhringen</td>\n",
       "      <td>SRID=4326;POINT (8.760098 47.948970)</td>\n",
       "      <td>106</td>\n",
       "      <td>6</td>\n",
       "      <td>18</td>\n",
       "    </tr>\n",
       "    <tr>\n",
       "      <th>4</th>\n",
       "      <td>Hundersingen</td>\n",
       "      <td>Donau</td>\n",
       "      <td>1</td>\n",
       "      <td>1</td>\n",
       "      <td>1.0</td>\n",
       "      <td>2662.716</td>\n",
       "      <td>2621.324</td>\n",
       "      <td>01.11.1929</td>\n",
       "      <td>01.11.1938</td>\n",
       "      <td>01.11.1929</td>\n",
       "      <td>...</td>\n",
       "      <td>0</td>\n",
       "      <td>1.0</td>\n",
       "      <td>1</td>\n",
       "      <td>0</td>\n",
       "      <td>0.0</td>\n",
       "      <td>LUBW gauge data: Hundersingen</td>\n",
       "      <td>SRID=4326;POINT (9.396086 48.072465)</td>\n",
       "      <td>120</td>\n",
       "      <td>6</td>\n",
       "      <td>4</td>\n",
       "    </tr>\n",
       "  </tbody>\n",
       "</table>\n",
       "<p>5 rows × 21 columns</p>\n",
       "</div>"
      ],
      "text/plain": [
       "         STANDORT GEWAESSER  MESSNETZ  PEGELTYP  NUTZUNG  ENTFERNUNG_MUENDUNG  \\\n",
       "0  Kirchen-Hausen     Donau         1         1      1.0             2761.076   \n",
       "1  Kirchen-Hausen     Donau         1         1      1.0             2761.076   \n",
       "2       Möhringen     Donau         1         1      1.0             2753.047   \n",
       "3       Möhringen     Donau         1         1      1.0             2753.047   \n",
       "4    Hundersingen     Donau         1         1      1.0             2662.716   \n",
       "\n",
       "   EINZUGSGEBIET_OBERIRDISCH DATEN_VORH_SEIT PEGELDIAGRAMM_SEIT  \\\n",
       "0                    758.528      05.09.1922         01.11.1922   \n",
       "1                    758.528      05.09.1922         01.11.1922   \n",
       "2                    826.963      01.11.1924         01.11.1966   \n",
       "3                    826.963      01.11.1924         01.11.1966   \n",
       "4                   2621.324      01.11.1929         01.11.1938   \n",
       "\n",
       "  BETRIEB_VON_DATUM  ...  AUFGABE_KLEINE_EZG  AUFGABE_FLIWAS  AUFGABE_KLIWA  \\\n",
       "0        01.11.1922  ...                   0             1.0              1   \n",
       "1        01.11.1922  ...                   0             1.0              1   \n",
       "2        01.11.1924  ...                   0             1.0              0   \n",
       "3        01.11.1924  ...                   0             1.0              0   \n",
       "4        01.11.1929  ...                   0             1.0              1   \n",
       "\n",
       "   AUFGABE_QUELLMESSNETZ  BL_DATENAUSTAUSCH                            title  \\\n",
       "0                      0                0.0  LUBW gauge data: Kirchen-Hausen   \n",
       "1                      0                0.0  LUBW gauge data: Kirchen-Hausen   \n",
       "2                      0                0.0       LUBW gauge data: Möhringen   \n",
       "3                      0                0.0       LUBW gauge data: Möhringen   \n",
       "4                      0                0.0    LUBW gauge data: Hundersingen   \n",
       "\n",
       "                               location external_id  license_id  variable_id  \n",
       "0  SRID=4326;POINT (8.679572 47.925516)         105           6            4  \n",
       "1  SRID=4326;POINT (8.679572 47.925516)         105           6           18  \n",
       "2  SRID=4326;POINT (8.760098 47.948970)         106           6            4  \n",
       "3  SRID=4326;POINT (8.760098 47.948970)         106           6           18  \n",
       "4  SRID=4326;POINT (9.396086 48.072465)         120           6            4  \n",
       "\n",
       "[5 rows x 21 columns]"
      ]
     },
     "execution_count": 13,
     "metadata": {},
     "output_type": "execute_result"
    }
   ],
   "source": [
    "# duplicate all entries\n",
    "df = pd.concat([df]*2).sort_index()\n",
    "df.reset_index(drop=True, inplace=True)\n",
    "\n",
    "# assign variable W (water level) to one of the duplicate and variable Q (discharge) to the other duplicate\n",
    "df['variable_id'] = 0\n",
    "var_idx = df.columns.get_loc(\"variable_id\")\n",
    "df.iloc[0::2, var_idx] = var_Q.id\n",
    "df.iloc[1::2, var_idx] = var_W.id\n",
    "\n",
    "df.head()"
   ]
  },
  {
   "cell_type": "markdown",
   "metadata": {},
   "source": [
    "Rename columns for details  \n",
    "Drop some columns for now, may add them later  \n",
    "Use date format for the columns 'data_since' and 'since'"
   ]
  },
  {
   "cell_type": "code",
   "execution_count": 14,
   "metadata": {},
   "outputs": [
    {
     "data": {
      "text/html": [
       "<div>\n",
       "<style scoped>\n",
       "    .dataframe tbody tr th:only-of-type {\n",
       "        vertical-align: middle;\n",
       "    }\n",
       "\n",
       "    .dataframe tbody tr th {\n",
       "        vertical-align: top;\n",
       "    }\n",
       "\n",
       "    .dataframe thead th {\n",
       "        text-align: right;\n",
       "    }\n",
       "</style>\n",
       "<table border=\"1\" class=\"dataframe\">\n",
       "  <thead>\n",
       "    <tr style=\"text-align: right;\">\n",
       "      <th></th>\n",
       "      <th>site</th>\n",
       "      <th>waterbody</th>\n",
       "      <th>network</th>\n",
       "      <th>type</th>\n",
       "      <th>usage</th>\n",
       "      <th>distance</th>\n",
       "      <th>catchment</th>\n",
       "      <th>data_since</th>\n",
       "      <th>since</th>\n",
       "      <th>status</th>\n",
       "      <th>title</th>\n",
       "      <th>location</th>\n",
       "      <th>external_id</th>\n",
       "      <th>license_id</th>\n",
       "      <th>variable_id</th>\n",
       "    </tr>\n",
       "  </thead>\n",
       "  <tbody>\n",
       "    <tr>\n",
       "      <th>0</th>\n",
       "      <td>Kirchen-Hausen</td>\n",
       "      <td>Donau</td>\n",
       "      <td>1</td>\n",
       "      <td>1</td>\n",
       "      <td>1.0</td>\n",
       "      <td>2761.076</td>\n",
       "      <td>758.528</td>\n",
       "      <td>1922-05-09</td>\n",
       "      <td>1922-01-11</td>\n",
       "      <td>1</td>\n",
       "      <td>LUBW gauge data: Kirchen-Hausen</td>\n",
       "      <td>SRID=4326;POINT (8.679572 47.925516)</td>\n",
       "      <td>105</td>\n",
       "      <td>6</td>\n",
       "      <td>4</td>\n",
       "    </tr>\n",
       "    <tr>\n",
       "      <th>1</th>\n",
       "      <td>Kirchen-Hausen</td>\n",
       "      <td>Donau</td>\n",
       "      <td>1</td>\n",
       "      <td>1</td>\n",
       "      <td>1.0</td>\n",
       "      <td>2761.076</td>\n",
       "      <td>758.528</td>\n",
       "      <td>1922-05-09</td>\n",
       "      <td>1922-01-11</td>\n",
       "      <td>1</td>\n",
       "      <td>LUBW gauge data: Kirchen-Hausen</td>\n",
       "      <td>SRID=4326;POINT (8.679572 47.925516)</td>\n",
       "      <td>105</td>\n",
       "      <td>6</td>\n",
       "      <td>18</td>\n",
       "    </tr>\n",
       "    <tr>\n",
       "      <th>2</th>\n",
       "      <td>Möhringen</td>\n",
       "      <td>Donau</td>\n",
       "      <td>1</td>\n",
       "      <td>1</td>\n",
       "      <td>1.0</td>\n",
       "      <td>2753.047</td>\n",
       "      <td>826.963</td>\n",
       "      <td>1924-01-11</td>\n",
       "      <td>1924-01-11</td>\n",
       "      <td>1</td>\n",
       "      <td>LUBW gauge data: Möhringen</td>\n",
       "      <td>SRID=4326;POINT (8.760098 47.948970)</td>\n",
       "      <td>106</td>\n",
       "      <td>6</td>\n",
       "      <td>4</td>\n",
       "    </tr>\n",
       "    <tr>\n",
       "      <th>3</th>\n",
       "      <td>Möhringen</td>\n",
       "      <td>Donau</td>\n",
       "      <td>1</td>\n",
       "      <td>1</td>\n",
       "      <td>1.0</td>\n",
       "      <td>2753.047</td>\n",
       "      <td>826.963</td>\n",
       "      <td>1924-01-11</td>\n",
       "      <td>1924-01-11</td>\n",
       "      <td>1</td>\n",
       "      <td>LUBW gauge data: Möhringen</td>\n",
       "      <td>SRID=4326;POINT (8.760098 47.948970)</td>\n",
       "      <td>106</td>\n",
       "      <td>6</td>\n",
       "      <td>18</td>\n",
       "    </tr>\n",
       "    <tr>\n",
       "      <th>4</th>\n",
       "      <td>Hundersingen</td>\n",
       "      <td>Donau</td>\n",
       "      <td>1</td>\n",
       "      <td>1</td>\n",
       "      <td>1.0</td>\n",
       "      <td>2662.716</td>\n",
       "      <td>2621.324</td>\n",
       "      <td>1929-01-11</td>\n",
       "      <td>1929-01-11</td>\n",
       "      <td>1</td>\n",
       "      <td>LUBW gauge data: Hundersingen</td>\n",
       "      <td>SRID=4326;POINT (9.396086 48.072465)</td>\n",
       "      <td>120</td>\n",
       "      <td>6</td>\n",
       "      <td>4</td>\n",
       "    </tr>\n",
       "  </tbody>\n",
       "</table>\n",
       "</div>"
      ],
      "text/plain": [
       "             site waterbody  network  type  usage  distance  catchment  \\\n",
       "0  Kirchen-Hausen     Donau        1     1    1.0  2761.076    758.528   \n",
       "1  Kirchen-Hausen     Donau        1     1    1.0  2761.076    758.528   \n",
       "2       Möhringen     Donau        1     1    1.0  2753.047    826.963   \n",
       "3       Möhringen     Donau        1     1    1.0  2753.047    826.963   \n",
       "4    Hundersingen     Donau        1     1    1.0  2662.716   2621.324   \n",
       "\n",
       "   data_since       since  status                            title  \\\n",
       "0  1922-05-09  1922-01-11       1  LUBW gauge data: Kirchen-Hausen   \n",
       "1  1922-05-09  1922-01-11       1  LUBW gauge data: Kirchen-Hausen   \n",
       "2  1924-01-11  1924-01-11       1       LUBW gauge data: Möhringen   \n",
       "3  1924-01-11  1924-01-11       1       LUBW gauge data: Möhringen   \n",
       "4  1929-01-11  1929-01-11       1    LUBW gauge data: Hundersingen   \n",
       "\n",
       "                               location  external_id  license_id  variable_id  \n",
       "0  SRID=4326;POINT (8.679572 47.925516)          105           6            4  \n",
       "1  SRID=4326;POINT (8.679572 47.925516)          105           6           18  \n",
       "2  SRID=4326;POINT (8.760098 47.948970)          106           6            4  \n",
       "3  SRID=4326;POINT (8.760098 47.948970)          106           6           18  \n",
       "4  SRID=4326;POINT (9.396086 48.072465)          120           6            4  "
      ]
     },
     "execution_count": 14,
     "metadata": {},
     "output_type": "execute_result"
    }
   ],
   "source": [
    "df.rename(columns={'STANDORT': 'site', 'GEWAESSER': 'waterbody', 'MESSNETZ': 'network', 'PEGELTYP': 'type', 'NUTZUNG': 'usage', 'ENTFERNUNG_MUENDUNG': 'distance', 'DATEN_VORH_SEIT': 'data_since', 'BETRIEB_VON_DATUM': 'since', 'STATUS': 'status', 'EINZUGSGEBIET_OBERIRDISCH': 'catchment'}, inplace=True)\n",
    "df.drop(['AUFGABE_KLEINE_EZG', 'AUFGABE_KLEINE_EZG', 'AUFGABE_KLIWA', 'AUFGABE_FLIWAS', 'BL_DATENAUSTAUSCH', 'AUFGABE_QUELLMESSNETZ', 'PEGELDIAGRAMM_SEIT'], axis=1, inplace=True)\n",
    "\n",
    "df['data_since'] = pd.to_datetime(df.data_since)\n",
    "df['since'] = pd.to_datetime(df.since)\n",
    "df['data_since'] = df['data_since'].dt.date\n",
    "df['since'] = df['since'].dt.date\n",
    "\n",
    "df.head()"
   ]
  },
  {
   "cell_type": "markdown",
   "metadata": {},
   "source": [
    "### Upload"
   ]
  },
  {
   "cell_type": "markdown",
   "metadata": {},
   "source": [
    "Use the original LUBW column names as a description for the details.  \n",
    "Adding the keys 'river' and 'stream' as an alternative for 'water body' as users will search for 'river' and 'stream' more often."
   ]
  },
  {
   "cell_type": "code",
   "execution_count": 15,
   "metadata": {},
   "outputs": [
    {
     "data": {
      "text/html": [
       "<div>\n",
       "<style scoped>\n",
       "    .dataframe tbody tr th:only-of-type {\n",
       "        vertical-align: middle;\n",
       "    }\n",
       "\n",
       "    .dataframe tbody tr th {\n",
       "        vertical-align: top;\n",
       "    }\n",
       "\n",
       "    .dataframe thead th {\n",
       "        text-align: right;\n",
       "    }\n",
       "</style>\n",
       "<table border=\"1\" class=\"dataframe\">\n",
       "  <thead>\n",
       "    <tr style=\"text-align: right;\">\n",
       "      <th></th>\n",
       "      <th>site</th>\n",
       "      <th>waterbody</th>\n",
       "      <th>network</th>\n",
       "      <th>type</th>\n",
       "      <th>usage</th>\n",
       "      <th>distance</th>\n",
       "      <th>catchment</th>\n",
       "      <th>data_since</th>\n",
       "      <th>since</th>\n",
       "      <th>status</th>\n",
       "      <th>title</th>\n",
       "      <th>location</th>\n",
       "      <th>external_id</th>\n",
       "      <th>license_id</th>\n",
       "      <th>variable_id</th>\n",
       "      <th>river</th>\n",
       "      <th>stream</th>\n",
       "    </tr>\n",
       "  </thead>\n",
       "  <tbody>\n",
       "    <tr>\n",
       "      <th>0</th>\n",
       "      <td>Kirchen-Hausen</td>\n",
       "      <td>Donau</td>\n",
       "      <td>1</td>\n",
       "      <td>1</td>\n",
       "      <td>1.0</td>\n",
       "      <td>2761.076</td>\n",
       "      <td>758.528</td>\n",
       "      <td>1922-05-09</td>\n",
       "      <td>1922-01-11</td>\n",
       "      <td>1</td>\n",
       "      <td>LUBW gauge data: Kirchen-Hausen</td>\n",
       "      <td>SRID=4326;POINT (8.679572 47.925516)</td>\n",
       "      <td>105</td>\n",
       "      <td>6</td>\n",
       "      <td>4</td>\n",
       "      <td>Donau</td>\n",
       "      <td>Donau</td>\n",
       "    </tr>\n",
       "    <tr>\n",
       "      <th>1</th>\n",
       "      <td>Kirchen-Hausen</td>\n",
       "      <td>Donau</td>\n",
       "      <td>1</td>\n",
       "      <td>1</td>\n",
       "      <td>1.0</td>\n",
       "      <td>2761.076</td>\n",
       "      <td>758.528</td>\n",
       "      <td>1922-05-09</td>\n",
       "      <td>1922-01-11</td>\n",
       "      <td>1</td>\n",
       "      <td>LUBW gauge data: Kirchen-Hausen</td>\n",
       "      <td>SRID=4326;POINT (8.679572 47.925516)</td>\n",
       "      <td>105</td>\n",
       "      <td>6</td>\n",
       "      <td>18</td>\n",
       "      <td>Donau</td>\n",
       "      <td>Donau</td>\n",
       "    </tr>\n",
       "    <tr>\n",
       "      <th>2</th>\n",
       "      <td>Möhringen</td>\n",
       "      <td>Donau</td>\n",
       "      <td>1</td>\n",
       "      <td>1</td>\n",
       "      <td>1.0</td>\n",
       "      <td>2753.047</td>\n",
       "      <td>826.963</td>\n",
       "      <td>1924-01-11</td>\n",
       "      <td>1924-01-11</td>\n",
       "      <td>1</td>\n",
       "      <td>LUBW gauge data: Möhringen</td>\n",
       "      <td>SRID=4326;POINT (8.760098 47.948970)</td>\n",
       "      <td>106</td>\n",
       "      <td>6</td>\n",
       "      <td>4</td>\n",
       "      <td>Donau</td>\n",
       "      <td>Donau</td>\n",
       "    </tr>\n",
       "    <tr>\n",
       "      <th>3</th>\n",
       "      <td>Möhringen</td>\n",
       "      <td>Donau</td>\n",
       "      <td>1</td>\n",
       "      <td>1</td>\n",
       "      <td>1.0</td>\n",
       "      <td>2753.047</td>\n",
       "      <td>826.963</td>\n",
       "      <td>1924-01-11</td>\n",
       "      <td>1924-01-11</td>\n",
       "      <td>1</td>\n",
       "      <td>LUBW gauge data: Möhringen</td>\n",
       "      <td>SRID=4326;POINT (8.760098 47.948970)</td>\n",
       "      <td>106</td>\n",
       "      <td>6</td>\n",
       "      <td>18</td>\n",
       "      <td>Donau</td>\n",
       "      <td>Donau</td>\n",
       "    </tr>\n",
       "    <tr>\n",
       "      <th>4</th>\n",
       "      <td>Hundersingen</td>\n",
       "      <td>Donau</td>\n",
       "      <td>1</td>\n",
       "      <td>1</td>\n",
       "      <td>1.0</td>\n",
       "      <td>2662.716</td>\n",
       "      <td>2621.324</td>\n",
       "      <td>1929-01-11</td>\n",
       "      <td>1929-01-11</td>\n",
       "      <td>1</td>\n",
       "      <td>LUBW gauge data: Hundersingen</td>\n",
       "      <td>SRID=4326;POINT (9.396086 48.072465)</td>\n",
       "      <td>120</td>\n",
       "      <td>6</td>\n",
       "      <td>4</td>\n",
       "      <td>Donau</td>\n",
       "      <td>Donau</td>\n",
       "    </tr>\n",
       "  </tbody>\n",
       "</table>\n",
       "</div>"
      ],
      "text/plain": [
       "             site waterbody  network  type  usage  distance  catchment  \\\n",
       "0  Kirchen-Hausen     Donau        1     1    1.0  2761.076    758.528   \n",
       "1  Kirchen-Hausen     Donau        1     1    1.0  2761.076    758.528   \n",
       "2       Möhringen     Donau        1     1    1.0  2753.047    826.963   \n",
       "3       Möhringen     Donau        1     1    1.0  2753.047    826.963   \n",
       "4    Hundersingen     Donau        1     1    1.0  2662.716   2621.324   \n",
       "\n",
       "   data_since       since  status                            title  \\\n",
       "0  1922-05-09  1922-01-11       1  LUBW gauge data: Kirchen-Hausen   \n",
       "1  1922-05-09  1922-01-11       1  LUBW gauge data: Kirchen-Hausen   \n",
       "2  1924-01-11  1924-01-11       1       LUBW gauge data: Möhringen   \n",
       "3  1924-01-11  1924-01-11       1       LUBW gauge data: Möhringen   \n",
       "4  1929-01-11  1929-01-11       1    LUBW gauge data: Hundersingen   \n",
       "\n",
       "                               location  external_id  license_id  variable_id  \\\n",
       "0  SRID=4326;POINT (8.679572 47.925516)          105           6            4   \n",
       "1  SRID=4326;POINT (8.679572 47.925516)          105           6           18   \n",
       "2  SRID=4326;POINT (8.760098 47.948970)          106           6            4   \n",
       "3  SRID=4326;POINT (8.760098 47.948970)          106           6           18   \n",
       "4  SRID=4326;POINT (9.396086 48.072465)          120           6            4   \n",
       "\n",
       "   river stream  \n",
       "0  Donau  Donau  \n",
       "1  Donau  Donau  \n",
       "2  Donau  Donau  \n",
       "3  Donau  Donau  \n",
       "4  Donau  Donau  "
      ]
     },
     "execution_count": 15,
     "metadata": {},
     "output_type": "execute_result"
    }
   ],
   "source": [
    "df['river'] = df['waterbody']\n",
    "df['stream'] = df['waterbody']\n",
    "df.head()"
   ]
  },
  {
   "cell_type": "code",
   "execution_count": 16,
   "metadata": {},
   "outputs": [],
   "source": [
    "description = {'site': 'Standort',\n",
    "               'waterbody': 'Gewässer',\n",
    "               'network': 'Messnetz',\n",
    "               'type': 'Pegeltyp',\n",
    "               'usage': 'Nutzung',\n",
    "               'distance': 'Entfernung_mündung',\n",
    "               'catchment': 'Einzugsgebiet_oberirdisch',\n",
    "               'data_since': 'Daten_vorh_seit',\n",
    "               'since': 'Betrieb_von_datum',\n",
    "               'status': 'Status',\n",
    "               'river': 'Fluss',\n",
    "               'stream': 'Fluss'\n",
    "              }"
   ]
  },
  {
   "cell_type": "markdown",
   "metadata": {},
   "source": [
    "The temporal resolution of the discharge and water level data changes from 1-hour resolution to 15-min resolution at the timestep `2016-05-01 00:00:00`.\n",
    "So we need two entries with different timescales for each dataset (`entry.datasource.create_scale()`) and make these two entries an EntryGroup of type `Split dataset`."
   ]
  },
  {
   "cell_type": "code",
   "execution_count": 21,
   "metadata": {},
   "outputs": [],
   "source": [
    "if UPLOAD and False:\n",
    "    for i,e in df.iterrows():\n",
    "        # add the entry twice, because the temporal resolution in the data changes and therefore it has to be split up\n",
    "        entry1 = api.add_entry(session, e.title, lubw.id, e.location, e.variable_id, \n",
    "                               external_id=e.external_id, license=e.license_id, is_partial=False, embargo=False)\n",
    "        entry2 = api.add_entry(session, e.title, lubw.id, e.location, e.variable_id, \n",
    "                               external_id=e.external_id, license=e.license_id, is_partial=False, embargo=False)\n",
    "        \n",
    "        # prepare list of dictionaries containing the details for each entry\n",
    "        details_list = []\n",
    "        for k,v in e.to_dict().items():\n",
    "            \n",
    "            if k not in ['title', 'external_id', 'variable_id', 'license_id', 'location']:\n",
    "                details = {\n",
    "                'key': k,\n",
    "                'value': str(v),\n",
    "                'description': description[k]\n",
    "                }\n",
    "                details_list.append(details)\n",
    "                        \n",
    "        # add the details to the entries\n",
    "        api.add_details_to_entries(session, [entry1], details_list)\n",
    "        api.add_details_to_entries(session, [entry2], details_list)\n",
    "        \n",
    "        # add both entries to the same entry group\n",
    "        entry_group = api.add_group(session, 'Split dataset', \n",
    "                               entry_ids=[entry1.id, entry2.id],\n",
    "                               title=e.title,\n",
    "                               description='Two datasets with the same metadata (same measuring point), covering different temporal range and resolution.'\n",
    "                              )"
   ]
  },
  {
   "cell_type": "code",
   "execution_count": 22,
   "metadata": {},
   "outputs": [
    {
     "name": "stdout",
     "output_type": "stream",
     "text": [
      "Added 988 sets\n"
     ]
    }
   ],
   "source": [
    "entries = api.find_entry(session, author=lubw.id)\n",
    "# for e in entries:\n",
    "#    print(e)\n",
    "print(f'Added {len(entries)} sets')"
   ]
  },
  {
   "cell_type": "markdown",
   "metadata": {},
   "source": [
    "### Create the EntryGroup"
   ]
  },
  {
   "cell_type": "code",
   "execution_count": 24,
   "metadata": {},
   "outputs": [
    {
     "name": "stdout",
     "output_type": "stream",
     "text": [
      "Project LUBW gauge network <ID=495>\n"
     ]
    }
   ],
   "source": [
    "if UPLOAD and False:\n",
    "    lubw_group = api.add_group(session, 'Project', \n",
    "                               entry_ids=[e.id for e in entries],\n",
    "                               title='LUBW gauge network',\n",
    "                               description='The LUBW gauge network dataset contains river water level and discharge data for rivers in baden-wuerttemberg.'\n",
    "                              )\n",
    "print(lubw_group)"
   ]
  },
  {
   "cell_type": "markdown",
   "metadata": {},
   "source": [
    "## Data"
   ]
  },
  {
   "cell_type": "markdown",
   "metadata": {},
   "source": [
    "**Data preprocessing**  \n",
    "1) Convert column 'Zeit' to datetime  \n",
    "2) Drop column 'Geprüft (nein=ungeprüfte Rohdaten)'  \n",
    "3) Find anomalies in the data"
   ]
  },
  {
   "cell_type": "code",
   "execution_count": 25,
   "metadata": {},
   "outputs": [],
   "source": [
    "data_Q = pd.read_csv(pjoin(DATA, \"Landespegel/2018-09-04_00-00_105-Kirchen-Hausen-Donau_Q_hour15minMean.csv\"), sep=';', decimal=',', skiprows=1, encoding='ISO-8859-1')\n",
    "data_Q['Zeit'] = pd.to_datetime(data_Q.Zeit, format='%d.%m.%Y %H:%M')\n",
    "data_Q.drop('Geprüft (nein=ungeprüfte Rohdaten)', axis=1, inplace=True)\n",
    "\n",
    "data_W = pd.read_csv(pjoin(DATA, \"Landespegel/2018-09-04_00-00_105-Kirchen-Hausen-Donau_W_hour15minMean.csv\"), sep=';', decimal=',', skiprows=1, encoding='ISO-8859-1')\n",
    "data_W['Zeit'] = pd.to_datetime(data_W.Zeit, format='%d.%m.%Y %H:%M')\n",
    "data_W.drop('Geprüft (nein=ungeprüfte Rohdaten)', axis=1, inplace=True)"
   ]
  },
  {
   "cell_type": "code",
   "execution_count": 26,
   "metadata": {},
   "outputs": [
    {
     "name": "stdout",
     "output_type": "stream",
     "text": [
      "-999.0 -999\n"
     ]
    },
    {
     "data": {
      "image/png": "[encoded data removed]",
      "text/plain": [
       "<Figure size 432x288 with 1 Axes>"
      ]
     },
     "metadata": {
      "needs_background": "light"
     },
     "output_type": "display_data"
    }
   ],
   "source": [
    "plt.plot(data_Q.Zeit,data_Q.Q)\n",
    "plt.plot(data_W.Zeit,data_W.W)\n",
    "print(min(data_Q.Q), min(data_W.W))"
   ]
  },
  {
   "cell_type": "markdown",
   "metadata": {},
   "source": [
    "Looks like a value of -999.0 represents missing data -> convert to NA  \n",
    "same for W (water level)!"
   ]
  },
  {
   "cell_type": "code",
   "execution_count": 27,
   "metadata": {},
   "outputs": [
    {
     "data": {
      "text/plain": [
       "[<matplotlib.lines.Line2D at 0x7fbf1007cfd0>]"
      ]
     },
     "execution_count": 27,
     "metadata": {},
     "output_type": "execute_result"
    },
    {
     "data": {
      "image/png": "[encoded data removed]",
      "text/plain": [
       "<Figure size 432x288 with 1 Axes>"
      ]
     },
     "metadata": {
      "needs_background": "light"
     },
     "output_type": "display_data"
    }
   ],
   "source": [
    "data_Q = data_Q.where(data_Q.Q != -999.0).dropna()\n",
    "data_W = data_W.where(data_W.W != -999.0).dropna()\n",
    "plt.plot(data_Q.Zeit,data_Q.Q)\n",
    "plt.plot(data_W.Zeit,data_W.W)"
   ]
  },
  {
   "cell_type": "markdown",
   "metadata": {},
   "source": [
    "Create datasource and uploaddata to the corresponding entries:"
   ]
  },
  {
   "cell_type": "code",
   "execution_count": 46,
   "metadata": {
    "scrolled": false
   },
   "outputs": [
    {
     "name": "stdout",
     "output_type": "stream",
     "text": [
      "ID=451 & ID=452: datasource already exists (1/477)\n",
      "ID=239 & ID=240: datasource already exists (2/477)\n",
      "ID=320 & ID=319: datasource already exists (3/477)\n",
      "ID=931 & ID=932: datasource already exists (4/477)\n",
      "ID=768 & ID=767: datasource already exists (5/477)\n",
      "ID=27 & ID=28: datasource already exists (6/477)\n",
      "ID=893 & ID=894: datasource already exists (7/477)\n",
      "done ID=253  loaded 302401 points, ID=254  loaded 82223 points (8/477)\n",
      "done ID=501  loaded 766993 points, ID=502  loaded 82223 points (9/477)\n",
      "done ID=295  loaded 289297 points, ID=296  loaded 82222 points (10/477)\n"
     ]
    },
    {
     "ename": "KeyboardInterrupt",
     "evalue": "",
     "output_type": "error",
     "traceback": [
      "\u001b[0;31m---------------------------------------------------------------------------\u001b[0m",
      "\u001b[0;31mKeyboardInterrupt\u001b[0m                         Traceback (most recent call last)",
      "\u001b[0;32m<ipython-input-46-2112f1bf2e7a>\u001b[0m in \u001b[0;36m<module>\u001b[0;34m\u001b[0m\n\u001b[1;32m     49\u001b[0m             \u001b[0;32mif\u001b[0m \u001b[0mlen\u001b[0m\u001b[0;34m(\u001b[0m\u001b[0mdat1\u001b[0m \u001b[0;34m>\u001b[0m \u001b[0;36m0\u001b[0m\u001b[0;34m)\u001b[0m\u001b[0;34m:\u001b[0m\u001b[0;34m\u001b[0m\u001b[0;34m\u001b[0m\u001b[0m\n\u001b[1;32m     50\u001b[0m                 \u001b[0;31m# add data to entry\u001b[0m\u001b[0;34m\u001b[0m\u001b[0;34m\u001b[0m\u001b[0;34m\u001b[0m\u001b[0m\n\u001b[0;32m---> 51\u001b[0;31m                 \u001b[0me1\u001b[0m\u001b[0;34m.\u001b[0m\u001b[0mimport_data\u001b[0m\u001b[0;34m(\u001b[0m\u001b[0mdat1\u001b[0m\u001b[0;34m)\u001b[0m\u001b[0;34m\u001b[0m\u001b[0;34m\u001b[0m\u001b[0m\n\u001b[0m\u001b[1;32m     52\u001b[0m \u001b[0;34m\u001b[0m\u001b[0m\n\u001b[1;32m     53\u001b[0m                 \u001b[0;31m# add temporal scale\u001b[0m\u001b[0;34m\u001b[0m\u001b[0;34m\u001b[0m\u001b[0;34m\u001b[0m\u001b[0m\n",
      "\u001b[0;32m~/Documents/GitHub/metacatalog/metacatalog/models/entry.py\u001b[0m in \u001b[0;36mimport_data\u001b[0;34m(self, data, **kwargs)\u001b[0m\n\u001b[1;32m    769\u001b[0m             \u001b[0;31m# check if an io_extension is set\u001b[0m\u001b[0;34m\u001b[0m\u001b[0;34m\u001b[0m\u001b[0;34m\u001b[0m\u001b[0m\n\u001b[1;32m    770\u001b[0m             \u001b[0;32mif\u001b[0m \u001b[0mself\u001b[0m\u001b[0;34m.\u001b[0m\u001b[0mio_extension\u001b[0m \u001b[0;32mis\u001b[0m \u001b[0;32mnot\u001b[0m \u001b[0;32mNone\u001b[0m\u001b[0;34m:\u001b[0m\u001b[0;34m\u001b[0m\u001b[0;34m\u001b[0m\u001b[0m\n\u001b[0;32m--> 771\u001b[0;31m                 \u001b[0;32mreturn\u001b[0m \u001b[0mself\u001b[0m\u001b[0;34m.\u001b[0m\u001b[0mio_extension\u001b[0m\u001b[0;34m.\u001b[0m\u001b[0mimport_\u001b[0m\u001b[0;34m(\u001b[0m\u001b[0mdata\u001b[0m\u001b[0;34m,\u001b[0m \u001b[0;34m**\u001b[0m\u001b[0mkwargs\u001b[0m\u001b[0;34m)\u001b[0m\u001b[0;34m\u001b[0m\u001b[0;34m\u001b[0m\u001b[0m\n\u001b[0m\u001b[1;32m    772\u001b[0m \u001b[0;34m\u001b[0m\u001b[0m\n\u001b[1;32m    773\u001b[0m             \u001b[0;31m# if no extension instance, maybe an interface class is set\u001b[0m\u001b[0;34m\u001b[0m\u001b[0;34m\u001b[0m\u001b[0;34m\u001b[0m\u001b[0m\n",
      "\u001b[0;32m~/Documents/GitHub/metacatalog/metacatalog/ext/io/extension.py\u001b[0m in \u001b[0;36mimport_\u001b[0;34m(self, data, **kwargs)\u001b[0m\n\u001b[1;32m     35\u001b[0m \u001b[0;34m\u001b[0m\u001b[0m\n\u001b[1;32m     36\u001b[0m     \u001b[0;32mdef\u001b[0m \u001b[0mimport_\u001b[0m\u001b[0;34m(\u001b[0m\u001b[0mself\u001b[0m\u001b[0;34m,\u001b[0m \u001b[0mdata\u001b[0m\u001b[0;34m,\u001b[0m \u001b[0;34m**\u001b[0m\u001b[0mkwargs\u001b[0m\u001b[0;34m)\u001b[0m\u001b[0;34m:\u001b[0m\u001b[0;34m\u001b[0m\u001b[0;34m\u001b[0m\u001b[0m\n\u001b[0;32m---> 37\u001b[0;31m         \u001b[0;32mreturn\u001b[0m \u001b[0msuper\u001b[0m\u001b[0;34m(\u001b[0m\u001b[0mIOExtension\u001b[0m\u001b[0;34m,\u001b[0m \u001b[0mself\u001b[0m\u001b[0;34m)\u001b[0m\u001b[0;34m.\u001b[0m\u001b[0mimport_\u001b[0m\u001b[0;34m(\u001b[0m\u001b[0mdata\u001b[0m\u001b[0;34m,\u001b[0m \u001b[0;34m**\u001b[0m\u001b[0mkwargs\u001b[0m\u001b[0;34m)\u001b[0m\u001b[0;34m\u001b[0m\u001b[0;34m\u001b[0m\u001b[0m\n\u001b[0m\u001b[1;32m     38\u001b[0m \u001b[0;34m\u001b[0m\u001b[0m\n\u001b[1;32m     39\u001b[0m     \u001b[0;32mdef\u001b[0m \u001b[0mappend\u001b[0m\u001b[0;34m(\u001b[0m\u001b[0mself\u001b[0m\u001b[0;34m,\u001b[0m \u001b[0mdata\u001b[0m\u001b[0;34m,\u001b[0m \u001b[0;34m**\u001b[0m\u001b[0mkwargs\u001b[0m\u001b[0;34m)\u001b[0m\u001b[0;34m:\u001b[0m\u001b[0;34m\u001b[0m\u001b[0;34m\u001b[0m\u001b[0m\n",
      "\u001b[0;32m~/Documents/GitHub/metacatalog/metacatalog/ext/io/interface.py\u001b[0m in \u001b[0;36mimport_\u001b[0;34m(self, data, **kwargs)\u001b[0m\n\u001b[1;32m    135\u001b[0m \u001b[0;34m\u001b[0m\u001b[0m\n\u001b[1;32m    136\u001b[0m         \u001b[0;31m# import the data\u001b[0m\u001b[0;34m\u001b[0m\u001b[0;34m\u001b[0m\u001b[0;34m\u001b[0m\u001b[0m\n\u001b[0;32m--> 137\u001b[0;31m         \u001b[0mimporter\u001b[0m\u001b[0;34m(\u001b[0m\u001b[0mself\u001b[0m\u001b[0;34m.\u001b[0m\u001b[0mentry\u001b[0m\u001b[0;34m,\u001b[0m \u001b[0mself\u001b[0m\u001b[0;34m.\u001b[0m\u001b[0mentry\u001b[0m\u001b[0;34m.\u001b[0m\u001b[0mdatasource\u001b[0m\u001b[0;34m,\u001b[0m \u001b[0mdata\u001b[0m\u001b[0;34m,\u001b[0m \u001b[0;34m**\u001b[0m\u001b[0mkwargs\u001b[0m\u001b[0;34m)\u001b[0m\u001b[0;34m\u001b[0m\u001b[0;34m\u001b[0m\u001b[0m\n\u001b[0m\u001b[1;32m    138\u001b[0m         \u001b[0;32mreturn\u001b[0m \u001b[0mself\u001b[0m\u001b[0;34m.\u001b[0m\u001b[0mafter_import\u001b[0m\u001b[0;34m(\u001b[0m\u001b[0;34m)\u001b[0m\u001b[0;34m\u001b[0m\u001b[0;34m\u001b[0m\u001b[0m\n\u001b[1;32m    139\u001b[0m \u001b[0;34m\u001b[0m\u001b[0m\n",
      "\u001b[0;32m~/Documents/GitHub/metacatalog/metacatalog/ext/io/importer.py\u001b[0m in \u001b[0;36mimport_to_internal_table\u001b[0;34m(entry, datasource, data, precision, force_data_names, **kwargs)\u001b[0m\n\u001b[1;32m    144\u001b[0m         \u001b[0;31m# else import\u001b[0m\u001b[0;34m\u001b[0m\u001b[0;34m\u001b[0m\u001b[0;34m\u001b[0m\u001b[0m\n\u001b[1;32m    145\u001b[0m         \u001b[0mif_exists\u001b[0m \u001b[0;34m=\u001b[0m \u001b[0mkwargs\u001b[0m\u001b[0;34m.\u001b[0m\u001b[0mget\u001b[0m\u001b[0;34m(\u001b[0m\u001b[0;34m'if_exists'\u001b[0m\u001b[0;34m,\u001b[0m \u001b[0;34m'append'\u001b[0m\u001b[0;34m)\u001b[0m\u001b[0;34m\u001b[0m\u001b[0;34m\u001b[0m\u001b[0m\n\u001b[0;32m--> 146\u001b[0;31m         \u001b[0mimp_data\u001b[0m\u001b[0;34m.\u001b[0m\u001b[0mto_sql\u001b[0m\u001b[0;34m(\u001b[0m\u001b[0mtablename\u001b[0m\u001b[0;34m,\u001b[0m \u001b[0msession\u001b[0m\u001b[0;34m.\u001b[0m\u001b[0mbind\u001b[0m\u001b[0;34m,\u001b[0m \u001b[0mindex\u001b[0m\u001b[0;34m=\u001b[0m\u001b[0;32mNone\u001b[0m\u001b[0;34m,\u001b[0m \u001b[0mdtype\u001b[0m\u001b[0;34m=\u001b[0m\u001b[0mdtypes\u001b[0m\u001b[0;34m,\u001b[0m \u001b[0mif_exists\u001b[0m\u001b[0;34m=\u001b[0m\u001b[0mif_exists\u001b[0m\u001b[0;34m)\u001b[0m\u001b[0;34m\u001b[0m\u001b[0;34m\u001b[0m\u001b[0m\n\u001b[0m\u001b[1;32m    147\u001b[0m \u001b[0;34m\u001b[0m\u001b[0m\n\u001b[1;32m    148\u001b[0m \u001b[0;34m\u001b[0m\u001b[0m\n",
      "\u001b[0;32m~/opt/anaconda3/envs/mc_develop/lib/python3.9/site-packages/pandas/core/generic.py\u001b[0m in \u001b[0;36mto_sql\u001b[0;34m(self, name, con, schema, if_exists, index, index_label, chunksize, dtype, method)\u001b[0m\n\u001b[1;32m   2777\u001b[0m         \u001b[0;32mfrom\u001b[0m \u001b[0mpandas\u001b[0m\u001b[0;34m.\u001b[0m\u001b[0mio\u001b[0m \u001b[0;32mimport\u001b[0m \u001b[0msql\u001b[0m\u001b[0;34m\u001b[0m\u001b[0;34m\u001b[0m\u001b[0m\n\u001b[1;32m   2778\u001b[0m \u001b[0;34m\u001b[0m\u001b[0m\n\u001b[0;32m-> 2779\u001b[0;31m         sql.to_sql(\n\u001b[0m\u001b[1;32m   2780\u001b[0m             \u001b[0mself\u001b[0m\u001b[0;34m,\u001b[0m\u001b[0;34m\u001b[0m\u001b[0;34m\u001b[0m\u001b[0m\n\u001b[1;32m   2781\u001b[0m             \u001b[0mname\u001b[0m\u001b[0;34m,\u001b[0m\u001b[0;34m\u001b[0m\u001b[0;34m\u001b[0m\u001b[0m\n",
      "\u001b[0;32m~/opt/anaconda3/envs/mc_develop/lib/python3.9/site-packages/pandas/io/sql.py\u001b[0m in \u001b[0;36mto_sql\u001b[0;34m(frame, name, con, schema, if_exists, index, index_label, chunksize, dtype, method)\u001b[0m\n\u001b[1;32m    599\u001b[0m         )\n\u001b[1;32m    600\u001b[0m \u001b[0;34m\u001b[0m\u001b[0m\n\u001b[0;32m--> 601\u001b[0;31m     pandas_sql.to_sql(\n\u001b[0m\u001b[1;32m    602\u001b[0m         \u001b[0mframe\u001b[0m\u001b[0;34m,\u001b[0m\u001b[0;34m\u001b[0m\u001b[0;34m\u001b[0m\u001b[0m\n\u001b[1;32m    603\u001b[0m         \u001b[0mname\u001b[0m\u001b[0;34m,\u001b[0m\u001b[0;34m\u001b[0m\u001b[0;34m\u001b[0m\u001b[0m\n",
      "\u001b[0;32m~/opt/anaconda3/envs/mc_develop/lib/python3.9/site-packages/pandas/io/sql.py\u001b[0m in \u001b[0;36mto_sql\u001b[0;34m(self, frame, name, if_exists, index, index_label, schema, chunksize, dtype, method)\u001b[0m\n\u001b[1;32m   1409\u001b[0m \u001b[0;34m\u001b[0m\u001b[0m\n\u001b[1;32m   1410\u001b[0m         \u001b[0;32mtry\u001b[0m\u001b[0;34m:\u001b[0m\u001b[0;34m\u001b[0m\u001b[0;34m\u001b[0m\u001b[0m\n\u001b[0;32m-> 1411\u001b[0;31m             \u001b[0mtable\u001b[0m\u001b[0;34m.\u001b[0m\u001b[0minsert\u001b[0m\u001b[0;34m(\u001b[0m\u001b[0mchunksize\u001b[0m\u001b[0;34m,\u001b[0m \u001b[0mmethod\u001b[0m\u001b[0;34m=\u001b[0m\u001b[0mmethod\u001b[0m\u001b[0;34m)\u001b[0m\u001b[0;34m\u001b[0m\u001b[0;34m\u001b[0m\u001b[0m\n\u001b[0m\u001b[1;32m   1412\u001b[0m         \u001b[0;32mexcept\u001b[0m \u001b[0mexc\u001b[0m\u001b[0;34m.\u001b[0m\u001b[0mSQLAlchemyError\u001b[0m \u001b[0;32mas\u001b[0m \u001b[0merr\u001b[0m\u001b[0;34m:\u001b[0m\u001b[0;34m\u001b[0m\u001b[0;34m\u001b[0m\u001b[0m\n\u001b[1;32m   1413\u001b[0m             \u001b[0;31m# GH34431\u001b[0m\u001b[0;34m\u001b[0m\u001b[0;34m\u001b[0m\u001b[0;34m\u001b[0m\u001b[0m\n",
      "\u001b[0;32m~/opt/anaconda3/envs/mc_develop/lib/python3.9/site-packages/pandas/io/sql.py\u001b[0m in \u001b[0;36minsert\u001b[0;34m(self, chunksize, method)\u001b[0m\n\u001b[1;32m    843\u001b[0m \u001b[0;34m\u001b[0m\u001b[0m\n\u001b[1;32m    844\u001b[0m                 \u001b[0mchunk_iter\u001b[0m \u001b[0;34m=\u001b[0m \u001b[0mzip\u001b[0m\u001b[0;34m(\u001b[0m\u001b[0;34m*\u001b[0m\u001b[0;34m[\u001b[0m\u001b[0marr\u001b[0m\u001b[0;34m[\u001b[0m\u001b[0mstart_i\u001b[0m\u001b[0;34m:\u001b[0m\u001b[0mend_i\u001b[0m\u001b[0;34m]\u001b[0m \u001b[0;32mfor\u001b[0m \u001b[0marr\u001b[0m \u001b[0;32min\u001b[0m \u001b[0mdata_list\u001b[0m\u001b[0;34m]\u001b[0m\u001b[0;34m)\u001b[0m\u001b[0;34m\u001b[0m\u001b[0;34m\u001b[0m\u001b[0m\n\u001b[0;32m--> 845\u001b[0;31m                 \u001b[0mexec_insert\u001b[0m\u001b[0;34m(\u001b[0m\u001b[0mconn\u001b[0m\u001b[0;34m,\u001b[0m \u001b[0mkeys\u001b[0m\u001b[0;34m,\u001b[0m \u001b[0mchunk_iter\u001b[0m\u001b[0;34m)\u001b[0m\u001b[0;34m\u001b[0m\u001b[0;34m\u001b[0m\u001b[0m\n\u001b[0m\u001b[1;32m    846\u001b[0m \u001b[0;34m\u001b[0m\u001b[0m\n\u001b[1;32m    847\u001b[0m     def _query_iterator(\n",
      "\u001b[0;32m~/opt/anaconda3/envs/mc_develop/lib/python3.9/site-packages/pandas/io/sql.py\u001b[0m in \u001b[0;36m_execute_insert\u001b[0;34m(self, conn, keys, data_iter)\u001b[0m\n\u001b[1;32m    760\u001b[0m         \"\"\"\n\u001b[1;32m    761\u001b[0m         \u001b[0mdata\u001b[0m \u001b[0;34m=\u001b[0m \u001b[0;34m[\u001b[0m\u001b[0mdict\u001b[0m\u001b[0;34m(\u001b[0m\u001b[0mzip\u001b[0m\u001b[0;34m(\u001b[0m\u001b[0mkeys\u001b[0m\u001b[0;34m,\u001b[0m \u001b[0mrow\u001b[0m\u001b[0;34m)\u001b[0m\u001b[0;34m)\u001b[0m \u001b[0;32mfor\u001b[0m \u001b[0mrow\u001b[0m \u001b[0;32min\u001b[0m \u001b[0mdata_iter\u001b[0m\u001b[0;34m]\u001b[0m\u001b[0;34m\u001b[0m\u001b[0;34m\u001b[0m\u001b[0m\n\u001b[0;32m--> 762\u001b[0;31m         \u001b[0mconn\u001b[0m\u001b[0;34m.\u001b[0m\u001b[0mexecute\u001b[0m\u001b[0;34m(\u001b[0m\u001b[0mself\u001b[0m\u001b[0;34m.\u001b[0m\u001b[0mtable\u001b[0m\u001b[0;34m.\u001b[0m\u001b[0minsert\u001b[0m\u001b[0;34m(\u001b[0m\u001b[0;34m)\u001b[0m\u001b[0;34m,\u001b[0m \u001b[0mdata\u001b[0m\u001b[0;34m)\u001b[0m\u001b[0;34m\u001b[0m\u001b[0;34m\u001b[0m\u001b[0m\n\u001b[0m\u001b[1;32m    763\u001b[0m \u001b[0;34m\u001b[0m\u001b[0m\n\u001b[1;32m    764\u001b[0m     \u001b[0;32mdef\u001b[0m \u001b[0m_execute_insert_multi\u001b[0m\u001b[0;34m(\u001b[0m\u001b[0mself\u001b[0m\u001b[0;34m,\u001b[0m \u001b[0mconn\u001b[0m\u001b[0;34m,\u001b[0m \u001b[0mkeys\u001b[0m\u001b[0;34m,\u001b[0m \u001b[0mdata_iter\u001b[0m\u001b[0;34m)\u001b[0m\u001b[0;34m:\u001b[0m\u001b[0;34m\u001b[0m\u001b[0;34m\u001b[0m\u001b[0m\n",
      "\u001b[0;32m~/opt/anaconda3/envs/mc_develop/lib/python3.9/site-packages/sqlalchemy/engine/base.py\u001b[0m in \u001b[0;36mexecute\u001b[0;34m(self, statement, *multiparams, **params)\u001b[0m\n\u001b[1;32m   1260\u001b[0m             )\n\u001b[1;32m   1261\u001b[0m         \u001b[0;32melse\u001b[0m\u001b[0;34m:\u001b[0m\u001b[0;34m\u001b[0m\u001b[0;34m\u001b[0m\u001b[0m\n\u001b[0;32m-> 1262\u001b[0;31m             \u001b[0;32mreturn\u001b[0m \u001b[0mmeth\u001b[0m\u001b[0;34m(\u001b[0m\u001b[0mself\u001b[0m\u001b[0;34m,\u001b[0m \u001b[0mmultiparams\u001b[0m\u001b[0;34m,\u001b[0m \u001b[0mparams\u001b[0m\u001b[0;34m,\u001b[0m \u001b[0m_EMPTY_EXECUTION_OPTS\u001b[0m\u001b[0;34m)\u001b[0m\u001b[0;34m\u001b[0m\u001b[0;34m\u001b[0m\u001b[0m\n\u001b[0m\u001b[1;32m   1263\u001b[0m \u001b[0;34m\u001b[0m\u001b[0m\n\u001b[1;32m   1264\u001b[0m     \u001b[0;32mdef\u001b[0m \u001b[0m_execute_function\u001b[0m\u001b[0;34m(\u001b[0m\u001b[0mself\u001b[0m\u001b[0;34m,\u001b[0m \u001b[0mfunc\u001b[0m\u001b[0;34m,\u001b[0m \u001b[0mmultiparams\u001b[0m\u001b[0;34m,\u001b[0m \u001b[0mparams\u001b[0m\u001b[0;34m,\u001b[0m \u001b[0mexecution_options\u001b[0m\u001b[0;34m)\u001b[0m\u001b[0;34m:\u001b[0m\u001b[0;34m\u001b[0m\u001b[0;34m\u001b[0m\u001b[0m\n",
      "\u001b[0;32m~/opt/anaconda3/envs/mc_develop/lib/python3.9/site-packages/sqlalchemy/sql/elements.py\u001b[0m in \u001b[0;36m_execute_on_connection\u001b[0;34m(self, connection, multiparams, params, execution_options, _force)\u001b[0m\n\u001b[1;32m    322\u001b[0m     ):\n\u001b[1;32m    323\u001b[0m         \u001b[0;32mif\u001b[0m \u001b[0m_force\u001b[0m \u001b[0;32mor\u001b[0m \u001b[0mself\u001b[0m\u001b[0;34m.\u001b[0m\u001b[0msupports_execution\u001b[0m\u001b[0;34m:\u001b[0m\u001b[0;34m\u001b[0m\u001b[0;34m\u001b[0m\u001b[0m\n\u001b[0;32m--> 324\u001b[0;31m             return connection._execute_clauseelement(\n\u001b[0m\u001b[1;32m    325\u001b[0m                 \u001b[0mself\u001b[0m\u001b[0;34m,\u001b[0m \u001b[0mmultiparams\u001b[0m\u001b[0;34m,\u001b[0m \u001b[0mparams\u001b[0m\u001b[0;34m,\u001b[0m \u001b[0mexecution_options\u001b[0m\u001b[0;34m\u001b[0m\u001b[0;34m\u001b[0m\u001b[0m\n\u001b[1;32m    326\u001b[0m             )\n",
      "\u001b[0;32m~/opt/anaconda3/envs/mc_develop/lib/python3.9/site-packages/sqlalchemy/engine/base.py\u001b[0m in \u001b[0;36m_execute_clauseelement\u001b[0;34m(self, elem, multiparams, params, execution_options)\u001b[0m\n\u001b[1;32m   1449\u001b[0m             \u001b[0mlinting\u001b[0m\u001b[0;34m=\u001b[0m\u001b[0mself\u001b[0m\u001b[0;34m.\u001b[0m\u001b[0mdialect\u001b[0m\u001b[0;34m.\u001b[0m\u001b[0mcompiler_linting\u001b[0m \u001b[0;34m|\u001b[0m \u001b[0mcompiler\u001b[0m\u001b[0;34m.\u001b[0m\u001b[0mWARN_LINTING\u001b[0m\u001b[0;34m,\u001b[0m\u001b[0;34m\u001b[0m\u001b[0;34m\u001b[0m\u001b[0m\n\u001b[1;32m   1450\u001b[0m         )\n\u001b[0;32m-> 1451\u001b[0;31m         ret = self._execute_context(\n\u001b[0m\u001b[1;32m   1452\u001b[0m             \u001b[0mdialect\u001b[0m\u001b[0;34m,\u001b[0m\u001b[0;34m\u001b[0m\u001b[0;34m\u001b[0m\u001b[0m\n\u001b[1;32m   1453\u001b[0m             \u001b[0mdialect\u001b[0m\u001b[0;34m.\u001b[0m\u001b[0mexecution_ctx_cls\u001b[0m\u001b[0;34m.\u001b[0m\u001b[0m_init_compiled\u001b[0m\u001b[0;34m,\u001b[0m\u001b[0;34m\u001b[0m\u001b[0;34m\u001b[0m\u001b[0m\n",
      "\u001b[0;32m~/opt/anaconda3/envs/mc_develop/lib/python3.9/site-packages/sqlalchemy/engine/base.py\u001b[0m in \u001b[0;36m_execute_context\u001b[0;34m(self, dialect, constructor, statement, parameters, execution_options, *args, **kw)\u001b[0m\n\u001b[1;32m   1811\u001b[0m \u001b[0;34m\u001b[0m\u001b[0m\n\u001b[1;32m   1812\u001b[0m         \u001b[0;32mexcept\u001b[0m \u001b[0mBaseException\u001b[0m \u001b[0;32mas\u001b[0m \u001b[0me\u001b[0m\u001b[0;34m:\u001b[0m\u001b[0;34m\u001b[0m\u001b[0;34m\u001b[0m\u001b[0m\n\u001b[0;32m-> 1813\u001b[0;31m             self._handle_dbapi_exception(\n\u001b[0m\u001b[1;32m   1814\u001b[0m                 \u001b[0me\u001b[0m\u001b[0;34m,\u001b[0m \u001b[0mstatement\u001b[0m\u001b[0;34m,\u001b[0m \u001b[0mparameters\u001b[0m\u001b[0;34m,\u001b[0m \u001b[0mcursor\u001b[0m\u001b[0;34m,\u001b[0m \u001b[0mcontext\u001b[0m\u001b[0;34m\u001b[0m\u001b[0;34m\u001b[0m\u001b[0m\n\u001b[1;32m   1815\u001b[0m             )\n",
      "\u001b[0;32m~/opt/anaconda3/envs/mc_develop/lib/python3.9/site-packages/sqlalchemy/engine/base.py\u001b[0m in \u001b[0;36m_handle_dbapi_exception\u001b[0;34m(self, e, statement, parameters, cursor, context)\u001b[0m\n\u001b[1;32m   1996\u001b[0m                 )\n\u001b[1;32m   1997\u001b[0m             \u001b[0;32melse\u001b[0m\u001b[0;34m:\u001b[0m\u001b[0;34m\u001b[0m\u001b[0;34m\u001b[0m\u001b[0m\n\u001b[0;32m-> 1998\u001b[0;31m                 \u001b[0mutil\u001b[0m\u001b[0;34m.\u001b[0m\u001b[0mraise_\u001b[0m\u001b[0;34m(\u001b[0m\u001b[0mexc_info\u001b[0m\u001b[0;34m[\u001b[0m\u001b[0;36m1\u001b[0m\u001b[0;34m]\u001b[0m\u001b[0;34m,\u001b[0m \u001b[0mwith_traceback\u001b[0m\u001b[0;34m=\u001b[0m\u001b[0mexc_info\u001b[0m\u001b[0;34m[\u001b[0m\u001b[0;36m2\u001b[0m\u001b[0;34m]\u001b[0m\u001b[0;34m)\u001b[0m\u001b[0;34m\u001b[0m\u001b[0;34m\u001b[0m\u001b[0m\n\u001b[0m\u001b[1;32m   1999\u001b[0m \u001b[0;34m\u001b[0m\u001b[0m\n\u001b[1;32m   2000\u001b[0m         \u001b[0;32mfinally\u001b[0m\u001b[0;34m:\u001b[0m\u001b[0;34m\u001b[0m\u001b[0;34m\u001b[0m\u001b[0m\n",
      "\u001b[0;32m~/opt/anaconda3/envs/mc_develop/lib/python3.9/site-packages/sqlalchemy/util/compat.py\u001b[0m in \u001b[0;36mraise_\u001b[0;34m(***failed resolving arguments***)\u001b[0m\n\u001b[1;32m    205\u001b[0m \u001b[0;34m\u001b[0m\u001b[0m\n\u001b[1;32m    206\u001b[0m         \u001b[0;32mtry\u001b[0m\u001b[0;34m:\u001b[0m\u001b[0;34m\u001b[0m\u001b[0;34m\u001b[0m\u001b[0m\n\u001b[0;32m--> 207\u001b[0;31m             \u001b[0;32mraise\u001b[0m \u001b[0mexception\u001b[0m\u001b[0;34m\u001b[0m\u001b[0;34m\u001b[0m\u001b[0m\n\u001b[0m\u001b[1;32m    208\u001b[0m         \u001b[0;32mfinally\u001b[0m\u001b[0;34m:\u001b[0m\u001b[0;34m\u001b[0m\u001b[0;34m\u001b[0m\u001b[0m\n\u001b[1;32m    209\u001b[0m             \u001b[0;31m# credit to\u001b[0m\u001b[0;34m\u001b[0m\u001b[0;34m\u001b[0m\u001b[0;34m\u001b[0m\u001b[0m\n",
      "\u001b[0;32m~/opt/anaconda3/envs/mc_develop/lib/python3.9/site-packages/sqlalchemy/engine/base.py\u001b[0m in \u001b[0;36m_execute_context\u001b[0;34m(self, dialect, constructor, statement, parameters, execution_options, *args, **kw)\u001b[0m\n\u001b[1;32m   1748\u001b[0m                             \u001b[0;32mbreak\u001b[0m\u001b[0;34m\u001b[0m\u001b[0;34m\u001b[0m\u001b[0m\n\u001b[1;32m   1749\u001b[0m                 \u001b[0;32mif\u001b[0m \u001b[0;32mnot\u001b[0m \u001b[0mevt_handled\u001b[0m\u001b[0;34m:\u001b[0m\u001b[0;34m\u001b[0m\u001b[0;34m\u001b[0m\u001b[0m\n\u001b[0;32m-> 1750\u001b[0;31m                     self.dialect.do_executemany(\n\u001b[0m\u001b[1;32m   1751\u001b[0m                         \u001b[0mcursor\u001b[0m\u001b[0;34m,\u001b[0m \u001b[0mstatement\u001b[0m\u001b[0;34m,\u001b[0m \u001b[0mparameters\u001b[0m\u001b[0;34m,\u001b[0m \u001b[0mcontext\u001b[0m\u001b[0;34m\u001b[0m\u001b[0;34m\u001b[0m\u001b[0m\n\u001b[1;32m   1752\u001b[0m                     )\n",
      "\u001b[0;32m~/opt/anaconda3/envs/mc_develop/lib/python3.9/site-packages/sqlalchemy/dialects/postgresql/psycopg2.py\u001b[0m in \u001b[0;36mdo_executemany\u001b[0;34m(self, cursor, statement, parameters, context)\u001b[0m\n\u001b[1;32m    908\u001b[0m                 \u001b[0mkwargs\u001b[0m \u001b[0;34m=\u001b[0m \u001b[0;34m{\u001b[0m\u001b[0;34m}\u001b[0m\u001b[0;34m\u001b[0m\u001b[0;34m\u001b[0m\u001b[0m\n\u001b[1;32m    909\u001b[0m             \u001b[0mxtras\u001b[0m \u001b[0;34m=\u001b[0m \u001b[0mself\u001b[0m\u001b[0;34m.\u001b[0m\u001b[0m_psycopg2_extras\u001b[0m\u001b[0;34m(\u001b[0m\u001b[0;34m)\u001b[0m\u001b[0;34m\u001b[0m\u001b[0;34m\u001b[0m\u001b[0m\n\u001b[0;32m--> 910\u001b[0;31m             context._psycopg2_fetched_rows = xtras.execute_values(\n\u001b[0m\u001b[1;32m    911\u001b[0m                 \u001b[0mcursor\u001b[0m\u001b[0;34m,\u001b[0m\u001b[0;34m\u001b[0m\u001b[0;34m\u001b[0m\u001b[0m\n\u001b[1;32m    912\u001b[0m                 \u001b[0mstatement\u001b[0m\u001b[0;34m,\u001b[0m\u001b[0;34m\u001b[0m\u001b[0;34m\u001b[0m\u001b[0m\n",
      "\u001b[0;32m~/opt/anaconda3/envs/mc_develop/lib/python3.9/site-packages/psycopg2/extras.py\u001b[0m in \u001b[0;36mexecute_values\u001b[0;34m(cur, sql, argslist, template, page_size, fetch)\u001b[0m\n\u001b[1;32m   1290\u001b[0m             \u001b[0mparts\u001b[0m\u001b[0;34m.\u001b[0m\u001b[0mappend\u001b[0m\u001b[0;34m(\u001b[0m\u001b[0;34mb','\u001b[0m\u001b[0;34m)\u001b[0m\u001b[0;34m\u001b[0m\u001b[0;34m\u001b[0m\u001b[0m\n\u001b[1;32m   1291\u001b[0m         \u001b[0mparts\u001b[0m\u001b[0;34m[\u001b[0m\u001b[0;34m-\u001b[0m\u001b[0;36m1\u001b[0m\u001b[0;34m:\u001b[0m\u001b[0;34m]\u001b[0m \u001b[0;34m=\u001b[0m \u001b[0mpost\u001b[0m\u001b[0;34m\u001b[0m\u001b[0;34m\u001b[0m\u001b[0m\n\u001b[0;32m-> 1292\u001b[0;31m         \u001b[0mcur\u001b[0m\u001b[0;34m.\u001b[0m\u001b[0mexecute\u001b[0m\u001b[0;34m(\u001b[0m\u001b[0;34mb''\u001b[0m\u001b[0;34m.\u001b[0m\u001b[0mjoin\u001b[0m\u001b[0;34m(\u001b[0m\u001b[0mparts\u001b[0m\u001b[0;34m)\u001b[0m\u001b[0;34m)\u001b[0m\u001b[0;34m\u001b[0m\u001b[0;34m\u001b[0m\u001b[0m\n\u001b[0m\u001b[1;32m   1293\u001b[0m         \u001b[0;32mif\u001b[0m \u001b[0mfetch\u001b[0m\u001b[0;34m:\u001b[0m\u001b[0;34m\u001b[0m\u001b[0;34m\u001b[0m\u001b[0m\n\u001b[1;32m   1294\u001b[0m             \u001b[0mresult\u001b[0m\u001b[0;34m.\u001b[0m\u001b[0mextend\u001b[0m\u001b[0;34m(\u001b[0m\u001b[0mcur\u001b[0m\u001b[0;34m.\u001b[0m\u001b[0mfetchall\u001b[0m\u001b[0;34m(\u001b[0m\u001b[0;34m)\u001b[0m\u001b[0;34m)\u001b[0m\u001b[0;34m\u001b[0m\u001b[0;34m\u001b[0m\u001b[0m\n",
      "\u001b[0;32m~/opt/anaconda3/envs/mc_develop/lib/python3.9/encodings/utf_8.py\u001b[0m in \u001b[0;36mdecode\u001b[0;34m(input, errors)\u001b[0m\n\u001b[1;32m     13\u001b[0m \u001b[0mencode\u001b[0m \u001b[0;34m=\u001b[0m \u001b[0mcodecs\u001b[0m\u001b[0;34m.\u001b[0m\u001b[0mutf_8_encode\u001b[0m\u001b[0;34m\u001b[0m\u001b[0;34m\u001b[0m\u001b[0m\n\u001b[1;32m     14\u001b[0m \u001b[0;34m\u001b[0m\u001b[0m\n\u001b[0;32m---> 15\u001b[0;31m \u001b[0;32mdef\u001b[0m \u001b[0mdecode\u001b[0m\u001b[0;34m(\u001b[0m\u001b[0minput\u001b[0m\u001b[0;34m,\u001b[0m \u001b[0merrors\u001b[0m\u001b[0;34m=\u001b[0m\u001b[0;34m'strict'\u001b[0m\u001b[0;34m)\u001b[0m\u001b[0;34m:\u001b[0m\u001b[0;34m\u001b[0m\u001b[0;34m\u001b[0m\u001b[0m\n\u001b[0m\u001b[1;32m     16\u001b[0m     \u001b[0;32mreturn\u001b[0m \u001b[0mcodecs\u001b[0m\u001b[0;34m.\u001b[0m\u001b[0mutf_8_decode\u001b[0m\u001b[0;34m(\u001b[0m\u001b[0minput\u001b[0m\u001b[0;34m,\u001b[0m \u001b[0merrors\u001b[0m\u001b[0;34m,\u001b[0m \u001b[0;32mTrue\u001b[0m\u001b[0;34m)\u001b[0m\u001b[0;34m\u001b[0m\u001b[0;34m\u001b[0m\u001b[0m\n\u001b[1;32m     17\u001b[0m \u001b[0;34m\u001b[0m\u001b[0m\n",
      "\u001b[0;31mKeyboardInterrupt\u001b[0m: "
     ]
    }
   ],
   "source": [
    "files = glob.glob(pjoin(DATA, 'Landespegel', '*.csv'))\n",
    "# files only containing NaN (-999) values after '2016-05-01 00:00:00':\n",
    "#files.remove('data/Landespegel\\\\2018-09-04_00-00_1307-Weinheim-Weschnitz_Q_hour15minMean.csv')\n",
    "\n",
    "if UPLOAD and False:\n",
    "    for idx, file in enumerate(files):\n",
    "        # read data, drop and rename columns\n",
    "        dat = pd.read_csv(file, sep=';', decimal=',', skiprows=1, encoding='ISO-8859-1')\n",
    "        # convert to datetime, drop unnecessary column\n",
    "        dat.drop('Geprüft (nein=ungeprüfte Rohdaten)', axis=1, inplace=True)\n",
    "        dat.columns = ['tstamp', 'value']\n",
    "        dat['tstamp'] = pd.to_datetime(dat.tstamp, format='%d.%m.%Y %H:%M')\n",
    "        # drop NA values (-999.0)\n",
    "        dat = dat.where(dat.value != -999.0).dropna()\n",
    "        \n",
    "        # split the data at timestep '2016-05-01 00:00:00' as the resolution changes from 1 hour to 15 minutes\n",
    "        dat1 = dat.where(dat.tstamp <= '2016-05-01 00:00:00').dropna()\n",
    "        dat2 = dat.where(dat.tstamp > '2016-05-01 00:00:00').dropna()\n",
    "        \n",
    "        # set tstamp column as index (necessary to use timeseries datasource)\n",
    "        dat1.set_index('tstamp', inplace=True)\n",
    "        dat2.set_index('tstamp', inplace=True)\n",
    "        \n",
    "        # get external ID and variable from file path, find corresponding entry \n",
    "        ext_id = file.split('_00-00_')[1].split('-')[0]\n",
    "        var = file.split('_')[3].split('_hour')[0]\n",
    "    \n",
    "        if var == 'Q':\n",
    "            var_id = 4\n",
    "        elif var == 'W':\n",
    "            var_id = 18\n",
    "            # transform water level from cm to m\n",
    "            dat1.value = dat1.value / 100\n",
    "            dat2.value = dat2.value / 100\n",
    "        else:\n",
    "            print(ext_id, ': variable not found.')\n",
    "        \n",
    "        # find entries: the first entry found is assigned the data with 1-hour resolution, \n",
    "        #               the second entry is assigned the data with 15-min resolution\n",
    "        e1 = api.find_entry(session, variable=var_id, external_id=ext_id)[0]\n",
    "        e2 = api.find_entry(session, variable=var_id, external_id=ext_id)[1]\n",
    "        \n",
    "        # create data source and import data if the data source source does not exist yet \n",
    "        # (makes the upload process restartable as data won´t be uploaded twice if datasource already exists)\n",
    "        if e1.datasource is None and e2.datasource is None:\n",
    "            e1.create_datasource(type=1, path='timeseries', datatype='timeseries', commit=True)\n",
    "            e2.create_datasource(type=1, path='timeseries', datatype='timeseries', commit=True)\n",
    "        \n",
    "            # dat1 and/or dat2 are empty for some stations if the values for one of the periods contain only -999 (these are dropped before)\n",
    "            if len(dat1 > 0):\n",
    "                # add data to entry\n",
    "                e1.import_data(dat1)\n",
    "                \n",
    "                # add temporal scale\n",
    "                e1.datasource.create_scale(\n",
    "                    resolution='60min', \n",
    "                    extent=(dat1.index[0], dat1.index[-1]), \n",
    "                    support=1.0, # not sure \n",
    "                    scale_dimension='temporal'\n",
    "                )\n",
    "                \n",
    "            if len(dat2 > 0):\n",
    "                # add data to entry\n",
    "                e2.import_data(dat2) \n",
    "                \n",
    "                # add temporal scale\n",
    "                e2.datasource.create_scale(\n",
    "                    resolution='15min', \n",
    "                    extent=(dat2.index[0], dat2.index[-1]), \n",
    "                    support=1.0, # not sure \n",
    "                    scale_dimension='temporal'\n",
    "                )\n",
    "            \n",
    "            session.add(e1, e2)\n",
    "            session.commit()\n",
    "            print('done ID=%d  loaded %d points, ID=%d  loaded %d points (%d/%d)' % (e1.id, len(dat1), e2.id, len(dat2), idx+1, len(files)))\n",
    "        else:\n",
    "            print('ID=%d & ID=%d: datasource already exists (%d/%d)' % (e1.id, e2.id, idx+1, len(files)))\n",
    "                \n",
    "else:\n",
    "    print('No data was uploaded')"
   ]
  },
  {
   "cell_type": "code",
   "execution_count": 53,
   "metadata": {},
   "outputs": [
    {
     "ename": "MetadataMissingError",
     "evalue": "Datasource already exists. You can edit that one.",
     "output_type": "error",
     "traceback": [
      "\u001b[0;31m---------------------------------------------------------------------------\u001b[0m",
      "\u001b[0;31mMetadataMissingError\u001b[0m                      Traceback (most recent call last)",
      "\u001b[0;32m<ipython-input-53-5b3a3e149618>\u001b[0m in \u001b[0;36m<module>\u001b[0;34m\u001b[0m\n\u001b[0;32m----> 1\u001b[0;31m \u001b[0me2\u001b[0m\u001b[0;34m.\u001b[0m\u001b[0mcreate_datasource\u001b[0m\u001b[0;34m(\u001b[0m\u001b[0mtype\u001b[0m\u001b[0;34m=\u001b[0m\u001b[0;36m1\u001b[0m\u001b[0;34m,\u001b[0m \u001b[0mpath\u001b[0m\u001b[0;34m=\u001b[0m\u001b[0;34m'timeseries'\u001b[0m\u001b[0;34m,\u001b[0m \u001b[0mdatatype\u001b[0m\u001b[0;34m=\u001b[0m\u001b[0;34m'timeseries'\u001b[0m\u001b[0;34m,\u001b[0m \u001b[0mcommit\u001b[0m\u001b[0;34m=\u001b[0m\u001b[0;32mTrue\u001b[0m\u001b[0;34m)\u001b[0m\u001b[0;34m\u001b[0m\u001b[0;34m\u001b[0m\u001b[0m\n\u001b[0m",
      "\u001b[0;32m~/Documents/GitHub/metacatalog/metacatalog/models/entry.py\u001b[0m in \u001b[0;36mcreate_datasource\u001b[0;34m(self, path, type, datatype, commit, **args)\u001b[0m\n\u001b[1;32m    681\u001b[0m         \u001b[0;31m#\u001b[0m\u001b[0;34m\u001b[0m\u001b[0;34m\u001b[0m\u001b[0;34m\u001b[0m\u001b[0m\n\u001b[1;32m    682\u001b[0m         \u001b[0;32mif\u001b[0m \u001b[0mself\u001b[0m\u001b[0;34m.\u001b[0m\u001b[0mdatasource\u001b[0m \u001b[0;32mis\u001b[0m \u001b[0;32mnot\u001b[0m \u001b[0;32mNone\u001b[0m\u001b[0;34m:\u001b[0m\u001b[0;34m\u001b[0m\u001b[0;34m\u001b[0m\u001b[0m\n\u001b[0;32m--> 683\u001b[0;31m             \u001b[0;32mraise\u001b[0m \u001b[0mMetadataMissingError\u001b[0m\u001b[0;34m(\u001b[0m\u001b[0;34m'Datasource already exists. You can edit that one.'\u001b[0m\u001b[0;34m)\u001b[0m\u001b[0;34m\u001b[0m\u001b[0;34m\u001b[0m\u001b[0m\n\u001b[0m\u001b[1;32m    684\u001b[0m \u001b[0;34m\u001b[0m\u001b[0m\n\u001b[1;32m    685\u001b[0m         \u001b[0;31m# get a session\u001b[0m\u001b[0;34m\u001b[0m\u001b[0;34m\u001b[0m\u001b[0;34m\u001b[0m\u001b[0m\n",
      "\u001b[0;31mMetadataMissingError\u001b[0m: Datasource already exists. You can edit that one."
     ]
    }
   ],
   "source": [
    "e2.create_datasource(type=1, path='timeseries', datatype='timeseries', commit=True)"
   ]
  },
  {
   "cell_type": "code",
   "execution_count": 52,
   "metadata": {},
   "outputs": [
    {
     "data": {
      "text/plain": [
       "<metacatalog.models.datasource.TemporalScale at 0x7fbf5e6cf550>"
      ]
     },
     "execution_count": 52,
     "metadata": {},
     "output_type": "execute_result"
    }
   ],
   "source": [
    "e2.datasource.temporal_scale"
   ]
  },
  {
   "cell_type": "markdown",
   "metadata": {},
   "source": [
    "Empty Entries:\n",
    "\n",
    "| ID  | Entry title  | dat1 (< 05/16) | dat2 (> 05/16) | var | external ID |\n",
    "|---|:---|---|---|---|---|\n",
    "| 366  | Weinheim  |   | empty  | Q  | 1307 |\n",
    "| 30  | Blaubeuren-1  |   | empty  | Q  | 145 |\n",
    "| 429  | Unterlenningen  | empty  |   | Q  | 1500 |\n",
    "| 431  | Unterlenningen  | empty  |   | W  | 1500 |\n",
    "| 522  | Nagold  |   | empty  | Q  | 2452 |\n",
    "| 94  | Eberfingen  |   | empty  | Q  | 356 |\n",
    "| 109  | St. Blasien  |   | empty  | Q  | 368 |\n",
    "| 846  | Weinheim-SKA  |   | empty  | Q  | 62773 |\n",
    "| 892  | Bleibach-WKA  |   | empty  | W  | 76169 |\n",
    "\n",
    "Some additional entries should be empty, as there are more entries (494) than .csv data files (477)!"
   ]
  },
  {
   "cell_type": "code",
   "execution_count": 36,
   "metadata": {
    "scrolled": true
   },
   "outputs": [
    {
     "data": {
      "text/plain": [
       "884088"
      ]
     },
     "execution_count": 36,
     "metadata": {},
     "output_type": "execute_result"
    }
   ],
   "source": [
    "id366 = api.find_entry(session, id=366)[0]\n",
    "id30 = api.find_entry(session, id=30)[0]\n",
    "id429 = api.find_entry(session, id=429)[0]\n",
    "id431 = api.find_entry(session, id=431)[0]\n",
    "id522 = api.find_entry(session, id=522)[0]\n",
    "id94 = api.find_entry(session, id=94)[0]\n",
    "id109 = api.find_entry(session, id=109)[0]\n",
    "id846 = api.find_entry(session, id=846)[0]\n",
    "id892 = api.find_entry(session, id=892)[0]\n",
    "\n",
    "len(id366.get_data() + id30.get_data() + id429.get_data() + id431.get_data() + id522.get_data() + id94.get_data() + id109.get_data() + id846.get_data() + id892.get_data())"
   ]
  },
  {
   "cell_type": "markdown",
   "metadata": {},
   "source": [
    "## Test"
   ]
  },
  {
   "cell_type": "markdown",
   "metadata": {},
   "source": [
    "test: find both entries of a station separately"
   ]
  },
  {
   "cell_type": "code",
   "execution_count": 37,
   "metadata": {},
   "outputs": [
    {
     "data": {
      "image/png": "[encoded data removed]",
      "text/plain": [
       "<Figure size 1152x432 with 1 Axes>"
      ]
     },
     "metadata": {
      "needs_background": "light"
     },
     "output_type": "display_data"
    }
   ],
   "source": [
    "entries = api.find_entry(session, external_id='1137', variable=var_Q.id)\n",
    "\n",
    "for e in entries:\n",
    "    dat = e.get_data()\n",
    "    dat.iloc[:,1].plot(figsize=(16,6))"
   ]
  },
  {
   "cell_type": "markdown",
   "metadata": {},
   "source": [
    "test: find an entry group"
   ]
  },
  {
   "cell_type": "code",
   "execution_count": 38,
   "metadata": {},
   "outputs": [
    {
     "data": {
      "image/png": "[encoded data removed]",
      "text/plain": [
       "<Figure size 1080x360 with 2 Axes>"
      ]
     },
     "metadata": {
      "needs_background": "light"
     },
     "output_type": "display_data"
    }
   ],
   "source": [
    "e_group = api.find_group(session, title='*Ettlingen*')\n",
    "\n",
    "fig, axs = plt.subplots(1, 2, figsize=(15,5))\n",
    "\n",
    "for idx, g in enumerate(e_group):\n",
    "    \n",
    "    for e in g.entries:\n",
    "        dat = e.get_data()\n",
    "        axs[idx].plot(dat.iloc[:,1])\n",
    "        axs[idx].set_title(e.title)\n",
    "        axs[idx].set_ylabel(e.variable.name + ' [' + e.variable.unit.symbol + ']')\n",
    "        axs[idx].set_xlabel('date')"
   ]
  }
 ],
 "metadata": {
  "kernelspec": {
   "display_name": "Python 3",
   "language": "python",
   "name": "python3"
  },
  "language_info": {
   "codemirror_mode": {
    "name": "ipython",
    "version": 3
   },
   "file_extension": ".py",
   "mimetype": "text/x-python",
   "name": "python",
   "nbconvert_exporter": "python",
   "pygments_lexer": "ipython3",
   "version": "3.9.5"
  }
 },
 "nbformat": 4,
 "nbformat_minor": 4
}

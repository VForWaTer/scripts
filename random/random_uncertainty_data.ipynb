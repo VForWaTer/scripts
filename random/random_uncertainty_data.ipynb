{
 "cells": [
  {
   "cell_type": "markdown",
   "metadata": {},
   "source": [
    "# Random uncertainty data"
   ]
  },
  {
   "cell_type": "markdown",
   "metadata": {},
   "source": [
    "This notebook create creates some random uncertainty for data records in the V-FOR-WaTer database to demonstrate the uncertainty analysis capabilities."
   ]
  },
  {
   "cell_type": "code",
   "execution_count": 35,
   "metadata": {},
   "outputs": [],
   "source": [
    "import pandas as pd\n",
    "from metacatalog import api, models"
   ]
  },
  {
   "cell_type": "markdown",
   "metadata": {},
   "source": [
    "Connect the database"
   ]
  },
  {
   "cell_type": "code",
   "execution_count": 3,
   "metadata": {},
   "outputs": [],
   "source": [
    "session = api.connect_database()"
   ]
  },
  {
   "cell_type": "markdown",
   "metadata": {},
   "source": [
    "## User\n",
    "\n",
    "A new user is created, who is holding all the random data. That makes it easier to remove the random data from the database again."
   ]
  },
  {
   "cell_type": "code",
   "execution_count": 9,
   "metadata": {},
   "outputs": [
    {
     "name": "stdout",
     "output_type": "stream",
     "text": [
      "Found: Alfred, E. Neumann <ID=2>\n"
     ]
    }
   ],
   "source": [
    "owner = api.find_person(session, first_name='Alfred, E.', last_name='Neumann', return_iterator=True).first()\n",
    "if owner is None:\n",
    "    owner = models.Person(first_name='Alfred, E.', last_name='Neumann')\n",
    "    session.add(owner)\n",
    "    session.commit()\n",
    "else:\n",
    "    print('Found: %s' % str(owner))"
   ]
  },
  {
   "cell_type": "markdown",
   "metadata": {},
   "source": [
    "### Find Temperature variable"
   ]
  },
  {
   "cell_type": "code",
   "execution_count": 17,
   "metadata": {},
   "outputs": [
    {
     "name": "stdout",
     "output_type": "stream",
     "text": [
      "Using: air temperature [C] <ID=1>\n"
     ]
    }
   ],
   "source": [
    "temperature = api.find_variable(session, name='air temperature', return_iterator=True).one()\n",
    "print('Using: %s' % str(temperature))"
   ]
  },
  {
   "cell_type": "markdown",
   "metadata": {},
   "source": [
    "### Find Licenses"
   ]
  },
  {
   "cell_type": "code",
   "execution_count": 30,
   "metadata": {},
   "outputs": [
    {
     "name": "stdout",
     "output_type": "stream",
     "text": [
      "Using Open Data Commons Open Database License <ID=4>\n"
     ]
    }
   ],
   "source": [
    "lic = api.find_license(session, short_title=\"ODbL\", return_iterator=True).one()\n",
    "print('Using %s' % str(lic))"
   ]
  },
  {
   "cell_type": "markdown",
   "metadata": {},
   "source": [
    "## Entry\n",
    "\n",
    "We build an `Entry` for some example data. The data was recorded with two HOBO sensor in 2018/2019 on my south and north balcony."
   ]
  },
  {
   "cell_type": "code",
   "execution_count": 34,
   "metadata": {},
   "outputs": [],
   "source": [
    "# add the two entries\n",
    "south = api.add_entry(session, 'HOBO test Sensor South', author=owner.id, location=(7.8558,48.019456), \n",
    "                      variable=temperature.id, external_id='10350083', license=lic.id)\n",
    "north = api.add_entry(session, 'HOBO test Sensor North', author=owner.id, location=(7.8559,48.019555), \n",
    "                      variable=temperature.id, external_id='10350083', license=lic.id)\n",
    "\n",
    "# add sensor information\n",
    "api.add_details_to_entries(session, [south, north], sensor_precision=0.5)"
   ]
  },
  {
   "cell_type": "markdown",
   "metadata": {},
   "source": [
    "## Data\n",
    "\n",
    "Upload the data"
   ]
  },
  {
   "cell_type": "code",
   "execution_count": 62,
   "metadata": {},
   "outputs": [],
   "source": [
    "south_data = pd.read_csv('example2.csv', usecols=[0,2], index_col=['tstamp'])\n",
    "north_data = pd.read_csv('example.csv', index_col=['tstamp'])\n",
    "north_data.columns = ['value', 'precision']\n",
    "south_data.columns = ['value']"
   ]
  },
  {
   "cell_type": "code",
   "execution_count": 65,
   "metadata": {},
   "outputs": [],
   "source": [
    "# Create Data sources\n",
    "if north.datasource is None:\n",
    "    north.create_datasource('timeseries', 1, 'timeseries', commit=True)\n",
    "if south.datasource is None:\n",
    "    south.create_datasource('timeseries', 1, 'timeseries', commit=True)"
   ]
  },
  {
   "cell_type": "code",
   "execution_count": null,
   "metadata": {},
   "outputs": [],
   "source": [
    "# Import data\n",
    "south.import_data(south_data)"
   ]
  },
  {
   "cell_type": "code",
   "execution_count": 73,
   "metadata": {},
   "outputs": [],
   "source": [
    "north.import_data(north_data)"
   ]
  }
 ],
 "metadata": {
  "kernelspec": {
   "display_name": "Python 3",
   "language": "python",
   "name": "python3"
  },
  "language_info": {
   "codemirror_mode": {
    "name": "ipython",
    "version": 3
   },
   "file_extension": ".py",
   "mimetype": "text/x-python",
   "name": "python",
   "nbconvert_exporter": "python",
   "pygments_lexer": "ipython3",
   "version": "3.7.7"
  }
 },
 "nbformat": 4,
 "nbformat_minor": 4
}

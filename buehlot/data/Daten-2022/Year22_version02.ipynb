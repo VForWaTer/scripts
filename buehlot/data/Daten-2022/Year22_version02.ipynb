{
 "cells": [
  {
   "cell_type": "code",
   "execution_count": 1,
   "id": "516566d8",
   "metadata": {},
   "outputs": [],
   "source": [
    "import pandas as pd\n",
    "import matplotlib.pyplot as plt\n",
    "import numpy as np\n",
    "import datetime"
   ]
  },
  {
   "cell_type": "code",
   "execution_count": 2,
   "id": "5be9f268",
   "metadata": {},
   "outputs": [],
   "source": [
    "FILENAME = 'Schwabenquelle.csv'"
   ]
  },
  {
   "cell_type": "markdown",
   "id": "e124d528",
   "metadata": {},
   "source": [
    "# Read in data"
   ]
  },
  {
   "cell_type": "markdown",
   "id": "fa2be220",
   "metadata": {},
   "source": [
    "## Read in data for the selected year"
   ]
  },
  {
   "cell_type": "code",
   "execution_count": 3,
   "id": "120dbf77",
   "metadata": {},
   "outputs": [
    {
     "name": "stdout",
     "output_type": "stream",
     "text": [
      "Die Datei 'Schwabenquelle.csv' als Variable data0 existiert in diesem Pfad nicht.\n",
      "Die Datei 'Schwabenquelle.csv' als Variable data[01_23_22] existiert in diesem Pfad nicht.\n",
      "Die Datei 'Schwabenquelle.csv' als Variable data[02_20_22] existiert in diesem Pfad nicht.\n",
      "Die Datei 'Schwabenquelle.csv' als Variable data[12_17_22] existiert in diesem Pfad nicht.\n",
      "Die Datei 'Schwabenquelle.csv' als Variable data01 existiert in diesem Pfad nicht.\n"
     ]
    }
   ],
   "source": [
    "# read in data: december before\n",
    "try:\n",
    "    data0 = pd.read_csv(f'C:\\\\Users\\\\flori\\\\Documents\\\\Uni Bauingenieurwesen\\\\Master\\\\Studentische Hilfskraft Hydrologie\\\\Daten Bühlot\\\\Daten-2021\\\\12_10_21\\\\preprocessing\\\\{FILENAME}', index_col=0, parse_dates=True)\n",
    "except FileNotFoundError:\n",
    "    print(f\"Die Datei '{FILENAME}' als Variable data0 existiert in diesem Pfad nicht.\")\n",
    "\n",
    "# read in data for the selected year\n",
    "FILENAMES = [\n",
    "    '01_23_22',\n",
    "    '02_20_22',\n",
    "    '03_20_22',\n",
    "    '04_29_22',\n",
    "    '05_26_22',\n",
    "    '07_02_22',\n",
    "    '07_30_22',\n",
    "    '08_25_22',\n",
    "    '09_24_22',\n",
    "    '10_22_22',\n",
    "    '11_19_22',\n",
    "    '12_17_22'\n",
    "]\n",
    "\n",
    "data = {}\n",
    "\n",
    "for filename in FILENAMES:\n",
    "    try:\n",
    "        data[filename] = pd.read_csv(f'C:\\\\Users\\\\flori\\\\Documents\\\\Uni Bauingenieurwesen\\\\Master\\\\Studentische Hilfskraft Hydrologie\\\\Daten Bühlot\\\\Daten-2022\\\\{filename}\\\\preprocessing\\\\{FILENAME}', index_col=0, parse_dates=True)\n",
    "    except FileNotFoundError:\n",
    "        print(f\"Die Datei '{FILENAME}' als Variable data[{filename}] existiert in diesem Pfad nicht.\")\n",
    "\n",
    "# read in data: january after\n",
    "try:\n",
    "    data01 = pd.read_csv(f'C:\\\\Users\\\\flori\\\\Documents\\\\Uni Bauingenieurwesen\\\\Master\\\\Studentische Hilfskraft Hydrologie\\\\Daten Bühlot\\\\Daten-2022\\\\01_21_23\\\\preprocessing\\\\{FILENAME}', index_col=0, parse_dates=True)\n",
    "except FileNotFoundError:\n",
    "    print(f\"Die Datei '{FILENAME}' als Variable data01 existiert in diesem Pfad nicht.\")"
   ]
  },
  {
   "cell_type": "markdown",
   "id": "00e749ae",
   "metadata": {},
   "source": [
    "## Read in data for the previous year"
   ]
  },
  {
   "cell_type": "code",
   "execution_count": 4,
   "id": "a83491ec",
   "metadata": {},
   "outputs": [
    {
     "name": "stdout",
     "output_type": "stream",
     "text": [
      "Die Datei 'Schwabenquelle.csv' als Variable data[02_01_21] existiert in diesem Pfad nicht.\n",
      "Die Datei 'Schwabenquelle.csv' als Variable data[07_09_21] existiert in diesem Pfad nicht.\n",
      "Die Datei 'Schwabenquelle.csv' als Variable data[08_12_21] existiert in diesem Pfad nicht.\n",
      "Die Datei 'Schwabenquelle.csv' als Variable data[11_19_21] existiert in diesem Pfad nicht.\n",
      "Die Datei 'Schwabenquelle.csv' als Variable data[12_10_21] existiert in diesem Pfad nicht.\n",
      "Die Datei 'Schwabenquelle.csv' als Variable data03 existiert in diesem Pfad nicht.\n"
     ]
    }
   ],
   "source": [
    "# read in data: december before\n",
    "try:\n",
    "    data02 = pd.read_csv(f'C:\\\\Users\\\\flori\\\\Documents\\\\Uni Bauingenieurwesen\\\\Master\\\\Studentische Hilfskraft Hydrologie\\\\Daten Bühlot\\\\Daten-2020\\\\12_19_20\\\\preprocessing\\\\{FILENAME}', index_col=0, parse_dates=True)\n",
    "except FileNotFoundError:\n",
    "    print(f\"Die Datei '{FILENAME}' als Variable data02 existiert in diesem Pfad nicht.\")\n",
    "\n",
    "# read in data for the selected year\n",
    "FILENAMES = [\n",
    "    '02_01_21',\n",
    "    '03_02_21',\n",
    "    '04_14_21',\n",
    "    '05_08_21',\n",
    "    '06_16_21',\n",
    "    '07_09_21',\n",
    "    '08_12_21',\n",
    "    '09_14_21',\n",
    "    '11_19_21',\n",
    "    '12_10_21'\n",
    "]\n",
    "\n",
    "data = {}\n",
    "\n",
    "for filename in FILENAMES:\n",
    "    try:\n",
    "        data[filename] = pd.read_csv(f'C:\\\\Users\\\\flori\\\\Documents\\\\Uni Bauingenieurwesen\\\\Master\\\\Studentische Hilfskraft Hydrologie\\\\Daten Bühlot\\\\Daten-2021\\\\{filename}\\\\preprocessing\\\\{FILENAME}', index_col=0, parse_dates=True)\n",
    "    except FileNotFoundError:\n",
    "        print(f\"Die Datei '{FILENAME}' als Variable data[{filename}] existiert in diesem Pfad nicht.\")\n",
    "\n",
    "# read in data: january after\n",
    "try:\n",
    "    data03 = pd.read_csv(f'C:\\\\Users\\\\flori\\\\Documents\\\\Uni Bauingenieurwesen\\\\Master\\\\Studentische Hilfskraft Hydrologie\\\\Daten Bühlot\\\\Daten-2022\\\\01_23_22\\\\preprocessing\\\\{FILENAME}', index_col=0, parse_dates=True)\n",
    "except FileNotFoundError:\n",
    "    print(f\"Die Datei '{FILENAME}' als Variable data03 existiert in diesem Pfad nicht.\")"
   ]
  },
  {
   "cell_type": "markdown",
   "id": "6d35a66c",
   "metadata": {},
   "source": [
    "# Graph for the course of temperature"
   ]
  },
  {
   "cell_type": "markdown",
   "id": "7f019cd9",
   "metadata": {},
   "source": [
    "## Over the year"
   ]
  },
  {
   "cell_type": "code",
   "execution_count": 27,
   "id": "2e207766",
   "metadata": {},
   "outputs": [
    {
     "ename": "NameError",
     "evalue": "name 'data0' is not defined",
     "output_type": "error",
     "traceback": [
      "\u001b[1;31m---------------------------------------------------------------------------\u001b[0m",
      "\u001b[1;31mNameError\u001b[0m                                 Traceback (most recent call last)",
      "\u001b[1;32m~\\AppData\\Local\\Temp\\ipykernel_9144\\1976952577.py\u001b[0m in \u001b[0;36m<module>\u001b[1;34m\u001b[0m\n\u001b[0;32m      6\u001b[0m \u001b[1;31m# Daten auf die Achsen plotten\u001b[0m\u001b[1;33m\u001b[0m\u001b[1;33m\u001b[0m\u001b[0m\n\u001b[0;32m      7\u001b[0m data = {\n\u001b[1;32m----> 8\u001b[1;33m     \u001b[1;34m'data0'\u001b[0m\u001b[1;33m:\u001b[0m \u001b[0mdata0\u001b[0m\u001b[1;33m,\u001b[0m\u001b[1;33m\u001b[0m\u001b[1;33m\u001b[0m\u001b[0m\n\u001b[0m\u001b[0;32m      9\u001b[0m     \u001b[1;34m'data01_23_22'\u001b[0m\u001b[1;33m:\u001b[0m \u001b[0mdata\u001b[0m\u001b[1;33m[\u001b[0m\u001b[1;34m'01_23_22'\u001b[0m\u001b[1;33m]\u001b[0m\u001b[1;33m,\u001b[0m\u001b[1;33m\u001b[0m\u001b[1;33m\u001b[0m\u001b[0m\n\u001b[0;32m     10\u001b[0m     \u001b[1;34m'data02_20_22'\u001b[0m\u001b[1;33m:\u001b[0m \u001b[0mdata\u001b[0m\u001b[1;33m[\u001b[0m\u001b[1;34m'02_20_22'\u001b[0m\u001b[1;33m]\u001b[0m\u001b[1;33m,\u001b[0m\u001b[1;33m\u001b[0m\u001b[1;33m\u001b[0m\u001b[0m\n",
      "\u001b[1;31mNameError\u001b[0m: name 'data0' is not defined"
     ]
    },
    {
     "data": {
      "image/png": "[encoded data removed]",
      "text/plain": [
       "<Figure size 2000x600 with 2 Axes>"
      ]
     },
     "metadata": {},
     "output_type": "display_data"
    }
   ],
   "source": [
    "# Diagramm für den Temperaturverlauf erstellen\n",
    "fig, ax1 = plt.subplots(figsize=(20, 6))\n",
    "\n",
    "ax2 = ax1.twiny()\n",
    "\n",
    "# Daten auf die Achsen plotten\n",
    "data = {\n",
    "    'data0': data0,\n",
    "    'data01_23_22': data['01_23_22'],\n",
    "    'data02_20_22': data['02_20_22'],\n",
    "    'data03_20_22': data['03_20_22'],\n",
    "    'data04_29_22': data['04_29_22'],\n",
    "    'data05_26_22': data['05_26_22'],                           # folgendes Problem hier: ich weis nicht wie ich aus den oben eingelesenen Daten nun ein Diagramm erstellen kann. Bzw. ich verstehe nicht \n",
    "    'data07_02_22': data['07_02_22'],                           # genau wie die Dateien oben heißen bzw wie die abgespeichert werden, damit ich sie hier wieder aufrufen kann.\n",
    "    'data07_30_22': data['07_30_22'],\n",
    "    'data08_25_22': data['08_25_22'],\n",
    "    'data09_24_22': data['09_24_22'],\n",
    "    'data10_22_22': data['10_22_22'],\n",
    "    'data11_19_22': data['11_19_22'],\n",
    "    'data12_17_22': data['12_17_22'],\n",
    "    'data1': data1\n",
    "}\n",
    "\n",
    "for key, value in data.items():\n",
    "    try:\n",
    "        ax1.plot(value.index, value['temperature'], 'b.-', markersize=4, label=key)\n",
    "    except NameError:\n",
    "        print(f\"Die Datei '{FILENAME}' als Variable {key} existiert nicht und kann somit nicht im Diagramm angezeigt werden.\")\n",
    "\n",
    "# Achsenlimits\n",
    "ax1.set_xlim([datetime.date(datetime.datetime.now().year-1, 1, 1), datetime.date(datetime.datetime.now().year-1, 12, 31)])\n",
    "ax2.set_xlim([datetime.date(datetime.datetime.now().year-2, 1, 1), datetime.date(datetime.datetime.now().year-2, 12, 31)])\n",
    "\n",
    "# Achsenbeschriftungen\n",
    "ax1.set_xlabel('Date', fontdict={'fontsize': 13}, color='b')\n",
    "ax1.set_ylabel('Temperature in °C', fontdict={'fontsize': 13}, color='black')\n",
    "ax2.set_xlabel('Date', fontdict={'fontsize': 13}, color='r')\n",
    "\n",
    "# Legenden\n",
    "leg1 = ax1.legend(loc='upper left')\n",
    "leg2 = ax2.legend(loc='upper left')\n",
    "\n",
    "# Position der Legenden anpassen\n",
    "leg1.set_bbox_to_anchor((0, 0.8, 1, 0.2))\n",
    "leg2.set_bbox_to_anchor((0, 0.72, 1, 0.2))\n",
    "\n",
    "plt.title('Temperature over Time (Year)', fontdict={'fontweight':'bold', 'fontsize': 15}, y=1.15)\n",
    "\n",
    "plt.show()"
   ]
  },
  {
   "cell_type": "code",
   "execution_count": null,
   "id": "cab92f79",
   "metadata": {},
   "outputs": [],
   "source": []
  }
 ],
 "metadata": {
  "kernelspec": {
   "display_name": "Python 3 (ipykernel)",
   "language": "python",
   "name": "python3"
  },
  "language_info": {
   "codemirror_mode": {
    "name": "ipython",
    "version": 3
   },
   "file_extension": ".py",
   "mimetype": "text/x-python",
   "name": "python",
   "nbconvert_exporter": "python",
   "pygments_lexer": "ipython3",
   "version": "3.9.13"
  }
 },
 "nbformat": 4,
 "nbformat_minor": 5
}
